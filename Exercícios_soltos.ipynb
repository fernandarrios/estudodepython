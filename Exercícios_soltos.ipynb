{
  "nbformat": 4,
  "nbformat_minor": 0,
  "metadata": {
    "colab": {
      "name": "Exercícios_soltos.ipynb",
      "provenance": [],
      "include_colab_link": true
    },
    "kernelspec": {
      "name": "python3",
      "language": "python",
      "display_name": "Python 3"
    },
    "language_info": {
      "name": "python"
    }
  },
  "cells": [
    {
      "cell_type": "markdown",
      "metadata": {
        "id": "view-in-github",
        "colab_type": "text"
      },
      "source": [
        "<a href=\"https://colab.research.google.com/github/fernandarrios/estudodepython/blob/main/Exerc%C3%ADcios_soltos.ipynb\" target=\"_parent\"><img src=\"https://colab.research.google.com/assets/colab-badge.svg\" alt=\"Open In Colab\"/></a>"
      ]
    },
    {
      "cell_type": "code",
      "metadata": {
        "id": "Wm9PLyo0ZUGh"
      },
      "source": [
        "import numpy as np\n",
        "import matplotlib.pyplot as plt\n",
        "from  math import exp"
      ],
      "execution_count": null,
      "outputs": []
    },
    {
      "cell_type": "code",
      "metadata": {
        "id": "ieKTngFqc3vL"
      },
      "source": [
        "def triangle(x_list, a, b, c):\n",
        "    \"\"\"\n",
        "    Recebe parâmetros e retorna os valores do triângulo em X\n",
        "    :param x_list: Lista de valores X\n",
        "    :param a: parametro A\n",
        "    :param b: parametro B\n",
        "    :param c: parametro C\n",
        "    :return: lista de valores Y\n",
        "    \"\"\"\n",
        "    y_list = []\n",
        "    for x in x_list:\n",
        "        if a < x <= b:\n",
        "          y_list.append((x-a)/(b-a))\n",
        "        elif b < x <= c:\n",
        "          y_list.append((c-x)/(c-b))\n",
        "        else:\n",
        "          y_list.append(0)\n",
        "    return y_list"
      ],
      "execution_count": null,
      "outputs": []
    },
    {
      "cell_type": "code",
      "metadata": {
        "colab": {
          "base_uri": "https://localhost:8080/",
          "height": 283
        },
        "id": "7dUSrlVYCR73",
        "outputId": "64c81b09-e977-48c9-c1d3-3b1bc9194e15"
      },
      "source": [
        "x_arange = np.arange(0, 10, 0.05)\n",
        "y = triangle(x_arange, 3, 4, 8)\n",
        "plt.plot(x_arange,y)\n",
        "plt.show()"
      ],
      "execution_count": null,
      "outputs": [
        {
          "output_type": "display_data",
          "data": {
            "text/plain": [
              "<Figure size 432x288 with 1 Axes>"
            ],
            "image/png": "[encoded data removed]"
          },
          "metadata": {
            "tags": [],
            "needs_background": "light"
          }
        }
      ]
    },
    {
      "cell_type": "code",
      "metadata": {
        "id": "bERfD2H0qvwQ"
      },
      "source": [
        "#Gráfico do trapézio\n",
        "\n",
        "def trapezoidal(x_list, a, b, c, d):\n",
        "  y_list = []\n",
        "  for x in x_list:\n",
        "    if a < x <= b:\n",
        "      y_list.append((x-a)/(b-a))\n",
        "    elif b < x <= c:\n",
        "      y_list.append(1) \n",
        "    elif c < x <= d:\n",
        "      y_list.append((d-x)/(d-c))\n",
        "    else:\n",
        "      y_list.append(0)\n",
        "  return y_list"
      ],
      "execution_count": null,
      "outputs": []
    },
    {
      "cell_type": "code",
      "metadata": {
        "id": "yKhoKu30u5TK",
        "outputId": "003d9e31-65b2-4fa1-9fad-a954e6031fd9"
      },
      "source": [
        "y1 = trapezoidal(x_arange, 3, 4, 8, 9)\n",
        "plt.plot(x_arange, y1)\n",
        "plt.show()"
      ],
      "execution_count": null,
      "outputs": [
        {
          "output_type": "display_data",
          "data": {
            "text/plain": [
              "<Figure size 432x288 with 1 Axes>"
            ],
            "image/png": "[encoded data removed]"
          },
          "metadata": {
            "tags": [],
            "needs_background": "light"
          }
        }
      ]
    },
    {
      "cell_type": "code",
      "metadata": {
        "id": "XY68VT15Af3w"
      },
      "source": [
        "y = 2\n",
        "x = 8\n",
        "\n",
        "temp = x #Temp é uma variável temporária. Sempre que for usar, pode  usar 'temp' ou 'tmp'\n",
        "x = y\n",
        "y = temp"
      ],
      "execution_count": null,
      "outputs": []
    },
    {
      "cell_type": "code",
      "metadata": {
        "colab": {
          "base_uri": "https://localhost:8080/"
        },
        "id": "YmfI8htjAq8C",
        "outputId": "56000ebb-bc80-459a-dfcc-f5bb725128b6"
      },
      "source": [
        "print(x,y)"
      ],
      "execution_count": null,
      "outputs": [
        {
          "output_type": "stream",
          "text": [
            "2 8\n"
          ],
          "name": "stdout"
        }
      ]
    },
    {
      "cell_type": "code",
      "metadata": {
        "id": "tkrAls-nCa-6"
      },
      "source": [
        "#Outra maneira, só python\n",
        "\n",
        "x, y = y, x"
      ],
      "execution_count": null,
      "outputs": []
    },
    {
      "cell_type": "code",
      "metadata": {
        "colab": {
          "base_uri": "https://localhost:8080/"
        },
        "id": "nE4zyA4RCoJ3",
        "outputId": "d4741e34-9a54-4685-cd7a-688005374408"
      },
      "source": [
        "print(x,y)"
      ],
      "execution_count": null,
      "outputs": [
        {
          "output_type": "stream",
          "text": [
            "8 2\n"
          ],
          "name": "stdout"
        }
      ]
    },
    {
      "cell_type": "code",
      "metadata": {
        "id": "UhSyx3erDHzr"
      },
      "source": [
        "list_to_be_reversed = [1, 2, 3, 4, 5, 6]\n"
      ],
      "execution_count": null,
      "outputs": []
    },
    {
      "cell_type": "code",
      "metadata": {
        "colab": {
          "base_uri": "https://localhost:8080/"
        },
        "id": "I-DmrgsJDi3M",
        "outputId": "214d94a9-9dbf-4262-9118-0b47477364b0"
      },
      "source": [
        "#list_to_be_reversed.reverse() #.reverse() não retorna nada, reverte na lista original\n",
        "(range(len(list_to_be_reversed) - 1))"
      ],
      "execution_count": null,
      "outputs": [
        {
          "output_type": "execute_result",
          "data": {
            "text/plain": [
              "range(0, 4)"
            ]
          },
          "metadata": {
            "tags": []
          },
          "execution_count": 9
        }
      ]
    },
    {
      "cell_type": "code",
      "metadata": {
        "colab": {
          "base_uri": "https://localhost:8080/"
        },
        "id": "bjD8et2uDzaO",
        "outputId": "6c91057f-814c-45e4-a00e-7f3f78c1c884"
      },
      "source": [
        "#Refazer para reforçar\n",
        "list_reversed = []          \n",
        "for i in range(len(list_to_be_reversed)-1, -1, -1):\n",
        "    list_reversed.append(list_to_be_reversed[i])\n",
        "print(list_reversed)"
      ],
      "execution_count": null,
      "outputs": [
        {
          "output_type": "stream",
          "text": [
            "[5, 4, 3, 2, 1]\n"
          ],
          "name": "stdout"
        }
      ]
    },
    {
      "cell_type": "code",
      "metadata": {
        "colab": {
          "base_uri": "https://localhost:8080/"
        },
        "id": "-Xx64WcodKJr",
        "outputId": "8293b6fa-3462-4fe5-cc0f-e92b877060b9"
      },
      "source": [
        "for i in range(len(list_to_be_reversed)//2):\n",
        "  print(list_to_be_reversed[i], \"->\", list_to_be_reversed[-(i+1)])\n",
        "  list_to_be_reversed[i], list_to_be_reversed[-(i+1)] = list_to_be_reversed[-(i+1)], list_to_be_reversed[i]\n",
        "print(list_to_be_reversed)"
      ],
      "execution_count": null,
      "outputs": [
        {
          "output_type": "stream",
          "text": [
            "1 -> 6\n",
            "2 -> 5\n",
            "3 -> 4\n",
            "[6, 5, 4, 3, 2, 1]\n"
          ],
          "name": "stdout"
        }
      ]
    },
    {
      "cell_type": "code",
      "metadata": {
        "id": "D_S3dP5TFJeN"
      },
      "source": [
        "# Equação Gaussiana\n",
        "def gauss(x_list, center, sigma):\n",
        "    return [exp((-1/2) * ((x-center)/sigma)**2) for x in x_list]"
      ],
      "execution_count": null,
      "outputs": []
    },
    {
      "cell_type": "code",
      "metadata": {
        "colab": {
          "base_uri": "https://localhost:8080/",
          "height": 265
        },
        "id": "Qt3dxud0LIzS",
        "outputId": "fea16c2f-6688-48d4-b7ae-e82daf7db240"
      },
      "source": [
        "y1 = gauss(x_arange, 5, .5)\n",
        "y2 = gauss(x_arange, 5, 1)\n",
        "y3 = gauss(x_arange, 5, 2)\n",
        "y4 = gauss(x_arange, 5, 3)\n",
        "plt.plot(x_arange, y1)\n",
        "plt.plot(x_arange, y2)\n",
        "plt.plot(x_arange, y3)\n",
        "plt.plot(x_arange, y4)\n",
        "plt.show()"
      ],
      "execution_count": null,
      "outputs": [
        {
          "output_type": "display_data",
          "data": {
            "text/plain": [
              "<Figure size 432x288 with 1 Axes>"
            ],
            "image/png": "[encoded data removed]"
          },
          "metadata": {
            "tags": [],
            "needs_background": "light"
          }
        }
      ]
    }
  ]
}