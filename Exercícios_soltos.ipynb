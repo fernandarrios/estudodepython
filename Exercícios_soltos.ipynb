{
  "nbformat": 4,
  "nbformat_minor": 0,
  "metadata": {
    "colab": {
      "name": "Exercícios soltos",
      "provenance": [],
      "authorship_tag": "ABX9TyNKJse0ayEAc4qFqKtrHmxx",
      "include_colab_link": true
    },
    "kernelspec": {
      "name": "python3",
      "display_name": "Python 3"
    },
    "language_info": {
      "name": "python"
    }
  },
  "cells": [
    {
      "cell_type": "markdown",
      "metadata": {
        "id": "view-in-github",
        "colab_type": "text"
      },
      "source": [
        "<a href=\"https://colab.research.google.com/github/fernandarrios/estudodepython/blob/main/Exerc%C3%ADcios_soltos.ipynb\" target=\"_parent\"><img src=\"https://colab.research.google.com/assets/colab-badge.svg\" alt=\"Open In Colab\"/></a>"
      ]
    },
    {
      "cell_type": "code",
      "metadata": {
        "id": "Wm9PLyo0ZUGh"
      },
      "source": [
        "import numpy as np\n",
        "import matplotlib.pyplot as plt"
      ],
      "execution_count": 2,
      "outputs": []
    },
    {
      "cell_type": "code",
      "metadata": {
        "id": "ieKTngFqc3vL"
      },
      "source": [
        "#Gráfico do triângulo\n",
        "x_arange= np.arange(0,10,0.05)\n",
        "\n",
        "def triangle(x_list, a,b,c):\n",
        "  y_list = []\n",
        "  for x in x_list:\n",
        "    if x <= a:\n",
        "      y_list.append(0) \n",
        "    elif a < x <= b:\n",
        "      y_list.append((x-a)/(b-a))\n",
        "    elif b < x <= c:\n",
        "      y_list.append((c-x)/(c-b))\n",
        "    elif c < x:\n",
        "      y_list.append(0)\n",
        "  return y_list"
      ],
      "execution_count": 61,
      "outputs": []
    },
    {
      "cell_type": "code",
      "metadata": {
        "id": "QZFBxQCW9SNl"
      },
      "source": [
        "y = triangle(x_arange, 3, 4, 8)\n"
      ],
      "execution_count": 62,
      "outputs": []
    },
    {
      "cell_type": "code",
      "metadata": {
        "colab": {
          "base_uri": "https://localhost:8080/",
          "height": 283
        },
        "id": "7dUSrlVYCR73",
        "outputId": "64c81b09-e977-48c9-c1d3-3b1bc9194e15"
      },
      "source": [
        "plt.plot(x_arange,y)\n"
      ],
      "execution_count": 63,
      "outputs": [
        {
          "output_type": "execute_result",
          "data": {
            "text/plain": [
              "[<matplotlib.lines.Line2D at 0x7f475feb9e10>]"
            ]
          },
          "metadata": {
            "tags": []
          },
          "execution_count": 63
        },
        {
          "output_type": "display_data",
          "data": {
            "image/png": "[encoded data removed]",
            "text/plain": [
              "<Figure size 432x288 with 1 Axes>"
            ]
          },
          "metadata": {
            "tags": [],
            "needs_background": "light"
          }
        }
      ]
    },
    {
      "cell_type": "code",
      "metadata": {
        "id": "bERfD2H0qvwQ"
      },
      "source": [
        "#Gráfico do trapézio\n",
        "x_arrange = np.arange(0,10,0.05)\n",
        "def trapezoidal(x_list,a,b,c,d):\n",
        "  y_list = []\n",
        "  for x in x_list:\n",
        "    if x <= a:\n",
        "      y_list.append(0)\n",
        "    elif a < x <= b:\n",
        "      y_list.append((x-a)/(b-a))\n",
        "    elif b < x <= c:\n",
        "      y_list.append(1) \n",
        "    elif c < x <= d:\n",
        "      y_list.append((d-x)/(d-c))\n",
        "    elif d < x:\n",
        "      y_list.append(0)\n",
        "  return y_list"
      ],
      "execution_count": 19,
      "outputs": []
    },
    {
      "cell_type": "code",
      "metadata": {
        "id": "yKhoKu30u5TK"
      },
      "source": [
        "y1 = trapezoidal(x_arrange, 3,4,8,9)\n",
        "y1"
      ],
      "execution_count": null,
      "outputs": []
    },
    {
      "cell_type": "code",
      "metadata": {
        "colab": {
          "base_uri": "https://localhost:8080/",
          "height": 283
        },
        "id": "02ys5ZUL57q1",
        "outputId": "f4b6e3a6-77fe-4947-cc55-0859cb6aaded"
      },
      "source": [
        "plt.plot(x_arrange,y1)"
      ],
      "execution_count": 21,
      "outputs": [
        {
          "output_type": "execute_result",
          "data": {
            "text/plain": [
              "[<matplotlib.lines.Line2D at 0x7fc4fa47fa50>]"
            ]
          },
          "metadata": {
            "tags": []
          },
          "execution_count": 21
        },
        {
          "output_type": "display_data",
          "data": {
            "image/png": "[encoded data removed]",
            "text/plain": [
              "<Figure size 432x288 with 1 Axes>"
            ]
          },
          "metadata": {
            "tags": [],
            "needs_background": "light"
          }
        }
      ]
    },
    {
      "cell_type": "code",
      "metadata": {
        "id": "XY68VT15Af3w"
      },
      "source": [
        "y = 2\n",
        "x = 8\n",
        "\n",
        "temp = x #Temp é uma variável temporária. Sempre que for usar, pode  usar 'temp' ou 'tmp'\n",
        "x = y\n",
        "y = temp"
      ],
      "execution_count": 2,
      "outputs": []
    },
    {
      "cell_type": "code",
      "metadata": {
        "colab": {
          "base_uri": "https://localhost:8080/"
        },
        "id": "YmfI8htjAq8C",
        "outputId": "56000ebb-bc80-459a-dfcc-f5bb725128b6"
      },
      "source": [
        "print(x,y)"
      ],
      "execution_count": 3,
      "outputs": [
        {
          "output_type": "stream",
          "text": [
            "2 8\n"
          ],
          "name": "stdout"
        }
      ]
    },
    {
      "cell_type": "code",
      "metadata": {
        "id": "tkrAls-nCa-6"
      },
      "source": [
        "#Outra maneira, só python\n",
        "\n",
        "x, y = y, x"
      ],
      "execution_count": 8,
      "outputs": []
    },
    {
      "cell_type": "code",
      "metadata": {
        "colab": {
          "base_uri": "https://localhost:8080/"
        },
        "id": "nE4zyA4RCoJ3",
        "outputId": "d4741e34-9a54-4685-cd7a-688005374408"
      },
      "source": [
        "print(x,y)"
      ],
      "execution_count": 9,
      "outputs": [
        {
          "output_type": "stream",
          "text": [
            "8 2\n"
          ],
          "name": "stdout"
        }
      ]
    },
    {
      "cell_type": "code",
      "metadata": {
        "id": "UhSyx3erDHzr"
      },
      "source": [
        "list_to_be_reversed = [1, 2, 3, 4, 5, 6]\n"
      ],
      "execution_count": 26,
      "outputs": []
    },
    {
      "cell_type": "code",
      "metadata": {
        "colab": {
          "base_uri": "https://localhost:8080/"
        },
        "id": "I-DmrgsJDi3M",
        "outputId": "214d94a9-9dbf-4262-9118-0b47477364b0"
      },
      "source": [
        "#list_to_be_reversed.reverse() #.reverse() não retorna nada, reverte na lista original\n",
        "(range(len(list_to_be_reversed) - 1))"
      ],
      "execution_count": 9,
      "outputs": [
        {
          "output_type": "execute_result",
          "data": {
            "text/plain": [
              "range(0, 4)"
            ]
          },
          "metadata": {
            "tags": []
          },
          "execution_count": 9
        }
      ]
    },
    {
      "cell_type": "code",
      "metadata": {
        "colab": {
          "base_uri": "https://localhost:8080/"
        },
        "id": "bjD8et2uDzaO",
        "outputId": "6c91057f-814c-45e4-a00e-7f3f78c1c884"
      },
      "source": [
        "#Refazer para reforçar\n",
        "list_reversed = []          \n",
        "for i in range(len(list_to_be_reversed)-1, -1, -1):\n",
        "    list_reversed.append(list_to_be_reversed[i])\n",
        "print(list_reversed)"
      ],
      "execution_count": 19,
      "outputs": [
        {
          "output_type": "stream",
          "text": [
            "[5, 4, 3, 2, 1]\n"
          ],
          "name": "stdout"
        }
      ]
    },
    {
      "cell_type": "code",
      "metadata": {
        "colab": {
          "base_uri": "https://localhost:8080/"
        },
        "id": "-Xx64WcodKJr",
        "outputId": "8293b6fa-3462-4fe5-cc0f-e92b877060b9"
      },
      "source": [
        "for i in range(len(list_to_be_reversed)//2):\n",
        "  print(list_to_be_reversed[i], \"->\", list_to_be_reversed[-(i+1)])\n",
        "  list_to_be_reversed[i], list_to_be_reversed[-(i+1)] = list_to_be_reversed[-(i+1)], list_to_be_reversed[i]\n",
        "print(list_to_be_reversed)"
      ],
      "execution_count": 27,
      "outputs": [
        {
          "output_type": "stream",
          "text": [
            "1 -> 6\n",
            "2 -> 5\n",
            "3 -> 4\n",
            "[6, 5, 4, 3, 2, 1]\n"
          ],
          "name": "stdout"
        }
      ]
    }
  ]
}