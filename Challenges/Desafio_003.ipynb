{
  "nbformat": 4,
  "nbformat_minor": 0,
  "metadata": {
    "colab": {
      "name": "Desafio 003",
      "provenance": []
    },
    "kernelspec": {
      "name": "python3",
      "display_name": "Python 3"
    },
    "language_info": {
      "name": "python"
    }
  },
  "cells": [
    {
      "cell_type": "markdown",
      "metadata": {
        "id": "9Kl6K5MY3iOV"
      },
      "source": [
        "**Desafio 003:**\n",
        "\n",
        "Crie um script python e tente mostrar a soma entre eles.\n",
        "\n",
        "\n",
        "*Corrigido*\n"
      ]
    },
    {
      "cell_type": "code",
      "metadata": {
        "colab": {
          "base_uri": "https://localhost:8080/"
        },
        "id": "tUOm-7U33ibN",
        "outputId": "df31ad0c-85e6-41ee-c3de-c6ccf6dd6006"
      },
      "source": [
        "a = 7\n",
        "b = 8\n",
        "s = a+b\n",
        "print(s)"
      ],
      "execution_count": 3,
      "outputs": [
        {
          "output_type": "stream",
          "text": [
            "15\n"
          ],
          "name": "stdout"
        }
      ]
    },
    {
      "cell_type": "code",
      "metadata": {
        "colab": {
          "base_uri": "https://localhost:8080/"
        },
        "id": "9qMst3Er4xdt",
        "outputId": "aa7db332-97d9-4c23-db6f-2261a0d08e1f"
      },
      "source": [
        "c = input('Digite um número que deseja somar: ')\n",
        "d = input('Digite um número que deseja somar: ')\n",
        "soma = c + d\n",
        "print('A soma entre ',c,' e ',d,' é : ',soma)\n",
        "\n",
        "#Nesse caso, ele somou as strings porque eu não coloquei o ``` int ``` no começo, não indicando assim que o valor inserido é um número.8"
      ],
      "execution_count": 4,
      "outputs": [
        {
          "output_type": "stream",
          "text": [
            "Digite um número que deseja somar: 8\n",
            "Digite um número que deseja somar: 9\n",
            "A soma entre  8  e  9  é :  89\n"
          ],
          "name": "stdout"
        }
      ]
    },
    {
      "cell_type": "code",
      "metadata": {
        "colab": {
          "base_uri": "https://localhost:8080/"
        },
        "id": "DPL0ULMw42nT",
        "outputId": "fcbfc55b-ef2f-4f93-bfcc-d691a9725105"
      },
      "source": [
        "d = int(input('Digite um número que deseja somar: '))\n",
        "e = int(input('Digite um número que deseja somar: '))\n",
        "soma = d + e\n",
        "print(f'A soma entre {d} e {e} é {soma}')"
      ],
      "execution_count": 5,
      "outputs": [
        {
          "output_type": "stream",
          "text": [
            "Digite um número que deseja somar: 8\n",
            "Digite um número que deseja somar: 9\n",
            "A soma entre 8 e 9 é 17\n"
          ],
          "name": "stdout"
        }
      ]
    },
    {
      "cell_type": "code",
      "metadata": {
        "id": "3RiwQ9MK40jJ"
      },
      "source": [
        "def soma(e,f):\n",
        "  e = int(input('Digite um número que deseja somar: '))\n",
        "  f = int(input('Digite um número que deseja somar: '))\n",
        "  soma = e + f\n",
        "  print('A soma entre ',e,' e ',f,' é : ',soma)"
      ],
      "execution_count": 6,
      "outputs": []
    },
    {
      "cell_type": "code",
      "metadata": {
        "colab": {
          "base_uri": "https://localhost:8080/"
        },
        "id": "BcOaON_E4198",
        "outputId": "ba89aab4-198f-4953-985b-50d192ae1c29"
      },
      "source": [
        "soma(a,b)"
      ],
      "execution_count": 7,
      "outputs": [
        {
          "output_type": "stream",
          "text": [
            "Digite um número que deseja somar: 1\n",
            "Digite um número que deseja somar: 4\n",
            "A soma entre  1  e  4  é :  5\n"
          ],
          "name": "stdout"
        }
      ]
    }
  ]
}