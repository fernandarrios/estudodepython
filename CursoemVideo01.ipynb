{
  "nbformat": 4,
  "nbformat_minor": 0,
  "metadata": {
    "colab": {
      "name": "CursoemVideo01",
      "provenance": [],
      "authorship_tag": "ABX9TyPPOqSNBolqT0MNXhqX2EkX",
      "include_colab_link": true
    },
    "kernelspec": {
      "display_name": "Python 3",
      "name": "python3"
    },
    "language_info": {
      "name": "python"
    }
  },
  "cells": [
    {
      "cell_type": "markdown",
      "metadata": {
        "id": "view-in-github",
        "colab_type": "text"
      },
      "source": [
        "<a href=\"https://colab.research.google.com/github/fernandarrios/estudodepython/blob/main/CursoemVideo01.ipynb\" target=\"_parent\"><img src=\"https://colab.research.google.com/assets/colab-badge.svg\" alt=\"Open In Colab\"/></a>"
      ]
    },
    {
      "cell_type": "markdown",
      "metadata": {
        "id": "1fpdoLuwytag"
      },
      "source": [
        "#Python Básico\n",
        "\n",
        "Estudo de Python realizado no site do [Curso em Vídeo](https://www.cursoemvideo.com/course/python-3-mundo-1/). \n",
        "\n",
        "Ministrado pelo Gustavo Guanabara."
      ]
    },
    {
      "cell_type": "markdown",
      "metadata": {
        "id": "aeKgQR-zwi85"
      },
      "source": [
        "###**IMPORTANTE**\n",
        "\n",
        "O Python não dar erro não significa que o código está certo, apenas que não houve um erro de sintaxe."
      ]
    },
    {
      "cell_type": "markdown",
      "metadata": {
        "id": "BeCyS_TMyREC"
      },
      "source": [
        "###Listas"
      ]
    },
    {
      "cell_type": "markdown",
      "metadata": {
        "id": "_WBLXt6Bz2aK"
      },
      "source": [
        "**Lista de sinalizações utilizadas no Python e suas respectivas funções**\n",
        "\n",
        "\n",
        " Sinalização |    Função  \n",
        "----------------- | -----------------\n",
        " \" \"  ou  ' '  | Definir caractere\n",
        " (   )         | Definir a função\n",
        "=              | Atribui um valor para a variável\n",
        ",              | Separação de variáveis\n",
        "+              | Adição\n",
        "-              | Subtração\n",
        "*              | Multiplicação\n",
        "/              | Divisão\n",
        "**             | Potência\n",
        "//             | Divisão Inteira\n",
        "%              | Resto da divisão\n",
        "==             | Igual\n",
        "**(1/2)        | Raiz quadrada\n",
        ":>*20*         | Alinhamento para a direita\n",
        ":<*20*         | Alinhamento para a esquerda  \n",
        ":^*20*         | Alinhamento centralizado\n"
      ]
    },
    {
      "cell_type": "markdown",
      "metadata": {
        "id": "RH-N-4latYAy"
      },
      "source": [
        "**Ordem de precedência no Python**\n",
        "\n",
        "\n",
        " Ordem |    Operação    |  Símbolo \n",
        "-------|----------------|----------------------\n",
        "1      | Parênteses     |  ( )\n",
        "2      | Potenciação    |  **\n",
        "3      | Multiplicação  | *\n",
        "3      | Divisão        | /\n",
        "3      | Divisão inteira | //\n",
        "3      | Resto da divisão | %\n",
        "4      | Soma             | +\n",
        "4      | Subtração        | -\n",
        "\n",
        "\n",
        "\n",
        "  "
      ]
    },
    {
      "cell_type": "markdown",
      "metadata": {
        "id": "emoTMVPm1K37"
      },
      "source": [
        "**Lista de comandos utilizados no Python e suas respectivas funções**\n",
        "\n",
        "Comando | Função do comando\n",
        "------- | -----------------\n",
        "``` print```| mostrar na tela\n",
        "``` input ``` | Função que faz com que outra pessoas atribua os valores \n",
        "``` int ```   | Valores inteiros\n",
        "``` float ``` | Números Reais (Números de ponto flutuante\n",
        "``` bool ```  | Valores lógicos\n",
        "``` str ```   |  Valores caracteres ou string\n",
        "```type() ``` | Mostra o tipo da variável\n",
        "``` .is- ``` | Método de teste de type\n",
        "``` end=''``` | Adiciona um espaço ao invés de uma nova linha entre dois+ ```print()```\n",
        "```\\n ```   | Nova linha \n",
        "``` import...from``` | Importa bibliotecas, módulos e funcionalidade (Imorta a biblioteca inteira\n",
        "```from...import```| Importa apenas aquele item específico da biblioteca\n"
      ]
    },
    {
      "cell_type": "markdown",
      "metadata": {
        "id": "C_dSGuIsvsWH"
      },
      "source": [
        "###Documentações:\n",
        "\n",
        "- [Math](https://docs.python.org/pt-br/3/library/math.html)\n",
        "\n",
        "- [Random](https://docs.python.org/3/library/random.html)\n",
        "\n",
        "- [Emoji](https://pypi.org/project/emoji/)\n",
        "\n",
        "- [Pygame](https://www.pygame.org/news)\n",
        "\n",
        "- [IPython](https://ipython.org/)\n",
        "\n",
        "- [Librosa](https://librosa.org/doc/latest/index.html)"
      ]
    },
    {
      "cell_type": "markdown",
      "metadata": {
        "id": "OzdOa8WDUWmV"
      },
      "source": [
        "### Testes e repetições de exemplos"
      ]
    },
    {
      "cell_type": "code",
      "metadata": {
        "colab": {
          "base_uri": "https://localhost:8080/"
        },
        "id": "bG3BC1Vcykw8",
        "outputId": "8583d5d0-054a-4550-9826-4fe5dc032f8e"
      },
      "source": [
        "print('7 + 4') #Mostra os caracteres na tela\n",
        "print(7 + 4) #Realiza a função de soma"
      ],
      "execution_count": null,
      "outputs": [
        {
          "output_type": "stream",
          "text": [
            "7 + 4\n",
            "11\n"
          ],
          "name": "stdout"
        }
      ]
    },
    {
      "cell_type": "code",
      "metadata": {
        "colab": {
          "base_uri": "https://localhost:8080/"
        },
        "id": "923JlnEi1240",
        "outputId": "a696cab9-009f-4826-ea35-112fb93def17"
      },
      "source": [
        "print('7' + '4') #soma das strings 7 e 4 resultando no 74"
      ],
      "execution_count": null,
      "outputs": [
        {
          "output_type": "stream",
          "text": [
            "74\n"
          ],
          "name": "stdout"
        }
      ]
    },
    {
      "cell_type": "code",
      "metadata": {
        "colab": {
          "base_uri": "https://localhost:8080/"
        },
        "id": "8Bq1A9wc3rfg",
        "outputId": "c2399cc9-bd58-4106-8cbe-e55c2bfc1161"
      },
      "source": [
        "nome = 'Fernanda'\n",
        "idade = 23\n",
        "peso = 68.8\n",
        "print(nome, idade, peso)"
      ],
      "execution_count": null,
      "outputs": [
        {
          "output_type": "stream",
          "text": [
            "Fernanda 23 68.8\n"
          ],
          "name": "stdout"
        }
      ]
    },
    {
      "cell_type": "code",
      "metadata": {
        "colab": {
          "base_uri": "https://localhost:8080/"
        },
        "id": "IxHSzLQk5I99",
        "outputId": "23ddca25-c5f3-4765-c71c-c4d261a9b861"
      },
      "source": [
        "#Interatividade com o usuário\n",
        "nome = input('Qual é o seu nome? ')\n",
        "idade = input('Quantos anos você tem? ')\n",
        "peso = input('Quanto você pesa? ')\n",
        "print(nome, idade, peso)"
      ],
      "execution_count": null,
      "outputs": [
        {
          "output_type": "stream",
          "text": [
            "Qual é o seu nome? Maria\n",
            "Quantos anos você tem? 30\n",
            "Quanto você pesa? 70\n",
            "Maria 30 70\n"
          ],
          "name": "stdout"
        }
      ]
    },
    {
      "cell_type": "code",
      "metadata": {
        "colab": {
          "base_uri": "https://localhost:8080/"
        },
        "id": "Cw8gZ6ugQyGc",
        "outputId": "98de9bb2-03ff-41d9-8113-012e204e675d"
      },
      "source": [
        "f = input('Digite algo: ')\n",
        "print(f.isnumeric())"
      ],
      "execution_count": null,
      "outputs": [
        {
          "output_type": "stream",
          "text": [
            "Digite algo: f\n",
            "False\n"
          ],
          "name": "stdout"
        }
      ]
    },
    {
      "cell_type": "code",
      "metadata": {
        "colab": {
          "base_uri": "https://localhost:8080/"
        },
        "id": "ZJ50rSG2UbrZ",
        "outputId": "41a0c487-54c3-4063-b259-b0ee15ca0217"
      },
      "source": [
        "alpha = 'x'\n",
        "print(alpha.isalpha())\n",
        "delta = 7\n",
        "print(alpha.isalnum())\n",
        "\n"
      ],
      "execution_count": null,
      "outputs": [
        {
          "output_type": "stream",
          "text": [
            "True\n",
            "True\n"
          ],
          "name": "stdout"
        }
      ]
    },
    {
      "cell_type": "code",
      "metadata": {
        "colab": {
          "base_uri": "https://localhost:8080/"
        },
        "id": "X5i50lF4vsKl",
        "outputId": "1e3dea58-ecd9-4989-96fc-1eec86dc62f0"
      },
      "source": [
        "5+3*2"
      ],
      "execution_count": null,
      "outputs": [
        {
          "output_type": "execute_result",
          "data": {
            "text/plain": [
              "11"
            ]
          },
          "metadata": {
            "tags": []
          },
          "execution_count": 1
        }
      ]
    },
    {
      "cell_type": "code",
      "metadata": {
        "colab": {
          "base_uri": "https://localhost:8080/"
        },
        "id": "83csf6J-vxBr",
        "outputId": "0ada531b-6552-42e9-fc46-f914448ddf1a"
      },
      "source": [
        "(5+3)*2"
      ],
      "execution_count": null,
      "outputs": [
        {
          "output_type": "execute_result",
          "data": {
            "text/plain": [
              "16"
            ]
          },
          "metadata": {
            "tags": []
          },
          "execution_count": 2
        }
      ]
    },
    {
      "cell_type": "code",
      "metadata": {
        "colab": {
          "base_uri": "https://localhost:8080/"
        },
        "id": "Q1tufhqvv3Sn",
        "outputId": "95fb0cb0-5033-46cb-c21b-69924f64eee1"
      },
      "source": [
        "3*5+4**2"
      ],
      "execution_count": null,
      "outputs": [
        {
          "output_type": "execute_result",
          "data": {
            "text/plain": [
              "31"
            ]
          },
          "metadata": {
            "tags": []
          },
          "execution_count": 3
        }
      ]
    },
    {
      "cell_type": "code",
      "metadata": {
        "colab": {
          "base_uri": "https://localhost:8080/"
        },
        "id": "B5TsxMy0v5cl",
        "outputId": "c95ea85f-d28f-494f-ff90-07d001bd6399"
      },
      "source": [
        "(3*5)+4**2"
      ],
      "execution_count": null,
      "outputs": [
        {
          "output_type": "execute_result",
          "data": {
            "text/plain": [
              "31"
            ]
          },
          "metadata": {
            "tags": []
          },
          "execution_count": 4
        }
      ]
    },
    {
      "cell_type": "code",
      "metadata": {
        "colab": {
          "base_uri": "https://localhost:8080/"
        },
        "id": "q_BlPJAvv9Zc",
        "outputId": "6fe8605c-29f7-4335-99bc-91a48f6626a7"
      },
      "source": [
        "3*(5+4)**2"
      ],
      "execution_count": null,
      "outputs": [
        {
          "output_type": "execute_result",
          "data": {
            "text/plain": [
              "243"
            ]
          },
          "metadata": {
            "tags": []
          },
          "execution_count": 5
        }
      ]
    },
    {
      "cell_type": "code",
      "metadata": {
        "colab": {
          "base_uri": "https://localhost:8080/"
        },
        "id": "yVkMd3A7wBhR",
        "outputId": "cbfeacaa-fbd8-49de-d721-62ccf4b91443"
      },
      "source": [
        "3*5+(4**2)"
      ],
      "execution_count": null,
      "outputs": [
        {
          "output_type": "execute_result",
          "data": {
            "text/plain": [
              "31"
            ]
          },
          "metadata": {
            "tags": []
          },
          "execution_count": 6
        }
      ]
    },
    {
      "cell_type": "code",
      "metadata": {
        "colab": {
          "base_uri": "https://localhost:8080/"
        },
        "id": "IMGOXyPby56q",
        "outputId": "26e3b053-1f25-4dff-9241-67f531937062"
      },
      "source": [
        "#alinhamento\n",
        "#normal\n",
        "nome = input('Qual é o seu nome?')\n",
        "#print(f'Prazer te conhecer {nome}!')\n",
        "\n",
        "#20 espaços depois do nome\n",
        "#print(f'Prazer te conhecer {nome:20}!')\n",
        "\n",
        "#20 espaços à direita do nome\n",
        "#print(f'Prazer te conhecer {nome:>20}!')\n",
        "\n",
        "#20 espaços à esquerda do nome\n",
        "#print(f'Prazer te conhecer {nome:<20}!')\n",
        "\n",
        "#Centralizado\n",
        "#print(f'Prazer te conhecer {nome:^20}!')\n",
        "\n",
        "#Centralizado e estilizado\n",
        "print(f'Prazer te conhecer {nome:*^20}')"
      ],
      "execution_count": null,
      "outputs": [
        {
          "output_type": "stream",
          "text": [
            "Qual é o seu nome?ana\n",
            "Prazer te conhecer ********ana*********\n"
          ],
          "name": "stdout"
        }
      ]
    },
    {
      "cell_type": "code",
      "metadata": {
        "colab": {
          "base_uri": "https://localhost:8080/"
        },
        "id": "NtYyfuEi1tKu",
        "outputId": "f24b7751-003d-45d6-f4e8-ca15fecb36eb"
      },
      "source": [
        "n1 = int(input('Digite um valor: '))\n",
        "n2 = int(input('Digite outro valor: '))\n",
        "s = n1 + n2\n",
        "m = n1 * n2\n",
        "d = n1 / n2\n",
        "di = n1 // n2\n",
        "e = n1 ** n2\n",
        "print(f'A soma é {s} e a divisão é {d:.3}', end='')\n",
        "print(f'A divisão inteira é {di} \\n potencia é {e}')"
      ],
      "execution_count": null,
      "outputs": [
        {
          "output_type": "stream",
          "text": [
            "Digite um valor: 8\n",
            "Digite outro valor: 9\n",
            "A soma é 17 e a divisão é 0.889A divisão inteira é 0 \n",
            " potencia é 134217728\n"
          ],
          "name": "stdout"
        }
      ]
    },
    {
      "cell_type": "code",
      "metadata": {
        "colab": {
          "base_uri": "https://localhost:8080/"
        },
        "id": "tdGLVmEwzSLR",
        "outputId": "4fb7666b-e78a-497c-c4d1-e527713a1d2a"
      },
      "source": [
        "import math\n",
        "num = int(input('Digite um número: '))\n",
        "raiz = math.sqrt(num)\n",
        "print(f'A raiz quadrada de {num} é igual a {math.ceil(raiz)} ')"
      ],
      "execution_count": null,
      "outputs": [
        {
          "output_type": "stream",
          "text": [
            "Digite um número: 29\n",
            "A raiz quadrada de 29 é igual a 6 \n"
          ],
          "name": "stdout"
        }
      ]
    },
    {
      "cell_type": "code",
      "metadata": {
        "colab": {
          "base_uri": "https://localhost:8080/"
        },
        "id": "mgjzjxZU2SMt",
        "outputId": "3d5554ca-8374-4728-ad37-771c14f2691c"
      },
      "source": [
        "from math import sqrt\n",
        "num1 = int(input('Digite um número: '))\n",
        "raizq = sqrt(num1)\n",
        "print(f'A raiz quadrada de {num1} é {math.floor(raizq)}.')\n"
      ],
      "execution_count": null,
      "outputs": [
        {
          "output_type": "stream",
          "text": [
            "Digite um número: 29\n",
            "A raiz quadrada de 29 é 5.\n"
          ],
          "name": "stdout"
        }
      ]
    },
    {
      "cell_type": "code",
      "metadata": {
        "colab": {
          "base_uri": "https://localhost:8080/"
        },
        "id": "9DcM37eB5QNl",
        "outputId": "cb4138dd-6e5b-4f2a-ce66-86806770578e"
      },
      "source": [
        "import random\n",
        "num2 = random.random()\n",
        "print(num2)"
      ],
      "execution_count": null,
      "outputs": [
        {
          "output_type": "stream",
          "text": [
            "0.3020692563092442\n"
          ],
          "name": "stdout"
        }
      ]
    },
    {
      "cell_type": "code",
      "metadata": {
        "colab": {
          "base_uri": "https://localhost:8080/"
        },
        "id": "uSTUE6sc7zJo",
        "outputId": "dcde6565-09cb-46ff-c6bf-8e27fae11eec"
      },
      "source": [
        "!pip install emoji\n",
        "import emoji"
      ],
      "execution_count": null,
      "outputs": [
        {
          "output_type": "stream",
          "text": [
            "Collecting emoji\n",
            "\u001b[?25l  Downloading https://files.pythonhosted.org/packages/24/fa/b3368f41b95a286f8d300e323449ab4e86b85334c2e0b477e94422b8ed0f/emoji-1.2.0-py3-none-any.whl (131kB)\n",
            "\u001b[K     |████████████████████████████████| 133kB 5.1MB/s \n",
            "\u001b[?25hInstalling collected packages: emoji\n",
            "Successfully installed emoji-1.2.0\n"
          ],
          "name": "stdout"
        }
      ]
    },
    {
      "cell_type": "code",
      "metadata": {
        "colab": {
          "base_uri": "https://localhost:8080/"
        },
        "id": "nckOQrPF8sfM",
        "outputId": "417176a2-8e3e-4bd3-cee2-a0015fc375ca"
      },
      "source": [
        "import emoji\n",
        "print(emoji.emojize('Python é muito útil  :snake:', use_aliases=True))"
      ],
      "execution_count": null,
      "outputs": [
        {
          "output_type": "stream",
          "text": [
            "Python é muito útil  🐍\n"
          ],
          "name": "stdout"
        }
      ]
    },
    {
      "cell_type": "markdown",
      "metadata": {
        "id": "nbPkUoaNBD6o"
      },
      "source": [
        "###Desafios:"
      ]
    },
    {
      "cell_type": "markdown",
      "metadata": {
        "id": "iF9BLqrn69ix"
      },
      "source": [
        "**Desafio 001:**\n",
        "\n",
        "Crie um script de python que leia o nome de uma pessoa e mostre uma mensagem de boas-vindas de acordo com o valor digitado. \n",
        "\n",
        "*Certo*\n"
      ]
    },
    {
      "cell_type": "code",
      "metadata": {
        "colab": {
          "base_uri": "https://localhost:8080/"
        },
        "id": "bbt0wVpS7RGZ",
        "outputId": "f0387902-01f3-4887-e418-e929914b7a7a"
      },
      "source": [
        "nome = input('Notamos que é o seu primeiro acesso aqui. Qual o seu nome? ')\n",
        "print(nome,', seja muito bem-vindo(a)!')"
      ],
      "execution_count": null,
      "outputs": [
        {
          "output_type": "stream",
          "text": [
            "Notamos que é o seu primeiro acesso aqui. Qual o seu nome? luiza\n",
            "luiza , seja muito bem-vindo(a)!\n"
          ],
          "name": "stdout"
        }
      ]
    },
    {
      "cell_type": "markdown",
      "metadata": {
        "id": "5DTHKyOq7xOP"
      },
      "source": [
        "**Desafio 002:**\n",
        "\n",
        "Crie um script python que leia o dia, o mês e o ano de nascimento de uma pessoa e mostre com a data formatada.\n",
        "\n",
        "*Certo*"
      ]
    },
    {
      "cell_type": "code",
      "metadata": {
        "colab": {
          "base_uri": "https://localhost:8080/"
        },
        "id": "2AtbNKj-8MP-",
        "outputId": "fb06f879-414b-46c7-f6b6-2209170faac3"
      },
      "source": [
        "nome = (input('Qual o seu nome? '))\n",
        "dia =  int(input('Qual o dia do seu nascimento? '))\n",
        "mes = int(input('Qual o mês do seu nascimento? '))\n",
        "ano= int(input('Qual o ano do seu nascimento? '))\n",
        "print(nome,' sua data de nascimento é: ',dia,'/',mes,'/',ano)\n"
      ],
      "execution_count": null,
      "outputs": [
        {
          "output_type": "stream",
          "text": [
            "Qual o seu nome? Fernanda\n",
            "Qual o dia do seu nascimento? 27\n",
            "Qual o mês do seu nascimento? 07\n",
            "Qual o ano do seu nascimento? 1997\n",
            "Fernanda  sua data de nascimento é:  27 / 7 / 1997\n"
          ],
          "name": "stdout"
        }
      ]
    },
    {
      "cell_type": "markdown",
      "metadata": {
        "id": "kuEq8jNb7zUf"
      },
      "source": [
        "**Desafio 003:**\n",
        "\n",
        "Crie um script python e tente mostrar a soma entre eles.\n",
        "\n",
        "\n",
        "*Corrigido*"
      ]
    },
    {
      "cell_type": "code",
      "metadata": {
        "colab": {
          "base_uri": "https://localhost:8080/"
        },
        "id": "g4eej1iURPYT",
        "outputId": "8b710585-106c-4486-aa12-3666c6ba8d32"
      },
      "source": [
        "a = 7\n",
        "b = 8\n",
        "s = a+b\n",
        "print(s)"
      ],
      "execution_count": null,
      "outputs": [
        {
          "output_type": "stream",
          "text": [
            "15\n"
          ],
          "name": "stdout"
        }
      ]
    },
    {
      "cell_type": "code",
      "metadata": {
        "colab": {
          "base_uri": "https://localhost:8080/"
        },
        "id": "HAQGBziVRVhI",
        "outputId": "1f3b3669-a8de-4ce1-ee5d-d7947daebf8a"
      },
      "source": [
        "c = input('Digite um número que deseja somar: ')\n",
        "d = input('Digite um número que deseja somar: ')\n",
        "soma = c + d\n",
        "print('A soma entre ',c,' e ',d,' é : ',soma)\n",
        "\n",
        "#Nesse caso, ele somou as strings porque eu não coloquei o ``` int ``` no começo, não indicando assim que o valor inserido é um número."
      ],
      "execution_count": null,
      "outputs": [
        {
          "output_type": "stream",
          "text": [
            "Digite um número que deseja somar: 8\n",
            "Digite um número que deseja somar: 4\n",
            "A soma entre  8  e  4  é :  84\n"
          ],
          "name": "stdout"
        }
      ]
    },
    {
      "cell_type": "code",
      "metadata": {
        "id": "kegj5kcnR1wl"
      },
      "source": [
        "def soma(e,f):\n",
        "  e = int(input('Digite um número que deseja somar: '))\n",
        "  f = int(input('Digite um número que deseja somar: '))\n",
        "  soma = e + f\n",
        "  print('A soma entre ',e,' e ',f,' é : ',soma)"
      ],
      "execution_count": null,
      "outputs": []
    },
    {
      "cell_type": "code",
      "metadata": {
        "colab": {
          "base_uri": "https://localhost:8080/"
        },
        "id": "wRMUB4LUR_R_",
        "outputId": "19ad5356-ca7d-4feb-aebc-c123ee53516d"
      },
      "source": [
        "soma(a,b)"
      ],
      "execution_count": null,
      "outputs": [
        {
          "output_type": "stream",
          "text": [
            "Digite um número que deseja somar: 8\n",
            "Digite um número que deseja somar: 8\n",
            "A soma entre  8  e  8  é :  16\n"
          ],
          "name": "stdout"
        }
      ]
    },
    {
      "cell_type": "code",
      "metadata": {
        "colab": {
          "base_uri": "https://localhost:8080/"
        },
        "id": "72tw2Rh5Phog",
        "outputId": "7d9e3950-5074-433c-deee-db6e071f3744"
      },
      "source": [
        "d = int(input('Digite um número que deseja somar: '))\n",
        "e = int(input('Digite um número que deseja somar: '))\n",
        "soma = d + e\n",
        "print(f'A soma entre {d} e {e} é {soma}')"
      ],
      "execution_count": null,
      "outputs": [
        {
          "output_type": "stream",
          "text": [
            "Digite um número que deseja somar: 8\n",
            "Digite um número que deseja somar: 5\n",
            "A soma entre 8 e 5 é 13\n"
          ],
          "name": "stdout"
        }
      ]
    },
    {
      "cell_type": "markdown",
      "metadata": {
        "id": "FvZswiMvYHpS"
      },
      "source": [
        "**Desafio 004:**\n",
        "\n",
        "Faça um programa que leia algo pelo teclado e mostre na tela seu tipo primitivo e todas as informações possíveis sobre ele.\n",
        "\n",
        "\n",
        "*Certo*"
      ]
    },
    {
      "cell_type": "code",
      "metadata": {
        "colab": {
          "base_uri": "https://localhost:8080/"
        },
        "id": "qaaEuCFSYglW",
        "outputId": "dac728fc-ebcc-456d-e293-73f086516e44"
      },
      "source": [
        "algo = 'a'\n",
        "type(algo)"
      ],
      "execution_count": null,
      "outputs": [
        {
          "output_type": "execute_result",
          "data": {
            "text/plain": [
              "str"
            ]
          },
          "metadata": {
            "tags": []
          },
          "execution_count": 21
        }
      ]
    },
    {
      "cell_type": "code",
      "metadata": {
        "colab": {
          "base_uri": "https://localhost:8080/"
        },
        "id": "RByv4c_qYnEG",
        "outputId": "b024441d-2c13-4c91-ef14-df37f4d424d3"
      },
      "source": [
        "print(algo.isalnum())"
      ],
      "execution_count": null,
      "outputs": [
        {
          "output_type": "stream",
          "text": [
            "True\n"
          ],
          "name": "stdout"
        }
      ]
    },
    {
      "cell_type": "code",
      "metadata": {
        "colab": {
          "base_uri": "https://localhost:8080/"
        },
        "id": "GbzoBW3XYth8",
        "outputId": "9ee13ee6-49e7-4a02-85b4-527949f60cb6"
      },
      "source": [
        "print(algo.isalpha())"
      ],
      "execution_count": null,
      "outputs": [
        {
          "output_type": "stream",
          "text": [
            "True\n"
          ],
          "name": "stdout"
        }
      ]
    },
    {
      "cell_type": "code",
      "metadata": {
        "colab": {
          "base_uri": "https://localhost:8080/"
        },
        "id": "vce5N-sKYwcn",
        "outputId": "7f4854e6-2870-4622-e8c3-aa0231fa3f91"
      },
      "source": [
        "print(algo.isascii())"
      ],
      "execution_count": null,
      "outputs": [
        {
          "output_type": "stream",
          "text": [
            "True\n"
          ],
          "name": "stdout"
        }
      ]
    },
    {
      "cell_type": "code",
      "metadata": {
        "colab": {
          "base_uri": "https://localhost:8080/"
        },
        "id": "CdRsh6-BY0TA",
        "outputId": "b3d53717-8363-4ccd-8931-9ffbd4c96d78"
      },
      "source": [
        "print(algo.isdecimal())"
      ],
      "execution_count": null,
      "outputs": [
        {
          "output_type": "stream",
          "text": [
            "False\n"
          ],
          "name": "stdout"
        }
      ]
    },
    {
      "cell_type": "code",
      "metadata": {
        "colab": {
          "base_uri": "https://localhost:8080/"
        },
        "id": "uKaL1Ii5Y3cy",
        "outputId": "92d358de-8d54-4732-f762-199922ef2825"
      },
      "source": [
        "print(algo.isdigit())"
      ],
      "execution_count": null,
      "outputs": [
        {
          "output_type": "stream",
          "text": [
            "False\n"
          ],
          "name": "stdout"
        }
      ]
    },
    {
      "cell_type": "code",
      "metadata": {
        "colab": {
          "base_uri": "https://localhost:8080/"
        },
        "id": "lq5jLtpFZEut",
        "outputId": "43b01625-0b93-49f5-ebc2-d76c91a692c7"
      },
      "source": [
        "print(algo.isidentifier())"
      ],
      "execution_count": null,
      "outputs": [
        {
          "output_type": "stream",
          "text": [
            "True\n"
          ],
          "name": "stdout"
        }
      ]
    },
    {
      "cell_type": "code",
      "metadata": {
        "colab": {
          "base_uri": "https://localhost:8080/"
        },
        "id": "y92ICEK-ZHo_",
        "outputId": "c7e4c60d-67fb-4a77-a222-59563d32f3a1"
      },
      "source": [
        "print(algo.islower())"
      ],
      "execution_count": null,
      "outputs": [
        {
          "output_type": "stream",
          "text": [
            "True\n"
          ],
          "name": "stdout"
        }
      ]
    },
    {
      "cell_type": "code",
      "metadata": {
        "colab": {
          "base_uri": "https://localhost:8080/"
        },
        "id": "l2rVcNgPZOJy",
        "outputId": "52706166-ecb5-469d-e0fb-63b05b800f7b"
      },
      "source": [
        "print(algo.isnumeric())"
      ],
      "execution_count": null,
      "outputs": [
        {
          "output_type": "stream",
          "text": [
            "False\n"
          ],
          "name": "stdout"
        }
      ]
    },
    {
      "cell_type": "code",
      "metadata": {
        "colab": {
          "base_uri": "https://localhost:8080/"
        },
        "id": "PObsdP9iZRiB",
        "outputId": "f0774d0f-d77a-40db-a916-146c9d8c3a52"
      },
      "source": [
        "print(algo.isprintable())"
      ],
      "execution_count": null,
      "outputs": [
        {
          "output_type": "stream",
          "text": [
            "True\n"
          ],
          "name": "stdout"
        }
      ]
    },
    {
      "cell_type": "code",
      "metadata": {
        "colab": {
          "base_uri": "https://localhost:8080/"
        },
        "id": "KCMKpLfFZUkG",
        "outputId": "7371cee9-ace2-45a7-e941-be92078fa605"
      },
      "source": [
        "print(algo.isspace())"
      ],
      "execution_count": null,
      "outputs": [
        {
          "output_type": "stream",
          "text": [
            "False\n"
          ],
          "name": "stdout"
        }
      ]
    },
    {
      "cell_type": "code",
      "metadata": {
        "colab": {
          "base_uri": "https://localhost:8080/"
        },
        "id": "5jE6ielnZZ8j",
        "outputId": "cba26173-7a27-48fd-a486-718debb1f566"
      },
      "source": [
        "print(algo.istitle())"
      ],
      "execution_count": null,
      "outputs": [
        {
          "output_type": "stream",
          "text": [
            "False\n"
          ],
          "name": "stdout"
        }
      ]
    },
    {
      "cell_type": "code",
      "metadata": {
        "colab": {
          "base_uri": "https://localhost:8080/"
        },
        "id": "4ezIT9IiZdDH",
        "outputId": "c8699663-9bb9-4a50-cf01-29dc250c177f"
      },
      "source": [
        "print(algo.isupper())"
      ],
      "execution_count": null,
      "outputs": [
        {
          "output_type": "stream",
          "text": [
            "False\n"
          ],
          "name": "stdout"
        }
      ]
    },
    {
      "cell_type": "markdown",
      "metadata": {
        "id": "NFhsgJO0AN3K"
      },
      "source": [
        "**Desafio 005:**\n",
        "\n",
        "Faça um programa que leia um número inteiro e mostre na tela o seu sucessor e seu antecessor.\n",
        "\n",
        "*Certo*"
      ]
    },
    {
      "cell_type": "code",
      "metadata": {
        "colab": {
          "base_uri": "https://localhost:8080/"
        },
        "id": "cIH5QKAOAcLQ",
        "outputId": "1c6947cc-efce-4c74-88f3-26a5bd66f520"
      },
      "source": [
        "n1 = int(input('Digite um número: '))\n",
        "\n",
        "print(f'O sucessor de {n1} é {n1+1} e o antecessor de {n1} é {n1-1}')"
      ],
      "execution_count": null,
      "outputs": [
        {
          "output_type": "stream",
          "text": [
            "Digite um nímero: 8\n",
            "O sucessor de 8 é 9 e o antecessor de 8 é 7\n"
          ],
          "name": "stdout"
        }
      ]
    },
    {
      "cell_type": "markdown",
      "metadata": {
        "id": "egkqPX4wA13I"
      },
      "source": [
        "**Desafio 006:**\n",
        "\n",
        "Crie um algoritmo que leia um número e mostre o seu dobro, tripo e raiz quadrada.\n",
        "\n",
        "*Certo*"
      ]
    },
    {
      "cell_type": "code",
      "metadata": {
        "colab": {
          "base_uri": "https://localhost:8080/"
        },
        "id": "vZ61r9GTBfgJ",
        "outputId": "ce545ed2-6206-4e86-fa44-a699a3e7fe3f"
      },
      "source": [
        "n1 = float(input('Digite um número: '))\n",
        "\n",
        "print(f'O dobro do número {n1} é {n1*2}. \\nO triplo do número {n1} é {n1*3} ',end=' ')\n",
        "print(f'A raiz quadrada do número {n1} é {n1**(1/2):.2f}.')  #dois números flutuantes depois da vírgula. ``` :.2f ``` "
      ],
      "execution_count": null,
      "outputs": [
        {
          "output_type": "stream",
          "text": [
            "Digite um número: 81\n",
            "O dobro do número 81.0 é 162.0. \n",
            "O triplo do número 81.0 é 243.0  A raiz quadrada do número 81.0 é 9.00.\n"
          ],
          "name": "stdout"
        }
      ]
    },
    {
      "cell_type": "markdown",
      "metadata": {
        "id": "DvvWET4VA35r"
      },
      "source": [
        "**Desafio 007:**\n",
        "\n",
        "Desenvolva um programa que leia as duas notas de um aluno. Calcule e mostre sua média.\n",
        "\n",
        "*Certo*"
      ]
    },
    {
      "cell_type": "code",
      "metadata": {
        "colab": {
          "base_uri": "https://localhost:8080/"
        },
        "id": "MTdFRzABCnAv",
        "outputId": "24eb8cf1-5dd1-4dab-c88d-a8c383733bbc"
      },
      "source": [
        "aluno = input('Digite o nome do aluno: ')\n",
        "nota1 = float(input(f'Digite a primeira nota do(a) aluno(a) {aluno}: '))\n",
        "nota2 = float(input(f'Digite a segunda nota do(a) aluno(a) {aluno}: '))\n",
        "print(f'Bem-Vindo ao sistema da ESCOLA EDUCAR \\nO aluno(a) {aluno} tirou na primeira prova a nota {nota1:.1f} e na segunda prova a nota {nota2:.1f}.',end=' ')  #um número flutuante depois da vírgula. ``` :.1f ```\n",
        "print(f'A média entre as duas provas foi: {(nota1+nota2)/2:.2f}')  #dois números flutuantes depois da vírgula. ``` :.2f ```"
      ],
      "execution_count": null,
      "outputs": [
        {
          "output_type": "stream",
          "text": [
            "Digite o nome do aluno: joana\n",
            "Digite a primeira nota do(a) aluno(a) joana: 5.5\n",
            "Digite a segunda nota do(a) aluno(a) joana: 2\n",
            "Bem-Vindo ao sistema da ESCOLA EDUCAR \n",
            "O aluno(a) joana tirou na primeira prova a nota 5.5 e na segunda prova a nota 2.0. A média entre as duas provas foi: 3.75\n"
          ],
          "name": "stdout"
        }
      ]
    },
    {
      "cell_type": "markdown",
      "metadata": {
        "id": "FOCiBQMy_6lJ"
      },
      "source": [
        "**Desafio 008:**\n",
        "\n",
        "Escreva um programa que leia um valor em metros e o exiba convertido em centímetros e milimetros.\n",
        "\n",
        "*Certo*"
      ]
    },
    {
      "cell_type": "code",
      "metadata": {
        "colab": {
          "base_uri": "https://localhost:8080/"
        },
        "id": "YTmcWsNJAJcV",
        "outputId": "f59a3eaf-10b8-49f9-cfd5-f60c3d497174"
      },
      "source": [
        "comprimento = float(input('Digite um valor em metros: '))\n",
        "print(f'O valor {comprimento} metros equivale: \\nDecímetro: {comprimento*10} \\nCintímetro: {comprimento*100} \\nMilímetro: {comprimento*1000} \\nDecâmetro: {comprimento/10} \\nHectômetro: {comprimento/100} \\nKilômetro: {comprimento/1000}')"
      ],
      "execution_count": null,
      "outputs": [
        {
          "output_type": "stream",
          "text": [
            "Digite um valor em metros: 40\n",
            "O valor 40.0 metros equivale: \n",
            "Decímetro: 400.0 \n",
            "Cintímetro: 4000.0 \n",
            "Milímetro: 40000.0 \n",
            "Decâmtro: 4.0 \n",
            "Hectômetro: 0.4 \n",
            "Kilômetro: 0.04\n"
          ],
          "name": "stdout"
        }
      ]
    },
    {
      "cell_type": "markdown",
      "metadata": {
        "id": "1n24Evm5fA8D"
      },
      "source": [
        "**Desafio 009:**\n",
        "\n",
        "Faça um programa que leia um número inteiro qualquer e mostre na tela sua tabuada.\n",
        "\n",
        "*Corrigido*"
      ]
    },
    {
      "cell_type": "code",
      "metadata": {
        "colab": {
          "base_uri": "https://localhost:8080/"
        },
        "id": "09IPxpTe_Htz",
        "outputId": "0d3779c6-6579-4a4e-f73d-6f78d5b5d78d"
      },
      "source": [
        "#código elaborado junto com o professor\n",
        "num = int(input('Digite um número para ver sua tabuada: '))\n",
        "print('-'*12)\n",
        "print(f'{num} x {1:2} = {num*1}')\n",
        "print(f'{num} x {2:2} = {num*2}')\n",
        "print(f'{num} x {3:2} = {num*3}')\n",
        "print(f'{num} x {4:2} = {num*4}')\n",
        "print(f'{num} x {5:2} = {num*5}')\n",
        "print(f'{num} x {6:2} = {num*6}')\n",
        "print(f'{num} x {7:2} = {num*7}')\n",
        "print(f'{num} x {8:2} = {num*8}')\n",
        "print(f'{num} x {9:2} = {num*9}')\n",
        "print(f'{num} x {10:2} = {num*10}')\n",
        "print('-'*12)"
      ],
      "execution_count": null,
      "outputs": [
        {
          "output_type": "stream",
          "text": [
            "Digite um número para ver sua tabuada: 9\n",
            "------------\n",
            "9 x  1 = 9\n",
            "9 x  2 = 18\n",
            "9 x  3 = 27\n",
            "9 x  4 = 36\n",
            "9 x  5 = 45\n",
            "9 x  6 = 54\n",
            "9 x  7 = 63\n",
            "9 x  8 = 72\n",
            "9 x  9 = 81\n",
            "9 x 10 = 90\n",
            "------------\n"
          ],
          "name": "stdout"
        }
      ]
    },
    {
      "cell_type": "markdown",
      "metadata": {
        "id": "pce4eIKufBTc"
      },
      "source": [
        "**Desafio 010:**\n",
        "\n",
        "Crie um programa que leia quanto dinheiro uma pessoa tem na carteira e mostre quantos dólares ela pode comprar.\n",
        "\n",
        "Considero a cotação do dia 24/05/2021: R$1 = US 0.18\n",
        "\n",
        "\n",
        "*Certo*"
      ]
    },
    {
      "cell_type": "code",
      "metadata": {
        "id": "P2V85uhHLf78"
      },
      "source": [
        "dolar = real / 5.24"
      ],
      "execution_count": null,
      "outputs": []
    },
    {
      "cell_type": "code",
      "metadata": {
        "colab": {
          "base_uri": "https://localhost:8080/"
        },
        "id": "Rn2AB7zjhRhI",
        "outputId": "3cb8885a-bd94-4d89-c24d-4e18bc8481fb"
      },
      "source": [
        "real = float(input('Insira a quantidade de R$ que deseja converter: '))\n",
        "\n",
        "print(f'O valor de R${real} equivale à US${0.18*real:.2f}')"
      ],
      "execution_count": null,
      "outputs": [
        {
          "output_type": "stream",
          "text": [
            "Insira a quantidade de R$ que deseja converter: 125.32\n",
            "O valor de R$125.32 equivale à US$22.56\n"
          ],
          "name": "stdout"
        }
      ]
    },
    {
      "cell_type": "code",
      "metadata": {
        "colab": {
          "base_uri": "https://localhost:8080/"
        },
        "id": "1xJ5bRA4jaQ1",
        "outputId": "34c83e0c-e6d4-48d4-ef51-bdae33707d54"
      },
      "source": [
        "dolar = float(input('Insira a quantidade de US$ que deseja converter: '))\n",
        "\n",
        "print(f'O valor de US${dolar} equivale à R${dolar*5.32:.2f}')"
      ],
      "execution_count": null,
      "outputs": [
        {
          "output_type": "stream",
          "text": [
            "Insira a quantidade de US$ que deseja converter: 125.32\n",
            "O valor de US$125.32 equivale à R$666.70\n"
          ],
          "name": "stdout"
        }
      ]
    },
    {
      "cell_type": "markdown",
      "metadata": {
        "id": "V8UhSVnRfBdR"
      },
      "source": [
        "**Desafio 011:**\n",
        "\n",
        "Faça um programa que leia a largura e a altura de uma parede em metros. Calcule a sua área e a quantidade de tinta necessária para pintá-la, sabendo que cada litro de tinta pinta um área de 2m².\n",
        "\n",
        "*Certo*"
      ]
    },
    {
      "cell_type": "code",
      "metadata": {
        "colab": {
          "base_uri": "https://localhost:8080/"
        },
        "id": "xVydF0qmlIzz",
        "outputId": "f1c0df2b-1376-4c72-bd65-604d18a49ffd"
      },
      "source": [
        "altura = float(input('Digite a altura da parede em metros: '))\n",
        "largura = float(input('Digite a largura da parede em metros: '))\n",
        "\n",
        "print(f'A área será de {altura*largura}m² e a quantidade de tinta necessária para pintá-la será de {(altura*largura)/2:.2f}L.')"
      ],
      "execution_count": null,
      "outputs": [
        {
          "output_type": "stream",
          "text": [
            "Digite a altura da parede em metros: 1.25\n",
            "Digite a largura da parede em metros: 2\n",
            "A área será de 2.5m² e a quantidade de tinta necessária para pintá-la será de 1.25L.\n"
          ],
          "name": "stdout"
        }
      ]
    },
    {
      "cell_type": "markdown",
      "metadata": {
        "id": "bKLQAzjnfBk3"
      },
      "source": [
        "**Desafio 012:**\n",
        "\n",
        "Faça um algoritmo que leia o preço de um produto e mostre seu novo preço, com 5% de desconto.\n",
        "\n",
        "*Certo*"
      ]
    },
    {
      "cell_type": "code",
      "metadata": {
        "colab": {
          "base_uri": "https://localhost:8080/"
        },
        "id": "mJA7TXMynlyZ",
        "outputId": "af57c892-f92e-47a3-874e-224cbe6b7256"
      },
      "source": [
        "produto = float(input('Digite o preço do produto: R$'))\n",
        "desc = produto - (produto * 0.05)\n",
        "print(f'PARABÉNS! Você ganhou 5% de desconto!\\nO preço total da compra é {desc:.2f}.')"
      ],
      "execution_count": null,
      "outputs": [
        {
          "output_type": "stream",
          "text": [
            "Digite o preço do produto: R$88.99\n",
            "PARABÉNS! Você ganhou 5% de desconto!\n",
            "O preço total da compra é 84.54.\n"
          ],
          "name": "stdout"
        }
      ]
    },
    {
      "cell_type": "markdown",
      "metadata": {
        "id": "s2__lxOwg4lu"
      },
      "source": [
        "**Desafio 013:**\n",
        "\n",
        "Faça um algoritmo que leia o salário de um funcionário e mostre seu novo salário, com 15% de aumento.\n",
        "\n",
        "*Certo*"
      ]
    },
    {
      "cell_type": "code",
      "metadata": {
        "colab": {
          "base_uri": "https://localhost:8080/"
        },
        "id": "1yquPvsNrJlp",
        "outputId": "4c38e7d3-9fb0-4b28-916e-59ceec36d249"
      },
      "source": [
        "salario = float(input('PARABÉNS! VOCE GANHOU 15% DE AUMENTO.\\nDigite a seguir o valor do seu salário para realizarmos o reajuste: '))\n",
        "atual = salario + (salario * 0.15)\n",
        "print(f'Com o reajuste de 15%, você passou a ganhar R${atual:.2f}.')"
      ],
      "execution_count": null,
      "outputs": [
        {
          "output_type": "stream",
          "text": [
            "PARABÉNS! VOCE GANHOU 15% DE AUMENTO.\n",
            "Digite a seguir o valor do seu salário para realizarmos o reajuste: 3500.23\n",
            "Com o reajuste de 15%, você passou a ganhar R$4025.26.\n"
          ],
          "name": "stdout"
        }
      ]
    },
    {
      "cell_type": "markdown",
      "metadata": {
        "id": "o60KpMHNR2I9"
      },
      "source": [
        "**Desafio 014:**\n",
        "\n",
        "Escreva um programa que converta uma temperatura digitando em graus Celsius e converta para graus Fahrenheit.\n",
        "\n",
        "*Certo*"
      ]
    },
    {
      "cell_type": "code",
      "metadata": {
        "colab": {
          "base_uri": "https://localhost:8080/"
        },
        "id": "ARqAG2guR_r6",
        "outputId": "74da7805-f1d6-4bd0-c23d-a0906a355fdb"
      },
      "source": [
        "celsiu = float(input('Digite a temperatura em graus Celsius: '))\n",
        "print(f'{celsiu:.2f}ºC equivale à {(celsiu*1.8)+32:.2f}ºF')"
      ],
      "execution_count": null,
      "outputs": [
        {
          "output_type": "stream",
          "text": [
            "Digite a temperatura em graus Celsius: 40\n",
            "40.00ºC equivale à 104.00ºF\n"
          ],
          "name": "stdout"
        }
      ]
    },
    {
      "cell_type": "code",
      "metadata": {
        "colab": {
          "base_uri": "https://localhost:8080/"
        },
        "id": "_zCA880KTDsq",
        "outputId": "df71a209-ffe5-4a33-fa36-209a1712f138"
      },
      "source": [
        "fahre = float(input('Digite a temperatura em graus Fahrenheit: '))\n",
        "print(f'{fahre:.2f}ºF equivale à {(fahre-32)/1.8:.2f}ºC')"
      ],
      "execution_count": null,
      "outputs": [
        {
          "output_type": "stream",
          "text": [
            "Digite a temperatura em graus Fahrenheit: 451\n",
            "451.00ºF equivale à 232.78ºC\n"
          ],
          "name": "stdout"
        }
      ]
    },
    {
      "cell_type": "markdown",
      "metadata": {
        "id": "WEq5iKg4XA5r"
      },
      "source": [
        "**Desafio 015:**\n",
        "\n",
        "Escreva um programa que pergunte a quantidade de Km percorridos por um carro alugado e a quantidade de dias pelos quais ele foi alugado. Calcule o preço a pagar, sabendo que o carro custa 60 reais por dia e R$0,15 por Km rodado.\n",
        "\n",
        "*Certo*"
      ]
    },
    {
      "cell_type": "code",
      "metadata": {
        "colab": {
          "base_uri": "https://localhost:8080/"
        },
        "id": "Tl6oEwfmXEzA",
        "outputId": "47664c51-c0f7-44bc-d731-95ca249c1314"
      },
      "source": [
        "km = float(input('Digite a quantidade de Km pecorridos: '))\n",
        "dia = int(input('Digite a quantidade de dias alugados: '))\n",
        "total = (dia * 60) + (km * 0.15)\n",
        "print(f'O total à pagar por {dia} dia(s) alugado(s) e {km:.2f}km pecorridos foi de R${total:.2f}')"
      ],
      "execution_count": null,
      "outputs": [
        {
          "output_type": "stream",
          "text": [
            "Digite a quantidade de Km pecorridos: 1\n",
            "Digite a quantidade de dias alugados: 1\n",
            "O total à pagar por 1 dia(s) alugado(s) e 1.00km pecorridos foi de R$60.15\n"
          ],
          "name": "stdout"
        }
      ]
    },
    {
      "cell_type": "markdown",
      "metadata": {
        "id": "gnEPjBkQ9rwW"
      },
      "source": [
        "**Desafio 016:**\n",
        "\n",
        "Crie um programa que leia um número real qualquer pelo teclado e mostre na tela sua porção inteira.\n",
        "\n",
        "Exemplo: Digite um número: 6.127\n",
        "\n",
        "O número 6.127 tem a parte inteira 6.\n",
        "\n",
        "*Certo*"
      ]
    },
    {
      "cell_type": "code",
      "metadata": {
        "colab": {
          "base_uri": "https://localhost:8080/"
        },
        "id": "yPR03reqQLMx",
        "outputId": "4cc683f9-0e13-4bd5-f770-217826eaf3dd"
      },
      "source": [
        "num3 = float(input('Digite um número qualquer: '))\n",
        "print(f'A parte inteira do número {num3} é {int(num3)}')"
      ],
      "execution_count": null,
      "outputs": [
        {
          "output_type": "stream",
          "text": [
            "Digite um número qualquer: 8.5554\n",
            "A parte inteira do número 8.5554 é 8\n"
          ],
          "name": "stdout"
        }
      ]
    },
    {
      "cell_type": "code",
      "metadata": {
        "id": "k5pJoLBXSZ3O"
      },
      "source": [
        "#para esse exercício, o mais correto seria usar o trunc.  O novo código ficaria"
      ],
      "execution_count": null,
      "outputs": []
    },
    {
      "cell_type": "code",
      "metadata": {
        "colab": {
          "base_uri": "https://localhost:8080/"
        },
        "id": "kpXnViviShr6",
        "outputId": "4a3e75f4-1bdc-427b-b927-e00d03a6fe57"
      },
      "source": [
        "from math import trunc\n",
        "num = float(input('Digite um valor: '))\n",
        "print(f'O valor digitado foi {num} e sua porçao inteira é {trunc(num)}.')"
      ],
      "execution_count": null,
      "outputs": [
        {
          "output_type": "stream",
          "text": [
            "Digite um valor: 5.44444\n",
            "O valor digitado foi 5.44444 e sua porçao inteira é 5.\n"
          ],
          "name": "stdout"
        }
      ]
    },
    {
      "cell_type": "markdown",
      "metadata": {
        "id": "QnyKb9ws9r4_"
      },
      "source": [
        "**Desafio 017:**\n",
        "\n",
        "Faça um programa que leia o cateto oposto e o cateto adjacente de um triângulo retângulo, calcule e mostre o cumprimento da hipotenusa.\n",
        "\n",
        "*Certo*"
      ]
    },
    {
      "cell_type": "code",
      "metadata": {
        "colab": {
          "base_uri": "https://localhost:8080/"
        },
        "id": "-MZwnuaWxw0D",
        "outputId": "fc125bd4-116a-4eb0-f8e0-df4e4adcb414"
      },
      "source": [
        "import math\n",
        "cateto1 = float(input('Insira o cateto oposto do triângulo: '))\n",
        "cateto2 = float(input('Insira o cateto adjacente do triângulo: '))\n",
        "hipo = math.hypot(cateto1,cateto2)\n",
        "print(f'Medidas do triângulo.\\nCateto oposto: {cateto1}.\\nCateto adjacente: {cateto2}.\\nHipotenusa: {hipo:.3f}')"
      ],
      "execution_count": null,
      "outputs": [
        {
          "output_type": "stream",
          "text": [
            "Insira o cateto oposto do triângulo: 9\n",
            "Insira o cateto adjacente do triângulo: 4\n",
            "Medidas do triângulo.\n",
            "Cateto oposto: 9.0.\n",
            "Cateto adjacente: 4.0.\n",
            "Hipotenusa: 9.849\n"
          ],
          "name": "stdout"
        }
      ]
    },
    {
      "cell_type": "markdown",
      "metadata": {
        "id": "UWlKJR-e9r8U"
      },
      "source": [
        "**Desafio 018:**\n",
        "\n",
        "Faça um programa que leia um ângulo qualquer e mostre na tela o valor do seno, cosseno e tangente desse ângulo.\n",
        "\n",
        "*Corrigido*"
      ]
    },
    {
      "cell_type": "code",
      "metadata": {
        "colab": {
          "base_uri": "https://localhost:8080/"
        },
        "id": "HIsyOd8F13p5",
        "outputId": "e21c4c8e-c99f-42e2-b88d-92249f0b7004"
      },
      "source": [
        "angle = float(input('Digite um ângulo: ')) \n",
        "'''\n",
        "Nesse input, o valor inserido está em graus, e para o cálculo matemático o valor tem que ser convertido para graus radianos.\n",
        "'''\n",
        "from math import sin, tan, cos\n",
        "sen = sin(angle)\n",
        "tang = tan(angle)\n",
        "cose = cos(angle)\n",
        "print(f'O seno desse ângulo é {sen:.3f}.\\nA tangente desse ângulo é {tang:.3f}.\\nO cosseno desse ângulo é {cose:.3f}')"
      ],
      "execution_count": null,
      "outputs": [
        {
          "output_type": "stream",
          "text": [
            "Digite um ângulo: 40\n",
            "O seno desse ângulo é 0.745.\n",
            "A tangente desse ângulo é -1.117.\n",
            "O cosseno desse ângulo é -0.667\n"
          ],
          "name": "stdout"
        }
      ]
    },
    {
      "cell_type": "code",
      "metadata": {
        "colab": {
          "base_uri": "https://localhost:8080/"
        },
        "id": "D9xR_Tp4Ws2J",
        "outputId": "cb7f2f83-0a1c-42af-e66b-64c226295bc9"
      },
      "source": [
        "#código corrigido\n",
        "import math\n",
        "an = float(input('Digite o ângulo que você deseja: '))\n",
        "seno = math.sin(math.radians(an))\n",
        "cose = math.cos(math.radians(an))\n",
        "tang = math.tan(math.radians(an))\n",
        "print(f'O seno desse ângulo é {seno:.2f}.\\nO cosseno desse ângulo é {cose:.2f}.\\nA tangente desse ângulo é {tang:.2f} ')"
      ],
      "execution_count": null,
      "outputs": [
        {
          "output_type": "stream",
          "text": [
            "Digite o ângulo que você deseja: 30\n",
            "O seno desse ângulo é 0.50.\n",
            "O cosseno desse ângulo é 0.87.\n",
            "A tangente desse ângulo é 0.58 \n"
          ],
          "name": "stdout"
        }
      ]
    },
    {
      "cell_type": "markdown",
      "metadata": {
        "id": "YIfEQvXy9r_t"
      },
      "source": [
        "**Desafio 019:**\n",
        "\n",
        "Um professor quer sortear um dos seus quatro alunos para apagar o quadro. Faça um programa que ajude ele, lendo o nome deles e escrevendo o nome do escolhido.\n",
        "\n",
        "*Certo*"
      ]
    },
    {
      "cell_type": "code",
      "metadata": {
        "colab": {
          "base_uri": "https://localhost:8080/"
        },
        "id": "to5iiUCo4nAl",
        "outputId": "1efe8d4c-d380-41ef-c1fd-ec8efe7f18eb"
      },
      "source": [
        "from random import choice\n",
        "aluna = choice(['Rita','Joana','Fernanda','Josefina'])\n",
        "print(f'A aluna escolhida para apagar o quadro foi {aluna}.')"
      ],
      "execution_count": null,
      "outputs": [
        {
          "output_type": "stream",
          "text": [
            "A aluna escolhida para apagar o quadro foi Joana.\n"
          ],
          "name": "stdout"
        }
      ]
    },
    {
      "cell_type": "markdown",
      "metadata": {
        "id": "BW5_AKbA9sCm"
      },
      "source": [
        "**Desafio 020:**\n",
        "\n",
        "O mesmo professor do desafio anterior quer sortear a ordem de apresentação de trabalhos dos alunos. Faça um programa que leia o nome dos quatro alunos e mostre a ordem sorteada.\n",
        "\n",
        "*Corrigido*"
      ]
    },
    {
      "cell_type": "code",
      "metadata": {
        "colab": {
          "base_uri": "https://localhost:8080/",
          "height": 316
        },
        "id": "UPXyMcT49WsK",
        "outputId": "83df73f5-3629-4bef-e115-2d545d535c2f"
      },
      "source": [
        "import random\n",
        "#o erro foi que eu tentei criar uma variável para o modo shuffle.\n",
        "apres = random.shuffle(aluna, random=None)"
      ],
      "execution_count": null,
      "outputs": [
        {
          "output_type": "error",
          "ename": "TypeError",
          "evalue": "ignored",
          "traceback": [
            "\u001b[0;31m---------------------------------------------------------------------------\u001b[0m",
            "\u001b[0;31mTypeError\u001b[0m                                 Traceback (most recent call last)",
            "\u001b[0;32m<ipython-input-36-b4ad0c87fd53>\u001b[0m in \u001b[0;36m<module>\u001b[0;34m()\u001b[0m\n\u001b[1;32m      1\u001b[0m \u001b[0;32mimport\u001b[0m \u001b[0mrandom\u001b[0m\u001b[0;34m\u001b[0m\u001b[0;34m\u001b[0m\u001b[0m\n\u001b[0;32m----> 2\u001b[0;31m \u001b[0mapres\u001b[0m \u001b[0;34m=\u001b[0m \u001b[0mrandom\u001b[0m\u001b[0;34m.\u001b[0m\u001b[0mshuffle\u001b[0m\u001b[0;34m(\u001b[0m\u001b[0maluna\u001b[0m\u001b[0;34m,\u001b[0m \u001b[0mrandom\u001b[0m\u001b[0;34m=\u001b[0m\u001b[0;32mNone\u001b[0m\u001b[0;34m)\u001b[0m\u001b[0;34m\u001b[0m\u001b[0;34m\u001b[0m\u001b[0m\n\u001b[0m",
            "\u001b[0;32m/usr/lib/python3.7/random.py\u001b[0m in \u001b[0;36mshuffle\u001b[0;34m(self, x, random)\u001b[0m\n\u001b[1;32m    276\u001b[0m                 \u001b[0;31m# pick an element in x[:i+1] with which to exchange x[i]\u001b[0m\u001b[0;34m\u001b[0m\u001b[0;34m\u001b[0m\u001b[0;34m\u001b[0m\u001b[0m\n\u001b[1;32m    277\u001b[0m                 \u001b[0mj\u001b[0m \u001b[0;34m=\u001b[0m \u001b[0mrandbelow\u001b[0m\u001b[0;34m(\u001b[0m\u001b[0mi\u001b[0m\u001b[0;34m+\u001b[0m\u001b[0;36m1\u001b[0m\u001b[0;34m)\u001b[0m\u001b[0;34m\u001b[0m\u001b[0;34m\u001b[0m\u001b[0m\n\u001b[0;32m--> 278\u001b[0;31m                 \u001b[0mx\u001b[0m\u001b[0;34m[\u001b[0m\u001b[0mi\u001b[0m\u001b[0;34m]\u001b[0m\u001b[0;34m,\u001b[0m \u001b[0mx\u001b[0m\u001b[0;34m[\u001b[0m\u001b[0mj\u001b[0m\u001b[0;34m]\u001b[0m \u001b[0;34m=\u001b[0m \u001b[0mx\u001b[0m\u001b[0;34m[\u001b[0m\u001b[0mj\u001b[0m\u001b[0;34m]\u001b[0m\u001b[0;34m,\u001b[0m \u001b[0mx\u001b[0m\u001b[0;34m[\u001b[0m\u001b[0mi\u001b[0m\u001b[0;34m]\u001b[0m\u001b[0;34m\u001b[0m\u001b[0;34m\u001b[0m\u001b[0m\n\u001b[0m\u001b[1;32m    279\u001b[0m         \u001b[0;32melse\u001b[0m\u001b[0;34m:\u001b[0m\u001b[0;34m\u001b[0m\u001b[0;34m\u001b[0m\u001b[0m\n\u001b[1;32m    280\u001b[0m             \u001b[0m_int\u001b[0m \u001b[0;34m=\u001b[0m \u001b[0mint\u001b[0m\u001b[0;34m\u001b[0m\u001b[0;34m\u001b[0m\u001b[0m\n",
            "\u001b[0;31mTypeError\u001b[0m: 'str' object does not support item assignment"
          ]
        }
      ]
    },
    {
      "cell_type": "code",
      "metadata": {
        "colab": {
          "base_uri": "https://localhost:8080/"
        },
        "id": "DEUx9DzYh_Lz",
        "outputId": "ffedb3ce-e524-43c4-a5fd-faa83d024607"
      },
      "source": [
        "# código corrigido\n",
        "from random import shuffle\n",
        "aluna = ['Rita','Joana','Fernanda','Josefina']\n",
        "shuffle(aluna)\n",
        "print(f'A ordem de apresentação será: {aluna} ')"
      ],
      "execution_count": null,
      "outputs": [
        {
          "output_type": "stream",
          "text": [
            "A ordem de apresentação será: ['Rita', 'Joana', 'Josefina', 'Fernanda'] \n"
          ],
          "name": "stdout"
        }
      ]
    }
  ]
}