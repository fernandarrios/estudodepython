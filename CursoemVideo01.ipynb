{
  "nbformat": 4,
  "nbformat_minor": 0,
  "metadata": {
    "colab": {
      "name": "CursoemVideo01",
      "provenance": [],
      "authorship_tag": "ABX9TyPKhxansCmNESxIC6GLmpHg",
      "include_colab_link": true
    },
    "kernelspec": {
      "name": "python3",
      "display_name": "Python 3"
    },
    "language_info": {
      "name": "python"
    }
  },
  "cells": [
    {
      "cell_type": "markdown",
      "metadata": {
        "id": "view-in-github",
        "colab_type": "text"
      },
      "source": [
        "<a href=\"https://colab.research.google.com/github/fernandarrios/estudodepython/blob/main/CursoemVideo01.ipynb\" target=\"_parent\"><img src=\"https://colab.research.google.com/assets/colab-badge.svg\" alt=\"Open In Colab\"/></a>"
      ]
    },
    {
      "cell_type": "markdown",
      "metadata": {
        "id": "1fpdoLuwytag"
      },
      "source": [
        "#Introdução\n",
        "\n",
        "Estudo de Python realizado no site do [Curso em Vídeo](https://www.cursoemvideo.com/course/python-3-mundo-1/). \n",
        "\n",
        "Ministrado pelo Gustavo Guanabara."
      ]
    },
    {
      "cell_type": "markdown",
      "metadata": {
        "id": "_WBLXt6Bz2aK"
      },
      "source": [
        "**Lista de sinalizações utilizadas no Python e suas respectivas funções**\n",
        "\n",
        "\n",
        " Sinalização |    Função  \n",
        "----------------- | -----------------\n",
        " \" \"  ou  ' '  | Definir caractere\n",
        " (   )         |  Definir a função\n",
        "=              | atribui um valor para a variável\n",
        ",              | Separação de variáveis"
      ]
    },
    {
      "cell_type": "markdown",
      "metadata": {
        "id": "emoTMVPm1K37"
      },
      "source": [
        "**Lista de comandos utilizados no Python e suas respectivas funções**\n",
        "\n",
        "Comando | Função do comando\n",
        "------- | -----------------\n",
        "``` print   ```| mostrar na tela\n",
        "``` input ``` | Função que faz com que outra pessoas atribua os valores \n",
        "``` int ```   | Valores inteiros\n",
        "``` float ``` | Números Reais (Números de ponto flutuante\n",
        "``` bool ```  | Valores lógicos\n",
        "``` str ```   |  Valores caracteres ou string\n",
        "```type() ``` | Mostra o tipo da variável\n",
        "``` .is- ``` | Método de teste de type"
      ]
    },
    {
      "cell_type": "code",
      "metadata": {
        "colab": {
          "base_uri": "https://localhost:8080/"
        },
        "id": "bG3BC1Vcykw8",
        "outputId": "8583d5d0-054a-4550-9826-4fe5dc032f8e"
      },
      "source": [
        "print('7 + 4') #Mostra os caracteres na tela\n",
        "print(7 + 4) #Realiza a função de soma"
      ],
      "execution_count": null,
      "outputs": [
        {
          "output_type": "stream",
          "text": [
            "7 + 4\n",
            "11\n"
          ],
          "name": "stdout"
        }
      ]
    },
    {
      "cell_type": "code",
      "metadata": {
        "colab": {
          "base_uri": "https://localhost:8080/"
        },
        "id": "923JlnEi1240",
        "outputId": "a696cab9-009f-4826-ea35-112fb93def17"
      },
      "source": [
        "print('7' + '4') #soma das strings 7 e 4 resultando no 74"
      ],
      "execution_count": null,
      "outputs": [
        {
          "output_type": "stream",
          "text": [
            "74\n"
          ],
          "name": "stdout"
        }
      ]
    },
    {
      "cell_type": "code",
      "metadata": {
        "colab": {
          "base_uri": "https://localhost:8080/"
        },
        "id": "8Bq1A9wc3rfg",
        "outputId": "c2399cc9-bd58-4106-8cbe-e55c2bfc1161"
      },
      "source": [
        "nome = 'Fernanda'\n",
        "idade = 23\n",
        "peso = 68.8\n",
        "print(nome, idade, peso)"
      ],
      "execution_count": null,
      "outputs": [
        {
          "output_type": "stream",
          "text": [
            "Fernanda 23 68.8\n"
          ],
          "name": "stdout"
        }
      ]
    },
    {
      "cell_type": "code",
      "metadata": {
        "colab": {
          "base_uri": "https://localhost:8080/"
        },
        "id": "IxHSzLQk5I99",
        "outputId": "23ddca25-c5f3-4765-c71c-c4d261a9b861"
      },
      "source": [
        "#Interatividade com o usuário\n",
        "nome = input('Qual é o seu nome? ')\n",
        "idade = input('Quantos anos você tem? ')\n",
        "peso = input('Quanto você pesa? ')\n",
        "print(nome, idade, peso)"
      ],
      "execution_count": null,
      "outputs": [
        {
          "output_type": "stream",
          "text": [
            "Qual é o seu nome? Maria\n",
            "Quantos anos você tem? 30\n",
            "Quanto você pesa? 70\n",
            "Maria 30 70\n"
          ],
          "name": "stdout"
        }
      ]
    },
    {
      "cell_type": "markdown",
      "metadata": {
        "id": "OzdOa8WDUWmV"
      },
      "source": [
        "### Testes e repetições de exemplos"
      ]
    },
    {
      "cell_type": "code",
      "metadata": {
        "colab": {
          "base_uri": "https://localhost:8080/"
        },
        "id": "Cw8gZ6ugQyGc",
        "outputId": "98de9bb2-03ff-41d9-8113-012e204e675d"
      },
      "source": [
        "f = input('Digite algo: ')\n",
        "print(f.isnumeric())"
      ],
      "execution_count": 13,
      "outputs": [
        {
          "output_type": "stream",
          "text": [
            "Digite algo: f\n",
            "False\n"
          ],
          "name": "stdout"
        }
      ]
    },
    {
      "cell_type": "code",
      "metadata": {
        "colab": {
          "base_uri": "https://localhost:8080/"
        },
        "id": "ZJ50rSG2UbrZ",
        "outputId": "41a0c487-54c3-4063-b259-b0ee15ca0217"
      },
      "source": [
        "alpha = 'x'\n",
        "print(alpha.isalpha())\n",
        "delta = 7\n",
        "print(alpha.isalnum())\n",
        "\n"
      ],
      "execution_count": 20,
      "outputs": [
        {
          "output_type": "stream",
          "text": [
            "True\n",
            "True\n"
          ],
          "name": "stdout"
        }
      ]
    },
    {
      "cell_type": "markdown",
      "metadata": {
        "id": "iF9BLqrn69ix"
      },
      "source": [
        "###Desafio 001:\n",
        "\n",
        "Crie um script de python que leia o nome de uma pessoa e mostre uma mensagem de boas-vindas de acordo com o valor digitado. \n",
        "\n"
      ]
    },
    {
      "cell_type": "code",
      "metadata": {
        "colab": {
          "base_uri": "https://localhost:8080/"
        },
        "id": "bbt0wVpS7RGZ",
        "outputId": "f0387902-01f3-4887-e418-e929914b7a7a"
      },
      "source": [
        "nome = input('Notamos que é o seu primeiro acesso aqui. Qual o seu nome? ')\n",
        "print(nome,', seja muito bem-vindo(a)!')"
      ],
      "execution_count": null,
      "outputs": [
        {
          "output_type": "stream",
          "text": [
            "Notamos que é o seu primeiro acesso aqui. Qual o seu nome? luiza\n",
            "luiza , seja muito bem-vindo(a)!\n"
          ],
          "name": "stdout"
        }
      ]
    },
    {
      "cell_type": "markdown",
      "metadata": {
        "id": "5DTHKyOq7xOP"
      },
      "source": [
        "###Desafio 002:\n",
        "\n",
        "Crie um script python que leia o dia, o mês e o ano de nascimento de uma pessoa e mostre com a data formatada."
      ]
    },
    {
      "cell_type": "code",
      "metadata": {
        "colab": {
          "base_uri": "https://localhost:8080/"
        },
        "id": "2AtbNKj-8MP-",
        "outputId": "fb06f879-414b-46c7-f6b6-2209170faac3"
      },
      "source": [
        "nome = (input('Qual o seu nome? '))\n",
        "dia =  int(input('Qual o dia do seu nascimento? '))\n",
        "mes = int(input('Qual o mês do seu nascimento? '))\n",
        "ano= int(input('Qual o ano do seu nascimento? '))\n",
        "print(nome,' sua data de nascimento é: ',dia,'/',mes,'/',ano)\n"
      ],
      "execution_count": 3,
      "outputs": [
        {
          "output_type": "stream",
          "text": [
            "Qual o seu nome? Fernanda\n",
            "Qual o dia do seu nascimento? 27\n",
            "Qual o mês do seu nascimento? 07\n",
            "Qual o ano do seu nascimento? 1997\n",
            "Fernanda  sua data de nascimento é:  27 / 7 / 1997\n"
          ],
          "name": "stdout"
        }
      ]
    },
    {
      "cell_type": "markdown",
      "metadata": {
        "id": "kuEq8jNb7zUf"
      },
      "source": [
        "###Desafio 003:\n",
        "\n",
        "Crie um script python e tente mostrar a soma entre eles."
      ]
    },
    {
      "cell_type": "code",
      "metadata": {
        "colab": {
          "base_uri": "https://localhost:8080/"
        },
        "id": "g4eej1iURPYT",
        "outputId": "8b710585-106c-4486-aa12-3666c6ba8d32"
      },
      "source": [
        "a = 7\n",
        "b = 8\n",
        "s = a+b\n",
        "print(s)"
      ],
      "execution_count": null,
      "outputs": [
        {
          "output_type": "stream",
          "text": [
            "15\n"
          ],
          "name": "stdout"
        }
      ]
    },
    {
      "cell_type": "code",
      "metadata": {
        "colab": {
          "base_uri": "https://localhost:8080/"
        },
        "id": "HAQGBziVRVhI",
        "outputId": "1f3b3669-a8de-4ce1-ee5d-d7947daebf8a"
      },
      "source": [
        "c = input('Digite um número que deseja somar: ')\n",
        "d = input('Digite um número que deseja somar: ')\n",
        "soma = c + d\n",
        "print('A soma entre ',c,' e ',d,' é : ',soma)\n",
        "\n",
        "#Nesse caso, ele somou as strings porque eu não coloquei o ``` int ``` no começo, não indicando assim que o valor inserido é um número."
      ],
      "execution_count": null,
      "outputs": [
        {
          "output_type": "stream",
          "text": [
            "Digite um número que deseja somar: 8\n",
            "Digite um número que deseja somar: 4\n",
            "A soma entre  8  e  4  é :  84\n"
          ],
          "name": "stdout"
        }
      ]
    },
    {
      "cell_type": "code",
      "metadata": {
        "id": "kegj5kcnR1wl"
      },
      "source": [
        "def soma(e,f):\n",
        "  e = int(input('Digite um número que deseja somar: '))\n",
        "  f = int(input('Digite um número que deseja somar: '))\n",
        "  soma = e + f\n",
        "  print('A soma entre ',e,' e ',f,' é : ',soma)"
      ],
      "execution_count": null,
      "outputs": []
    },
    {
      "cell_type": "code",
      "metadata": {
        "colab": {
          "base_uri": "https://localhost:8080/"
        },
        "id": "wRMUB4LUR_R_",
        "outputId": "19ad5356-ca7d-4feb-aebc-c123ee53516d"
      },
      "source": [
        "soma(a,b)"
      ],
      "execution_count": null,
      "outputs": [
        {
          "output_type": "stream",
          "text": [
            "Digite um número que deseja somar: 8\n",
            "Digite um número que deseja somar: 8\n",
            "A soma entre  8  e  8  é :  16\n"
          ],
          "name": "stdout"
        }
      ]
    },
    {
      "cell_type": "code",
      "metadata": {
        "colab": {
          "base_uri": "https://localhost:8080/"
        },
        "id": "72tw2Rh5Phog",
        "outputId": "7d9e3950-5074-433c-deee-db6e071f3744"
      },
      "source": [
        "d = int(input('Digite um número que deseja somar: '))\n",
        "e = int(input('Digite um número que deseja somar: '))\n",
        "soma = d + e\n",
        "print(f'A soma entre {d} e {e} é {soma}')"
      ],
      "execution_count": 6,
      "outputs": [
        {
          "output_type": "stream",
          "text": [
            "Digite um número que deseja somar: 8\n",
            "Digite um número que deseja somar: 5\n",
            "A soma entre 8 e 5 é 13\n"
          ],
          "name": "stdout"
        }
      ]
    },
    {
      "cell_type": "markdown",
      "metadata": {
        "id": "FvZswiMvYHpS"
      },
      "source": [
        "### Desafio 004\n",
        "\n",
        "Faça um programa que leia algo pelo teclado e mostre na tela seu tipo primitivo e todas as informações possíveis sobre ele.\n"
      ]
    },
    {
      "cell_type": "code",
      "metadata": {
        "colab": {
          "base_uri": "https://localhost:8080/"
        },
        "id": "qaaEuCFSYglW",
        "outputId": "dac728fc-ebcc-456d-e293-73f086516e44"
      },
      "source": [
        "algo = 'a'\n",
        "type(algo)"
      ],
      "execution_count": 21,
      "outputs": [
        {
          "output_type": "execute_result",
          "data": {
            "text/plain": [
              "str"
            ]
          },
          "metadata": {
            "tags": []
          },
          "execution_count": 21
        }
      ]
    },
    {
      "cell_type": "code",
      "metadata": {
        "colab": {
          "base_uri": "https://localhost:8080/"
        },
        "id": "RByv4c_qYnEG",
        "outputId": "b024441d-2c13-4c91-ef14-df37f4d424d3"
      },
      "source": [
        "print(algo.isalnum())"
      ],
      "execution_count": 22,
      "outputs": [
        {
          "output_type": "stream",
          "text": [
            "True\n"
          ],
          "name": "stdout"
        }
      ]
    },
    {
      "cell_type": "code",
      "metadata": {
        "colab": {
          "base_uri": "https://localhost:8080/"
        },
        "id": "GbzoBW3XYth8",
        "outputId": "9ee13ee6-49e7-4a02-85b4-527949f60cb6"
      },
      "source": [
        "print(algo.isalpha())"
      ],
      "execution_count": 23,
      "outputs": [
        {
          "output_type": "stream",
          "text": [
            "True\n"
          ],
          "name": "stdout"
        }
      ]
    },
    {
      "cell_type": "code",
      "metadata": {
        "colab": {
          "base_uri": "https://localhost:8080/"
        },
        "id": "vce5N-sKYwcn",
        "outputId": "7f4854e6-2870-4622-e8c3-aa0231fa3f91"
      },
      "source": [
        "print(algo.isascii())"
      ],
      "execution_count": 25,
      "outputs": [
        {
          "output_type": "stream",
          "text": [
            "True\n"
          ],
          "name": "stdout"
        }
      ]
    },
    {
      "cell_type": "code",
      "metadata": {
        "colab": {
          "base_uri": "https://localhost:8080/"
        },
        "id": "CdRsh6-BY0TA",
        "outputId": "b3d53717-8363-4ccd-8931-9ffbd4c96d78"
      },
      "source": [
        "print(algo.isdecimal())"
      ],
      "execution_count": 26,
      "outputs": [
        {
          "output_type": "stream",
          "text": [
            "False\n"
          ],
          "name": "stdout"
        }
      ]
    },
    {
      "cell_type": "code",
      "metadata": {
        "colab": {
          "base_uri": "https://localhost:8080/"
        },
        "id": "uKaL1Ii5Y3cy",
        "outputId": "92d358de-8d54-4732-f762-199922ef2825"
      },
      "source": [
        "print(algo.isdigit())"
      ],
      "execution_count": 27,
      "outputs": [
        {
          "output_type": "stream",
          "text": [
            "False\n"
          ],
          "name": "stdout"
        }
      ]
    },
    {
      "cell_type": "code",
      "metadata": {
        "colab": {
          "base_uri": "https://localhost:8080/"
        },
        "id": "lq5jLtpFZEut",
        "outputId": "43b01625-0b93-49f5-ebc2-d76c91a692c7"
      },
      "source": [
        "print(algo.isidentifier())"
      ],
      "execution_count": 28,
      "outputs": [
        {
          "output_type": "stream",
          "text": [
            "True\n"
          ],
          "name": "stdout"
        }
      ]
    },
    {
      "cell_type": "code",
      "metadata": {
        "colab": {
          "base_uri": "https://localhost:8080/"
        },
        "id": "y92ICEK-ZHo_",
        "outputId": "c7e4c60d-67fb-4a77-a222-59563d32f3a1"
      },
      "source": [
        "print(algo.islower())"
      ],
      "execution_count": 29,
      "outputs": [
        {
          "output_type": "stream",
          "text": [
            "True\n"
          ],
          "name": "stdout"
        }
      ]
    },
    {
      "cell_type": "code",
      "metadata": {
        "colab": {
          "base_uri": "https://localhost:8080/"
        },
        "id": "l2rVcNgPZOJy",
        "outputId": "52706166-ecb5-469d-e0fb-63b05b800f7b"
      },
      "source": [
        "print(algo.isnumeric())"
      ],
      "execution_count": 30,
      "outputs": [
        {
          "output_type": "stream",
          "text": [
            "False\n"
          ],
          "name": "stdout"
        }
      ]
    },
    {
      "cell_type": "code",
      "metadata": {
        "colab": {
          "base_uri": "https://localhost:8080/"
        },
        "id": "PObsdP9iZRiB",
        "outputId": "f0774d0f-d77a-40db-a916-146c9d8c3a52"
      },
      "source": [
        "print(algo.isprintable())"
      ],
      "execution_count": 31,
      "outputs": [
        {
          "output_type": "stream",
          "text": [
            "True\n"
          ],
          "name": "stdout"
        }
      ]
    },
    {
      "cell_type": "code",
      "metadata": {
        "colab": {
          "base_uri": "https://localhost:8080/"
        },
        "id": "KCMKpLfFZUkG",
        "outputId": "7371cee9-ace2-45a7-e941-be92078fa605"
      },
      "source": [
        "print(algo.isspace())"
      ],
      "execution_count": 32,
      "outputs": [
        {
          "output_type": "stream",
          "text": [
            "False\n"
          ],
          "name": "stdout"
        }
      ]
    },
    {
      "cell_type": "code",
      "metadata": {
        "colab": {
          "base_uri": "https://localhost:8080/"
        },
        "id": "5jE6ielnZZ8j",
        "outputId": "cba26173-7a27-48fd-a486-718debb1f566"
      },
      "source": [
        "print(algo.istitle())"
      ],
      "execution_count": 33,
      "outputs": [
        {
          "output_type": "stream",
          "text": [
            "False\n"
          ],
          "name": "stdout"
        }
      ]
    },
    {
      "cell_type": "code",
      "metadata": {
        "colab": {
          "base_uri": "https://localhost:8080/"
        },
        "id": "4ezIT9IiZdDH",
        "outputId": "c8699663-9bb9-4a50-cf01-29dc250c177f"
      },
      "source": [
        "print(algo.isupper())"
      ],
      "execution_count": 34,
      "outputs": [
        {
          "output_type": "stream",
          "text": [
            "False\n"
          ],
          "name": "stdout"
        }
      ]
    }
  ]
}