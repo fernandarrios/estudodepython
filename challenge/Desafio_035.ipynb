{
 "cells": [
  {
   "cell_type": "markdown",
   "source": [
    "Escreva um programa para aprovar o empréstimo bancário para a compra de uma casa.\n",
    "O programa vai perguntar o valor da casa, o salário do comprador e em quantos anos ele vai pagar.\n",
    "\n",
    "Calcule o valor da prestação mensal, sabendo que ela não pode exceder 30% do salário ou então o emprestimo\n",
    "será negado.\n",
    "\n",
    "*Certo*"
   ],
   "metadata": {
    "collapsed": false
   }
  },
  {
   "cell_type": "code",
   "execution_count": 10,
   "outputs": [
    {
     "name": "stdout",
     "output_type": "stream",
     "text": [
      "Empréstimo aceito.\n"
     ]
    }
   ],
   "source": [
    "house_price = float(input(\"Digite o valor da casa : R$\"))\n",
    "salary = float(input(\"Digite seu salário: R$\"))\n",
    "time_in_year = float(input(\"Em quantos anos pretende quitar a casa? \"))\n",
    "\n",
    "bill_time_in_month = house_price / (time_in_year * 12)\n",
    "minimum = salary * 0.3\n",
    "\n",
    "if bill_time_in_month <= allowed_loan:\n",
    "    print(\"Empréstimo aceito.\")\n",
    "else:\n",
    "    print(\"Empréstimo negado.\")\n"
   ],
   "metadata": {
    "collapsed": false,
    "pycharm": {
     "name": "#%%\n"
    }
   }
  }
 ],
 "metadata": {
  "kernelspec": {
   "name": "pycharm-2cc50196",
   "language": "python",
   "display_name": "PyCharm (curso_em_video)"
  },
  "language_info": {
   "codemirror_mode": {
    "name": "ipython",
    "version": 2
   },
   "file_extension": ".py",
   "mimetype": "text/x-python",
   "name": "python",
   "nbconvert_exporter": "python",
   "pygments_lexer": "ipython2",
   "version": "2.7.6"
  }
 },
 "nbformat": 4,
 "nbformat_minor": 0
}