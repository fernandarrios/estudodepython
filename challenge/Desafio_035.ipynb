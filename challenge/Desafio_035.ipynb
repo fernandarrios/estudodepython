{
 "cells": [
  {
   "cell_type": "markdown",
   "source": [
    "Escreva um programa para aprovar o empréstimo bancário para a compra de uma casa.\n",
    "O programa vai perguntar o valor da casa, o salário do comprador e em quantos anos ele vai pagar.\n",
    "\n",
    "Calcule o valor da prestação mensal, sabendo que ela não pode exceder 30% do salário ou então o emprestimo\n",
    "será negado.\n",
    "\n",
    "*Certo*"
   ],
   "metadata": {
    "collapsed": false
   }
  },
  {
   "cell_type": "code",
   "execution_count": 1,
   "outputs": [
    {
     "ename": "NameError",
     "evalue": "name 'allowed_loan' is not defined",
     "output_type": "error",
     "traceback": [
      "\u001B[1;31m---------------------------------------------------------------------------\u001B[0m",
      "\u001B[1;31mNameError\u001B[0m                                 Traceback (most recent call last)",
      "\u001B[1;32m~\\AppData\\Local\\Temp/ipykernel_7984/3153798183.py\u001B[0m in \u001B[0;36m<module>\u001B[1;34m\u001B[0m\n\u001B[0;32m      6\u001B[0m \u001B[0mminimum\u001B[0m \u001B[1;33m=\u001B[0m \u001B[0msalary\u001B[0m \u001B[1;33m*\u001B[0m \u001B[1;36m0.3\u001B[0m\u001B[1;33m\u001B[0m\u001B[1;33m\u001B[0m\u001B[0m\n\u001B[0;32m      7\u001B[0m \u001B[1;33m\u001B[0m\u001B[0m\n\u001B[1;32m----> 8\u001B[1;33m \u001B[1;32mif\u001B[0m \u001B[0mbill_time_in_month\u001B[0m \u001B[1;33m<=\u001B[0m \u001B[0mallowed_loan\u001B[0m\u001B[1;33m:\u001B[0m\u001B[1;33m\u001B[0m\u001B[1;33m\u001B[0m\u001B[0m\n\u001B[0m\u001B[0;32m      9\u001B[0m     \u001B[0mprint\u001B[0m\u001B[1;33m(\u001B[0m\u001B[1;34m\"Empréstimo aceito.\"\u001B[0m\u001B[1;33m)\u001B[0m\u001B[1;33m\u001B[0m\u001B[1;33m\u001B[0m\u001B[0m\n\u001B[0;32m     10\u001B[0m \u001B[1;32melse\u001B[0m\u001B[1;33m:\u001B[0m\u001B[1;33m\u001B[0m\u001B[1;33m\u001B[0m\u001B[0m\n",
      "\u001B[1;31mNameError\u001B[0m: name 'allowed_loan' is not defined"
     ]
    }
   ],
   "source": [
    "house_price = float(input(\"Digite o valor da casa : R$\"))\n",
    "salary = float(input(\"Digite seu salário: R$\"))\n",
    "time_in_year = float(input(\"Em quantos anos pretende quitar a casa? \"))\n",
    "\n",
    "bill_time_in_month = house_price / (time_in_year * 12)\n",
    "minimum = salary * 0.3\n",
    "\n",
    "if bill_time_in_month <= minimum:\n",
    "    print(\"Empréstimo aceito.\")\n",
    "else:\n",
    "    print(\"Empréstimo negado.\")\n"
   ],
   "metadata": {
    "collapsed": false,
    "pycharm": {
     "name": "#%%\n"
    }
   }
  }
 ],
 "metadata": {
  "kernelspec": {
   "name": "pycharm-2cc50196",
   "language": "python",
   "display_name": "PyCharm (curso_em_video)"
  },
  "language_info": {
   "codemirror_mode": {
    "name": "ipython",
    "version": 2
   },
   "file_extension": ".py",
   "mimetype": "text/x-python",
   "name": "python",
   "nbconvert_exporter": "python",
   "pygments_lexer": "ipython2",
   "version": "2.7.6"
  }
 },
 "nbformat": 4,
 "nbformat_minor": 0
}