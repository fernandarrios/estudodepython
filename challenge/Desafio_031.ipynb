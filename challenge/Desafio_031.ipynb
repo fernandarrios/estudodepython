{
  "nbformat": 4,
  "nbformat_minor": 0,
  "metadata": {
    "colab": {
      "name": "Desafio 031",
      "provenance": []
    },
    "kernelspec": {
      "name": "python3",
      "display_name": "Python 3"
    },
    "language_info": {
      "name": "python"
    }
  },
  "cells": [
    {
      "cell_type": "markdown",
      "metadata": {
        "id": "9Kl6K5MY3iOV"
      },
      "source": [
        "**Desafio 031:**\n",
        "\n",
        "Faça um programa que leia um ano qualquer e mostre se ele é bissexto.\n",
        "\n",
        "*Certo*"
      ]
    },
    {
      "cell_type": "code",
      "metadata": {
        "colab": {
          "base_uri": "https://localhost:8080/"
        },
        "id": "F5pYK5ZJUDGW",
        "outputId": "cb770765-de61-4201-a2cd-721343ed5f8b"
      },
      "source": [
        "from datetime import date\n",
        "year_to_be_analysed = int(input(\"Digite um ano e descubra se ele é bissexto. Para o ano atual digite 0: \"))\n",
        "\n",
        "if year_to_be_analysed == 0:\n",
        "  year_to_be_analysed = date.today().year\n",
        "if year_to_be_analysed % 4 == 0 and year_to_be_analysed % 100 != 0 or year_to_be_analysed % 400 == 0:\n",
        "  print(f\"O ano {year_to_be_analysed} é bissexto!\")\n",
        "else:\n",
        "  print(f\"O ano {year_to_be_analysed} não é bissexto.\")"
      ],
      "execution_count": 15,
      "outputs": [
        {
          "output_type": "stream",
          "text": [
            "Digite um ano e descubra se ele é bissexto. Para o ano atual digite 0: 2021\n",
            "O ano 2021 não é bissexto.\n"
          ],
          "name": "stdout"
        }
      ]
    }
  ]
}