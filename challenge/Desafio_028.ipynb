{
  "nbformat": 4,
  "nbformat_minor": 0,
  "metadata": {
    "colab": {
      "name": "Desafio 028",
      "provenance": []
    },
    "kernelspec": {
      "name": "python3",
      "display_name": "Python 3"
    },
    "language_info": {
      "name": "python"
    }
  },
  "cells": [
    {
      "cell_type": "markdown",
      "metadata": {
        "id": "9Kl6K5MY3iOV"
      },
      "source": [
        "**Desafio 028:**\n",
        "\n",
        "Escreva um programa que leia a velocidade de um carro. \n",
        "\n",
        "Se ele ultrapassar 80km/h mostre uma mensagem dizendo que ele foi multado.\n",
        "\n",
        "A multa vai custar R$7,00 por cada km acima do limite.\n",
        "\n",
        "*Certo*"
      ]
    },
    {
      "cell_type": "code",
      "metadata": {
        "id": "F5pYK5ZJUDGW"
      },
      "source": [
        ""
      ],
      "execution_count": null,
      "outputs": []
    },
    {
      "cell_type": "code",
      "metadata": {
        "colab": {
          "base_uri": "https://localhost:8080/"
        },
        "id": "tUOm-7U33ibN",
        "outputId": "5b254dd4-0289-4e91-e878-305149ac78b8"
      },
      "source": [
        "car_speed = float(input(\"Digite sua velocidade: \"))\n",
        "\n",
        "if car_speed <= 80:\n",
        "  print(\"Tudo certo. Pode prosseguir.\")\n",
        "else:\n",
        "  ticket = (car_speed - 80) * 7\n",
        "  print(f\"Você foi multado. Deverá pagar R${ticket:.2f}\")"
      ],
      "execution_count": 12,
      "outputs": [
        {
          "output_type": "stream",
          "text": [
            "Digite sua velocidade: 180\n",
            "Você foi multado. Deverá pagar R$700.00\n"
          ],
          "name": "stdout"
        }
      ]
    }
  ]
}