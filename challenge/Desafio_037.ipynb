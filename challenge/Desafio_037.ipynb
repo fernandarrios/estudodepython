{
 "cells": [
  {
   "cell_type": "markdown",
   "metadata": {
    "collapsed": true,
    "pycharm": {
     "name": "#%% md\n"
    }
   },
   "source": [
    "Escreva um programa que leia dois números inteiros e compare-os, mostrando na tela uma mensagem:\n",
    "- O primeiro valor é maior;\n",
    "- O segundo valor é maior;\n",
    "- Não existe valor maior, os dois são iguais;\n",
    "\n",
    "*Certo*"
   ]
  },
  {
   "cell_type": "code",
   "execution_count": 1,
   "outputs": [
    {
     "name": "stdout",
     "output_type": "stream",
     "text": [
      "O segundo valor 8.88888 é maior que o primeiro valor 8.888\n"
     ]
    }
   ],
   "source": [
    "number_one = float(input(\"Digite um número: \"))\n",
    "number_two = float(input(\"Digite outro número:\"))\n",
    "\n",
    "if number_one > number_two:\n",
    "    print(f\"O primeiro valor {number_one} é maior que o segundo valor {number_two}\")\n",
    "if number_one < number_two:\n",
    "    print(f\"O segundo valor {number_two} é maior que o primeiro valor {number_one}\")\n",
    "else:\n",
    "    print(\"Os valores sao iguais.\")\n"
   ],
   "metadata": {
    "collapsed": false,
    "pycharm": {
     "name": "#%%\n"
    }
   }
  }
 ],
 "metadata": {
  "kernelspec": {
   "name": "pycharm-2cc50196",
   "language": "python",
   "display_name": "PyCharm (curso_em_video)"
  },
  "language_info": {
   "codemirror_mode": {
    "name": "ipython",
    "version": 2
   },
   "file_extension": ".py",
   "mimetype": "text/x-python",
   "name": "python",
   "nbconvert_exporter": "python",
   "pygments_lexer": "ipython2",
   "version": "2.7.6"
  }
 },
 "nbformat": 4,
 "nbformat_minor": 0
}