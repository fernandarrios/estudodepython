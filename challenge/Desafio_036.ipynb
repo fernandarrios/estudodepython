{
 "cells": [
  {
   "cell_type": "markdown",
   "metadata": {
    "collapsed": true,
    "pycharm": {
     "name": "#%% md\n"
    }
   },
   "source": [
    "Escreva um programa que leia um número inteiro qualquer e peça para o usuário escolher qual será a base de\n",
    "conversão:\n",
    "- 1 para binário\n",
    "- 2 para octal\n",
    "- 3 para hexadecimal"
   ]
  },
  {
   "cell_type": "code",
   "execution_count": 3,
   "outputs": [
    {
     "name": "stdout",
     "output_type": "stream",
     "text": [
      "O número escolhido 888 em binário é: 1101111000\n"
     ]
    }
   ],
   "source": [
    "number_to_be_converted = int(input(\"Digite um número qualquer para transformá-lo: \"))\n",
    "\n",
    "type_to_be_converted = int(input(\"Digite 1 - para binário.\\nDigite 2 - para octal.\\nDigite 3 - para hexadecimal.\"))\n",
    "\n",
    "if type_to_be_converted == 1:\n",
    "    print(f\"O número escolhido {number_to_be_converted} em binário é: {format(number_to_be_converted, 'b')}\")\n",
    "elif type_to_be_converted == 2:\n",
    "    print(f\"O número escolhido {number_to_be_converted} em octal é: {format(number_to_be_converted, 'o')}\")\n",
    "elif type_to_be_converted == 3:\n",
    "    print(f\"O número escolhido {number_to_be_converted} em hexadecimal é: {format(number_to_be_converted, 'x')}\")"
   ],
   "metadata": {
    "collapsed": false,
    "pycharm": {
     "name": "#%%\n"
    }
   }
  }
 ],
 "metadata": {
  "kernelspec": {
   "name": "pycharm-2cc50196",
   "language": "python",
   "display_name": "PyCharm (curso_em_video)"
  },
  "language_info": {
   "codemirror_mode": {
    "name": "ipython",
    "version": 2
   },
   "file_extension": ".py",
   "mimetype": "text/x-python",
   "name": "python",
   "nbconvert_exporter": "python",
   "pygments_lexer": "ipython2",
   "version": "2.7.6"
  }
 },
 "nbformat": 4,
 "nbformat_minor": 0
}