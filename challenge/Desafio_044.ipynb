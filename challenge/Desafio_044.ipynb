{
 "cells": [
  {
   "cell_type": "markdown",
   "metadata": {
    "collapsed": true,
    "pycharm": {
     "name": "#%% md\n"
    }
   },
   "source": [
    "Crie um programa que faça o computador jogar Jokenpô com você."
   ]
  },
  {
   "cell_type": "code",
   "execution_count": 50,
   "outputs": [
    {
     "name": "stdout",
     "output_type": "stream",
     "text": [
      "Jogada inválida.\n"
     ]
    }
   ],
   "source": [
    "from random import choice\n",
    "\n",
    "person_choice = input(\"Escolha Pedra, Papel ou Tesoura.\").strip().upper()\n",
    "computer_choice = [\"PEDRA\", \"PAPEL\", \"TESOURA\"]\n",
    "selecting_an_element = choice(computer_choice)\n",
    "\n",
    "\n",
    "if person_choice == selecting_an_element:\n",
    "    print(\"Empate.\")\n",
    "elif person_choice == \"TESOURA\":\n",
    "    if selecting_an_element == \"PAPEL\":\n",
    "        print(\"Tesoura corta papel. Você ganhou.\")\n",
    "    elif selecting_an_element == \"PEDRA\":\n",
    "        print(\"Pedra amassa tesoura. Você perdeu.\")\n",
    "elif person_choice == \"PEDRA\":\n",
    "    if selecting_an_element == \"TESOURA\":\n",
    "        print(\"Pedra amassa tesoura. Você ganhou.\")\n",
    "    elif selecting_an_element == \"PAPEL\":\n",
    "        print(\"Papel embrulha pedra. Você perdeu.\")\n",
    "elif person_choice == \"PAPEL\":\n",
    "    if selecting_an_element == \"PEDRA\":\n",
    "        print(\"Papel embrulha pedra. Você ganhou.\")\n",
    "    elif selecting_an_element == \"TESOURA\":\n",
    "        print(\"Tesoura corta papel. Você perdeu.\")\n",
    "else:\n",
    "    print(\"Jogada inválida.\")"
   ],
   "metadata": {
    "collapsed": false,
    "pycharm": {
     "name": "#%%\n"
    }
   }
  }
 ],
 "metadata": {
  "kernelspec": {
   "name": "pycharm-2cc50196",
   "language": "python",
   "display_name": "PyCharm (curso_em_video)"
  },
  "language_info": {
   "codemirror_mode": {
    "name": "ipython",
    "version": 2
   },
   "file_extension": ".py",
   "mimetype": "text/x-python",
   "name": "python",
   "nbconvert_exporter": "python",
   "pygments_lexer": "ipython2",
   "version": "2.7.6"
  }
 },
 "nbformat": 4,
 "nbformat_minor": 0
}