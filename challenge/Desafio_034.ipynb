{
 "nbformat": 4,
 "nbformat_minor": 0,
 "metadata": {
  "colab": {
   "name": "Desafio 034",
   "provenance": []
  },
  "kernelspec": {
   "name": "pycharm-2cc50196",
   "language": "python",
   "display_name": "PyCharm (curso_em_video)"
  },
  "language_info": {
   "name": "python"
  }
 },
 "cells": [
  {
   "cell_type": "markdown",
   "metadata": {
    "id": "9Kl6K5MY3iOV"
   },
   "source": [
    "**Desafio 034:**\n",
    "\n",
    "Desenvolva um programa que leia o comprimento de três retas e diga ao usuário se elas podem ou não formar um triângulo.\n",
    "\n",
    "*Certo*"
   ]
  },
  {
   "cell_type": "code",
   "metadata": {
    "colab": {
     "base_uri": "https://localhost:8080/"
    },
    "id": "F5pYK5ZJUDGW",
    "outputId": "91d770b4-3fda-4765-c2e9-0848e3731a01"
   },
   "source": [
    "vertex_one = float(input(\"Digite a primeira reta: \"))\n",
    "vertex_two = float(input(\"Digite a segunda reta: \"))\n",
    "vertex_three = float(input(\"Digite a terceita reta: \"))\n",
    "\n",
    "if  (vertex_one < vertex_two + vertex_three) and (vertex_two < vertex_one + vertex_three) and (vertex_three < vertex_one + vertex_two):\n",
    "  print(\"Essas retas podem forma um triângulo, pois o comprimento de cada lado é menor que a soma dos outros dois lados.\")\n",
    "  if vertex_one == vertex_two and vertex_three == vertex_two:\n",
    "    print(\"Essas retas irão formar um triângulo EQUILÁTERO.\")\n",
    "  elif vertex_one == vertex_two or vertex_two == vertex_three or vertex_one == vertex_three:\n",
    "    print(\"Essas retas irão formar um triângulo ISÓCELES\")\n",
    "  elif vertex_one != vertex_two and vertex_two != vertex_three and vertex_three != vertex_one:\n",
    "    print(\"Essas retas irão formar um triângulo ESCALENO\")\n",
    "else:\n",
    "  print(\"Essas retas não podem formar um triângulo\")"
   ],
   "execution_count": 1,
   "outputs": [
    {
     "name": "stdout",
     "output_type": "stream",
     "text": [
      "Essas retas podem forma um triângulo, pois o comprimento de cada lado é menor que a soma dos outros dois lados.\n",
      "Essas retas irão formar um triângulo ESCALENO\n"
     ]
    }
   ]
  }
 ]
}