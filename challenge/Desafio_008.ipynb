{
  "nbformat": 4,
  "nbformat_minor": 0,
  "metadata": {
    "colab": {
      "name": "Desafio 008",
      "provenance": []
    },
    "kernelspec": {
      "name": "python3",
      "display_name": "Python 3"
    },
    "language_info": {
      "name": "python"
    }
  },
  "cells": [
    {
      "cell_type": "markdown",
      "metadata": {
        "id": "9Kl6K5MY3iOV"
      },
      "source": [
        "**Desafio 008:**\n",
        "\n",
        "Escreva um programa que leia um valor em metros e o exiba convertido em centímetros e milimetros.\n",
        "\n",
        "*Certo*"
      ]
    },
    {
      "cell_type": "code",
      "metadata": {
        "colab": {
          "base_uri": "https://localhost:8080/"
        },
        "id": "tUOm-7U33ibN",
        "outputId": "d2b7ebd0-ee9c-4e79-fcad-8b6ab4de125b"
      },
      "source": [
        "comprimento = float(input('Digite um valor em metros: '))\n",
        "print(f'O valor {comprimento} metros equivale: \\nDecímetro: {comprimento*10} \\nCintímetro: {comprimento*100} \\nMilímetro: {comprimento*1000} \\nDecâmetro: {comprimento/10} \\nHectômetro: {comprimento/100} \\nKilômetro: {comprimento/1000}')"
      ],
      "execution_count": 25,
      "outputs": [
        {
          "output_type": "stream",
          "text": [
            "Digite um valor em metros: 10\n",
            "O valor 10.0 metros equivale: \n",
            "Decímetro: 100.0 \n",
            "Cintímetro: 1000.0 \n",
            "Milímetro: 10000.0 \n",
            "Decâmetro: 1.0 \n",
            "Hectômetro: 0.1 \n",
            "Kilômetro: 0.01\n"
          ],
          "name": "stdout"
        }
      ]
    }
  ]
}