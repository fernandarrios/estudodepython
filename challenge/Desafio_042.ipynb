{
 "cells": [
  {
   "cell_type": "markdown",
   "metadata": {
    "collapsed": true,
    "pycharm": {
     "name": "#%% md\n"
    }
   },
   "source": [
    "Desenvolva uma lógica que leia o peso e a altura de uma pessoa, calcule seu IMC e mostre seu status de acordo\n",
    "com a tabela abaixo:\n",
    "- Abaixo de 18.5: ABAIXO DO PESO;\n",
    "- Entre 18.5 e 25: PESO IDEAL;\n",
    "- 25 até 30: SOBREPESO;\n",
    "- 30 até 40: OBESIDADE;\n",
    "- Acima de 40: OBESIDADE MÓRBIDA;"
   ]
  },
  {
   "cell_type": "code",
   "execution_count": 1,
   "outputs": [
    {
     "name": "stdout",
     "output_type": "stream",
     "text": [
      "ABAIXO DO PESO\n"
     ]
    }
   ],
   "source": [
    "from math import exp\n",
    "\n",
    "weight = float(input(\"Digite seu peso em Kg: \"))\n",
    "height = float(input(\"Digite sua altura em metros: \"))\n",
    "\n",
    "imc_calculator = weight / exp(height)\n",
    "\n",
    "if imc_calculator < 18.5:\n",
    "    print(\"ABAIXO DO PESO\")\n",
    "elif 18.5 < imc_calculator < 25:\n",
    "    print(\"PESO IDEAL\")\n",
    "elif 25 < imc_calculator < 40:\n",
    "    print(\"OBESIDADE\")\n",
    "else:\n",
    "    print(\"OBESIDADE MÓRBIDA\")"
   ],
   "metadata": {
    "collapsed": false,
    "pycharm": {
     "name": "#%%\n"
    }
   }
  }
 ],
 "metadata": {
  "kernelspec": {
   "name": "pycharm-2cc50196",
   "language": "python",
   "display_name": "PyCharm (curso_em_video)"
  },
  "language_info": {
   "codemirror_mode": {
    "name": "ipython",
    "version": 2
   },
   "file_extension": ".py",
   "mimetype": "text/x-python",
   "name": "python",
   "nbconvert_exporter": "python",
   "pygments_lexer": "ipython2",
   "version": "2.7.6"
  }
 },
 "nbformat": 4,
 "nbformat_minor": 0
}