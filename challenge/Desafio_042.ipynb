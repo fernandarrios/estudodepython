{
 "cells": [
  {
   "cell_type": "markdown",
   "metadata": {
    "collapsed": true,
    "pycharm": {
     "name": "#%% md\n"
    }
   },
   "source": [
    "Desenvolva uma lógica que leia o peso e a altura de uma pessoa, calcule seu IMC e mostre seu status de acordo\n",
    "com a tabela abaixo:\n",
    "- Abaixo de 18.5: ABAIXO DO PESO;\n",
    "- Entre 18.5 e 25: PESO IDEAL;\n",
    "- 25 até 30: SOBREPESO;\n",
    "- 30 até 40: OBESIDADE;\n",
    "- Acima de 40: OBESIDADE MÓRBIDA;\n",
    "\n",
    "*Corrigido*"
   ]
  },
  {
   "cell_type": "code",
   "execution_count": 19,
   "outputs": [
    {
     "name": "stdout",
     "output_type": "stream",
     "text": [
      "OBESIDADE. IMC: 31.23698458975427\n"
     ]
    }
   ],
   "source": [
    "# from math import exp\n",
    "from math import pow\n",
    "\n",
    "weight = float(input(\"Digite seu peso em Kg: \"))\n",
    "height = float(input(\"Digite sua altura em metros: \"))\n",
    "\n",
    "# imc_calculator = weight / exp(height)\n",
    "imc_calculator = weight / pow(height, 2)\n",
    "\n",
    "if imc_calculator < 18.5:\n",
    "    print(f\"ABAIXO DO PESO. IMC: {imc_calculator}\")\n",
    "elif 18.5 <= imc_calculator < 25:\n",
    "    print(f\"PESO IDEAL. IMC: {imc_calculator}\")\n",
    "elif 25 <= imc_calculator < 30:\n",
    "    print(f\"SOBREPESO. IMC: {imc_calculator}\")\n",
    "elif 30 <= imc_calculator < 40:\n",
    "    print(f\"OBESIDADE. IMC: {imc_calculator}\")\n",
    "else:\n",
    "    print(f\"OBESIDADE MÓRBIDA. IMC: {imc_calculator}\")"
   ],
   "metadata": {
    "collapsed": false,
    "pycharm": {
     "name": "#%%\n"
    }
   }
  }
 ],
 "metadata": {
  "kernelspec": {
   "name": "pycharm-2cc50196",
   "language": "python",
   "display_name": "PyCharm (curso_em_video)"
  },
  "language_info": {
   "codemirror_mode": {
    "name": "ipython",
    "version": 2
   },
   "file_extension": ".py",
   "mimetype": "text/x-python",
   "name": "python",
   "nbconvert_exporter": "python",
   "pygments_lexer": "ipython2",
   "version": "2.7.6"
  }
 },
 "nbformat": 4,
 "nbformat_minor": 0
}