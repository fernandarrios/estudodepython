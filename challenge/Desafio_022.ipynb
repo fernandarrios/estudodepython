{
  "nbformat": 4,
  "nbformat_minor": 0,
  "metadata": {
    "colab": {
      "name": "Desafio 022",
      "provenance": []
    },
    "kernelspec": {
      "name": "python3",
      "display_name": "Python 3"
    },
    "language_info": {
      "name": "python"
    }
  },
  "cells": [
    {
      "cell_type": "markdown",
      "metadata": {
        "id": "9Kl6K5MY3iOV"
      },
      "source": [
        "**Desafio 022:**\n",
        "\n",
        "Faça um programa que leia um número de 0 a 9999 e mostre na tela cada um dos dígitos separados. \n",
        "\n",
        "Ex: Digite um número: 1834\n",
        "\n",
        "Unidade: 4 \n",
        "\n",
        "Dezena: 3\n",
        "\n",
        "Centena: 8 \n",
        "\n",
        "Milhar: 1 \n",
        "\n",
        "*Corrigido*"
      ]
    },
    {
      "cell_type": "code",
      "metadata": {
        "colab": {
          "base_uri": "https://localhost:8080/"
        },
        "id": "tUOm-7U33ibN",
        "outputId": "69548077-113c-4033-fcdb-306f2148c6d3"
      },
      "source": [
        "number_to_be_read = int(input('Digite um número de 0 a 9999: '))\n",
        "print(f'O número digitado {number_to_be_read} tem:\\nUnidade: {number_to_be_read//1%10}. \\nDezena: {number_to_be_read//10%10}.\\nCentena: {number_to_be_read//100%10}.\\nMilhar: {number_to_be_read//1000%10}')"
      ],
      "execution_count": 6,
      "outputs": [
        {
          "output_type": "stream",
          "text": [
            "Digite um número de 0 a 9999: 999\n",
            "O número digitado 999 tem:\n",
            "Unidade: 9. \n",
            "Dezena: 9.\n",
            "Centena: 9.\n",
            "Milhar: 0\n"
          ],
          "name": "stdout"
        }
      ]
    }
  ]
}