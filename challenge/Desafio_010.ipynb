{
  "nbformat": 4,
  "nbformat_minor": 0,
  "metadata": {
    "colab": {
      "name": "Desafio 010",
      "provenance": []
    },
    "kernelspec": {
      "name": "python3",
      "display_name": "Python 3"
    },
    "language_info": {
      "name": "python"
    }
  },
  "cells": [
    {
      "cell_type": "markdown",
      "metadata": {
        "id": "9Kl6K5MY3iOV"
      },
      "source": [
        "**Desafio 010:**\n",
        "\n",
        "Crie um programa que leia quanto dinheiro uma pessoa tem na carteira e mostre quantos dólares ela pode comprar.\n",
        "\n",
        "Considero a cotação do dia 24/05/2021: R$1 = US 0.18\n",
        "\n",
        "\n",
        "*Certo*"
      ]
    },
    {
      "cell_type": "code",
      "metadata": {
        "colab": {
          "base_uri": "https://localhost:8080/"
        },
        "id": "tUOm-7U33ibN",
        "outputId": "63ccc541-eab3-480a-cd67-06419da403fa"
      },
      "source": [
        "real = float(input('Insira a quantidade de R$ que deseja converter: '))\n",
        "\n",
        "print(f'O valor de R${real} equivale à US${0.18*real:.2f}')"
      ],
      "execution_count": 27,
      "outputs": [
        {
          "output_type": "stream",
          "text": [
            "Insira a quantidade de R$ que deseja converter: 50\n",
            "O valor de R$50.0 equivale à US$9.00\n"
          ],
          "name": "stdout"
        }
      ]
    },
    {
      "cell_type": "code",
      "metadata": {
        "colab": {
          "base_uri": "https://localhost:8080/"
        },
        "id": "wdZkoFN2-7YT",
        "outputId": "71337e31-b627-44e8-b149-043fb5d9fdcd"
      },
      "source": [
        "dolar = float(input('Insira a quantidade de US$ que deseja converter: '))\n",
        "\n",
        "print(f'O valor de US${dolar} equivale à R${dolar*5.32:.2f}')"
      ],
      "execution_count": 28,
      "outputs": [
        {
          "output_type": "stream",
          "text": [
            "Insira a quantidade de US$ que deseja converter: 80\n",
            "O valor de US$80.0 equivale à R$425.60\n"
          ],
          "name": "stdout"
        }
      ]
    }
  ]
}