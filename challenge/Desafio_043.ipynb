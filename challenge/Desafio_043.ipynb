{
 "cells": [
  {
   "cell_type": "markdown",
   "source": [
    "Elabore um programa que calcule o valor a ser pago por um produto, considerando o seu preço normal e\n",
    "condição de pagamento:\n",
    "- Á vista dinheiro/cheque: 10% de desconto;\n",
    "- Á vista no cartão: 5% de desconto;\n",
    "- Em até 2x no cartão: preço normal.\n",
    "- 3x ou mais no cartão: 20% de juros;"
   ],
   "metadata": {
    "collapsed": false,
    "pycharm": {
     "name": "#%% md\n"
    }
   }
  },
  {
   "cell_type": "code",
   "execution_count": null,
   "outputs": [],
   "source": [],
   "metadata": {
    "collapsed": false,
    "pycharm": {
     "name": "#%%\n"
    }
   }
  }
 ],
 "metadata": {
  "kernelspec": {
   "name": "pycharm-2cc50196",
   "language": "python",
   "display_name": "PyCharm (curso_em_video)"
  },
  "language_info": {
   "codemirror_mode": {
    "name": "ipython",
    "version": 2
   },
   "file_extension": ".py",
   "mimetype": "text/x-python",
   "name": "python",
   "nbconvert_exporter": "python",
   "pygments_lexer": "ipython2",
   "version": "2.7.6"
  }
 },
 "nbformat": 4,
 "nbformat_minor": 0
}