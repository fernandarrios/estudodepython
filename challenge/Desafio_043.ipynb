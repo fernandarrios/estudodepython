{
 "cells": [
  {
   "cell_type": "markdown",
   "metadata": {
    "collapsed": true,
    "pycharm": {
     "name": "#%% md\n"
    }
   },
   "source": [
    "Elabore um programa que calcule o valor a ser pago por um produto, considerando o seu\n",
    "preço normal e condição de pagamento:\n",
    "- Á vista dinheiro/cheque: 10% de desconto;\n",
    "- Á vista no cartão: 5% de desconto;\n",
    "- Em até 2x no cartão: preço normal.\n",
    "- 3x ou mais no cartão: 20% de juros;"
   ]
  },
  {
   "cell_type": "code",
   "execution_count": 8,
   "outputs": [
    {
     "name": "stdout",
     "output_type": "stream",
     "text": [
      "O valor da compra será de 480.0 em 5 parcelas de 96.0\n"
     ]
    }
   ],
   "source": [
    "product_price = float(input(\"Digite o valor da compra: \"))\n",
    "payment_method = int(input(\"Digite a forma de pagamento:\\n\"\n",
    "                           \"1- Á vista no dinheiro - 10% de desconto\\n\"\n",
    "                           \"2- Á vista no cartão de débito - 5% de desconto.\\n\"\n",
    "                           \"3- Em até 2x no cartão de crédito.\\n\"\n",
    "                           \"4- 3x ou mais no cartão de crédito - 20% de juros.\"))\n",
    "if payment_method == 1:\n",
    "    ten_discount = product_price - (product_price * 0.1)\n",
    "    print(f\"O valor da compra será de {ten_discount}.\")\n",
    "elif payment_method == 2:\n",
    "    five_discount = product_price - (product_price * 0.05)\n",
    "    print(f\"O valor da compra será de {five_discount}.\")\n",
    "elif payment_method == 3:\n",
    "    installment = product_price / 2\n",
    "    print(f\"O valor da compra será de {product_price} com duas parcelas de {installment}.\")\n",
    "elif payment_method == 4:\n",
    "    interest_rate = product_price + (product_price * 0.2)\n",
    "    installment = int(input(\"Quantas parcelas? \"))\n",
    "    installment_amount = interest_rate / installment\n",
    "    print(f\"O valor da compra será de {interest_rate} em {installment} parcelas de {installment_amount}\")\n",
    "else:\n",
    "    print(\"ENTRADA INVÁLIDA\")"
   ],
   "metadata": {
    "collapsed": false,
    "pycharm": {
     "name": "#%%\n"
    }
   }
  }
 ],
 "metadata": {
  "kernelspec": {
   "display_name": "Python 3",
   "language": "python",
   "name": "python3"
  },
  "language_info": {
   "codemirror_mode": {
    "name": "ipython",
    "version": 2
   },
   "file_extension": ".py",
   "mimetype": "text/x-python",
   "name": "python",
   "nbconvert_exporter": "python",
   "pygments_lexer": "ipython2",
   "version": "2.7.6"
  }
 },
 "nbformat": 4,
 "nbformat_minor": 0
}