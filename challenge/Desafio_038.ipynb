{
 "cells": [
  {
   "cell_type": "markdown",
   "metadata": {
    "collapsed": true,
    "pycharm": {
     "name": "#%% md\n"
    }
   },
   "source": [
    "Faça um programa que leia o ano de nascimento de um jovem e informe, de acordo com sua idade:\n",
    "- Se ele ainda vai se alistar ao serviço militar.\n",
    "- Se é a hora de se alistar.\n",
    "- Se já passou do tempo de alistamento.\n",
    "\n",
    "Seu programa também deverá mostrar o tempo que falta ou que passou do\n",
    "prazo."
   ]
  },
  {
   "cell_type": "code",
   "execution_count": 12,
   "outputs": [
    {
     "name": "stdout",
     "output_type": "stream",
     "text": [
      "Você tem 18 anos. Hora de se alistar.\n"
     ]
    }
   ],
   "source": [
    "from datetime import date\n",
    "\n",
    "\n",
    "birth_year = int(input(\"Digite o ano do seu nascimento: \"))\n",
    "current_year = date.today().year\n",
    "militar_time = current_year - birth_year\n",
    "\n",
    "if militar_time < 18:\n",
    "    print(f\"Faltam {18 - militar_time} anos para se alistar.\")\n",
    "elif militar_time == 18:\n",
    "    print(\"Você tem 18 anos. Hora de se alistar.\")\n",
    "elif militar_time > 18:\n",
    "    print(f\"Passou {militar_time - 18} anos do seu alistamento. Procure o quartel mais próximo para resolver o problema.\")"
   ],
   "metadata": {
    "collapsed": false,
    "pycharm": {
     "name": "#%%\n"
    }
   }
  }
 ],
 "metadata": {
  "kernelspec": {
   "name": "pycharm-2cc50196",
   "language": "python",
   "display_name": "PyCharm (curso_em_video)"
  },
  "language_info": {
   "codemirror_mode": {
    "name": "ipython",
    "version": 2
   },
   "file_extension": ".py",
   "mimetype": "text/x-python",
   "name": "python",
   "nbconvert_exporter": "python",
   "pygments_lexer": "ipython2",
   "version": "2.7.6"
  }
 },
 "nbformat": 4,
 "nbformat_minor": 0
}