{
  "nbformat": 4,
  "nbformat_minor": 0,
  "metadata": {
    "colab": {
      "name": "Desafio 015",
      "provenance": []
    },
    "kernelspec": {
      "name": "python3",
      "display_name": "Python 3"
    },
    "language_info": {
      "name": "python"
    }
  },
  "cells": [
    {
      "cell_type": "markdown",
      "metadata": {
        "id": "9Kl6K5MY3iOV"
      },
      "source": [
        "**Desafio 015:**\n",
        "\n",
        "Escreva um programa que pergunte a quantidade de Km percorridos por um carro alugado e a quantidade de dias pelos quais ele foi alugado. Calcule o preço a pagar, sabendo que o carro custa 60 reais por dia e R$0,15 por Km rodado.\n",
        "\n",
        "*Certo*"
      ]
    },
    {
      "cell_type": "code",
      "metadata": {
        "colab": {
          "base_uri": "https://localhost:8080/"
        },
        "id": "tUOm-7U33ibN",
        "outputId": "6b67c1ea-eb77-4453-87fc-f10b865d061d"
      },
      "source": [
        "km = float(input('Digite a quantidade de Km pecorridos: '))\n",
        "dia = int(input('Digite a quantidade de dias alugados: '))\n",
        "total = (dia * 60) + (km * 0.15)\n",
        "print(f'O total à pagar por {dia} dia(s) alugado(s) e {km:.2f}km pecorridos foi de R${total:.2f}')"
      ],
      "execution_count": 5,
      "outputs": [
        {
          "output_type": "stream",
          "text": [
            "Digite a quantidade de Km pecorridos: 50\n",
            "Digite a quantidade de dias alugados: 120\n",
            "O total à pagar por 120 dia(s) alugado(s) e 50.00km pecorridos foi de R$7207.50\n"
          ],
          "name": "stdout"
        }
      ]
    }
  ]
}