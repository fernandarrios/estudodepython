{
  "nbformat": 4,
  "nbformat_minor": 0,
  "metadata": {
    "colab": {
      "name": "Desafio 018",
      "provenance": []
    },
    "kernelspec": {
      "name": "python3",
      "display_name": "Python 3"
    },
    "language_info": {
      "name": "python"
    }
  },
  "cells": [
    {
      "cell_type": "markdown",
      "metadata": {
        "id": "9Kl6K5MY3iOV"
      },
      "source": [
        "**Desafio 018:**\n",
        "\n",
        "Faça um programa que leia um ângulo qualquer e mostre na tela o valor do seno, cosseno e tangente desse ângulo.\n",
        "\n",
        "*Corrigido*"
      ]
    },
    {
      "cell_type": "code",
      "metadata": {
        "colab": {
          "base_uri": "https://localhost:8080/"
        },
        "id": "tUOm-7U33ibN",
        "outputId": "61e5b4f5-9457-4049-e426-bcfc87ee7b31"
      },
      "source": [
        "angle = float(input('Digite um ângulo: ')) \n",
        "'''\n",
        "Nesse input, o valor inserido está em graus, e para o cálculo matemático o valor tem que ser convertido para graus radianos.\n",
        "'''\n",
        "from math import sin, tan, cos\n",
        "sen = sin(angle)\n",
        "tang = tan(angle)\n",
        "cose = cos(angle)\n",
        "print(f'O seno desse ângulo é {sen:.3f}.\\nA tangente desse ângulo é {tang:.3f}.\\nO cosseno desse ângulo é {cose:.3f}')"
      ],
      "execution_count": 1,
      "outputs": [
        {
          "output_type": "stream",
          "text": [
            "Digite um ângulo: 54\n",
            "O seno desse ângulo é -0.559.\n",
            "A tangente desse ângulo é 0.674.\n",
            "O cosseno desse ângulo é -0.829\n"
          ],
          "name": "stdout"
        }
      ]
    },
    {
      "cell_type": "code",
      "metadata": {
        "id": "DJ1lUoDtRI2B",
        "outputId": "44534d9a-415e-46a0-ec2e-8a66376bc834",
        "colab": {
          "base_uri": "https://localhost:8080/"
        }
      },
      "source": [
        "#código corrigido\n",
        "import math\n",
        "an = float(input('Digite o ângulo que você deseja: '))\n",
        "seno = math.sin(math.radians(an))\n",
        "cose = math.cos(math.radians(an))\n",
        "tang = math.tan(math.radians(an))\n",
        "print(f'O seno desse ângulo é {seno:.2f}.\\nO cosseno desse ângulo é {cose:.2f}.\\nA tangente desse ângulo é {tang:.2f} ')"
      ],
      "execution_count": 2,
      "outputs": [
        {
          "output_type": "stream",
          "text": [
            "Digite o ângulo que você deseja: 90\n",
            "O seno desse ângulo é 1.00.\n",
            "O cosseno desse ângulo é 0.00.\n",
            "A tangente desse ângulo é 16331239353195370.00 \n"
          ],
          "name": "stdout"
        }
      ]
    }
  ]
}