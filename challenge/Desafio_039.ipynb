{
 "cells": [
  {
   "cell_type": "markdown",
   "metadata": {
    "collapsed": true,
    "pycharm": {
     "name": "#%% md\n"
    }
   },
   "source": [
    "Crie um programa que leia duas notas de um aluno e calcule sua média, mostrando uma mensagem\n",
    "no final, de acordo com a média atingida:\n",
    "- Média abaixo de 5.0: REPROVADO\n",
    "- Média entre 5.0 e 6.9: RECUPERÇÃO\n",
    "- Média 7 ou superior: APROVADO"
   ]
  },
  {
   "cell_type": "code",
   "execution_count": 8,
   "outputs": [
    {
     "name": "stdout",
     "output_type": "stream",
     "text": [
      "REPROVADO\n"
     ]
    }
   ],
   "source": [
    "grade = []\n",
    "grade_one = float(input(\"Digite sua primeira nota: \"))\n",
    "grade.append(grade_one)\n",
    "grade_two = float(input(\"Digite a sua segunda nota: \"))\n",
    "grade.append(grade_two)\n",
    "\n",
    "median_grade = sum(grade) / (len(grade))\n",
    "if median_grade < 5:\n",
    "    print(\"REPROVADO\")\n",
    "elif  5.9 <= median_grade >=6.9:\n",
    "    print(\"EM RECUPERAÇÃO\")\n",
    "else:\n",
    "    print(\"APROVADO\")"
   ],
   "metadata": {
    "collapsed": false,
    "pycharm": {
     "name": "#%%\n"
    }
   }
  }
 ],
 "metadata": {
  "kernelspec": {
   "name": "pycharm-2cc50196",
   "language": "python",
   "display_name": "PyCharm (curso_em_video)"
  },
  "language_info": {
   "codemirror_mode": {
    "name": "ipython",
    "version": 2
   },
   "file_extension": ".py",
   "mimetype": "text/x-python",
   "name": "python",
   "nbconvert_exporter": "python",
   "pygments_lexer": "ipython2",
   "version": "2.7.6"
  }
 },
 "nbformat": 4,
 "nbformat_minor": 0
}