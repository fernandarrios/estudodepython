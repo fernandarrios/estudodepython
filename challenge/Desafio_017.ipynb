{
  "nbformat": 4,
  "nbformat_minor": 0,
  "metadata": {
    "colab": {
      "name": "Desafio 017",
      "provenance": []
    },
    "kernelspec": {
      "name": "python3",
      "display_name": "Python 3"
    },
    "language_info": {
      "name": "python"
    }
  },
  "cells": [
    {
      "cell_type": "markdown",
      "metadata": {
        "id": "9Kl6K5MY3iOV"
      },
      "source": [
        "**Desafio 017:**\n",
        "\n",
        "Faça um programa que leia o cateto oposto e o cateto adjacente de um triângulo retângulo, calcule e mostre o cumprimento da hipotenusa.\n",
        "\n",
        "*Certo*"
      ]
    },
    {
      "cell_type": "code",
      "metadata": {
        "colab": {
          "base_uri": "https://localhost:8080/"
        },
        "id": "tUOm-7U33ibN",
        "outputId": "c4078600-8013-4d48-ab55-1e4c0e5aead4"
      },
      "source": [
        "import math\n",
        "cateto1 = float(input('Insira o cateto oposto do triângulo: '))\n",
        "cateto2 = float(input('Insira o cateto adjacente do triângulo: '))\n",
        "hipo = math.hypot(cateto1,cateto2)\n",
        "print(f'Medidas do triângulo.\\nCateto oposto: {cateto1}.\\nCateto adjacente: {cateto2}.\\nHipotenusa: {hipo:.3f}')"
      ],
      "execution_count": 10,
      "outputs": [
        {
          "output_type": "stream",
          "text": [
            "Insira o cateto oposto do triângulo: 54\n",
            "Insira o cateto adjacente do triângulo: 45\n",
            "Medidas do triângulo.\n",
            "Cateto oposto: 54.0.\n",
            "Cateto adjacente: 45.0.\n",
            "Hipotenusa: 70.292\n"
          ],
          "name": "stdout"
        }
      ]
    }
  ]
}