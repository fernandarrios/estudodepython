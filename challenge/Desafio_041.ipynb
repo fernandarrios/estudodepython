{
 "cells": [
  {
   "cell_type": "markdown",
   "metadata": {
    "collapsed": true,
    "pycharm": {
     "name": "#%% md\n"
    }
   },
   "source": [
    "Refaça o desafio 035 dos triângulos, acrescentando o recurso de mostrar que tipo d triângulo será formado:\n",
    "- Equilátero: todos os lados iguais;\n",
    "- Isósceles: dois lados iguais;\n",
    "- Escaleno = todos os lados diferentes"
   ]
  },
  {
   "cell_type": "code",
   "execution_count": 2,
   "outputs": [
    {
     "name": "stdout",
     "output_type": "stream",
     "text": [
      "<function one_igual_two at 0x0000027A18C74940>\n",
      "Essas retas podem forma um triângulo, pois o comprimento de cada lado é menor que a soma dos outros dois lados.\n"
     ]
    },
    {
     "ename": "TypeError",
     "evalue": "one_igual_two() missing 2 required positional arguments: 'verticeone' and 'verticetwo'",
     "output_type": "error",
     "traceback": [
      "\u001B[1;31m---------------------------------------------------------------------------\u001B[0m",
      "\u001B[1;31mTypeError\u001B[0m                                 Traceback (most recent call last)",
      "\u001B[1;32m~\\AppData\\Local\\Temp/ipykernel_12008/2632765720.py\u001B[0m in \u001B[0;36m<module>\u001B[1;34m\u001B[0m\n\u001B[0;32m      8\u001B[0m \u001B[1;32mif\u001B[0m  \u001B[1;33m(\u001B[0m\u001B[0mvertex_one\u001B[0m \u001B[1;33m<\u001B[0m \u001B[0mvertex_two\u001B[0m \u001B[1;33m+\u001B[0m \u001B[0mvertex_three\u001B[0m\u001B[1;33m)\u001B[0m \u001B[1;32mand\u001B[0m \u001B[1;33m(\u001B[0m\u001B[0mvertex_two\u001B[0m \u001B[1;33m<\u001B[0m \u001B[0mvertex_one\u001B[0m \u001B[1;33m+\u001B[0m \u001B[0mvertex_three\u001B[0m\u001B[1;33m)\u001B[0m \u001B[1;32mand\u001B[0m \u001B[1;33m(\u001B[0m\u001B[0mvertex_three\u001B[0m \u001B[1;33m<\u001B[0m \u001B[0mvertex_one\u001B[0m \u001B[1;33m+\u001B[0m \u001B[0mvertex_two\u001B[0m\u001B[1;33m)\u001B[0m\u001B[1;33m:\u001B[0m\u001B[1;33m\u001B[0m\u001B[1;33m\u001B[0m\u001B[0m\n\u001B[0;32m      9\u001B[0m   \u001B[0mprint\u001B[0m\u001B[1;33m(\u001B[0m\u001B[1;34m\"Essas retas podem forma um triângulo, pois o comprimento de cada lado é menor que a soma dos outros dois lados.\"\u001B[0m\u001B[1;33m)\u001B[0m\u001B[1;33m\u001B[0m\u001B[1;33m\u001B[0m\u001B[0m\n\u001B[1;32m---> 10\u001B[1;33m   \u001B[1;32mif\u001B[0m \u001B[0mone_igual_two\u001B[0m\u001B[1;33m(\u001B[0m\u001B[1;33m)\u001B[0m \u001B[1;32mand\u001B[0m \u001B[0mvertex_three\u001B[0m \u001B[1;33m==\u001B[0m \u001B[0mvertex_two\u001B[0m\u001B[1;33m:\u001B[0m\u001B[1;33m\u001B[0m\u001B[1;33m\u001B[0m\u001B[0m\n\u001B[0m\u001B[0;32m     11\u001B[0m     \u001B[0mprint\u001B[0m\u001B[1;33m(\u001B[0m\u001B[1;34m\"Essas retas irão formar um triângulo EQUILÁTERO.\"\u001B[0m\u001B[1;33m)\u001B[0m\u001B[1;33m\u001B[0m\u001B[1;33m\u001B[0m\u001B[0m\n\u001B[0;32m     12\u001B[0m   \u001B[1;32melif\u001B[0m \u001B[0mone_igual_two\u001B[0m\u001B[1;33m(\u001B[0m\u001B[1;33m)\u001B[0m \u001B[1;32mor\u001B[0m \u001B[0mvertex_two\u001B[0m \u001B[1;33m==\u001B[0m \u001B[0mvertex_three\u001B[0m \u001B[1;32mor\u001B[0m \u001B[0mvertex_one\u001B[0m \u001B[1;33m==\u001B[0m \u001B[0mvertex_three\u001B[0m\u001B[1;33m:\u001B[0m\u001B[1;33m\u001B[0m\u001B[1;33m\u001B[0m\u001B[0m\n",
      "\u001B[1;31mTypeError\u001B[0m: one_igual_two() missing 2 required positional arguments: 'verticeone' and 'verticetwo'"
     ]
    }
   ],
   "source": [
    "vertex_one = float(input(\"Digite a primeira reta: \"))\n",
    "vertex_two = float(input(\"Digite a segunda reta: \"))\n",
    "vertex_three = float(input(\"Digite a terceita reta: \"))\n",
    "\n",
    "if  (vertex_one < vertex_two + vertex_three) and (vertex_two < vertex_one + vertex_three) and (vertex_three < vertex_one + vertex_two):\n",
    "  print(\"Essas retas podem forma um triângulo, pois o comprimento de cada lado é menor que a soma dos outros dois lados.\")\n",
    "  if vertex_one == vertex_two and vertex_three == vertex_two:\n",
    "    print(\"Essas retas irão formar um triângulo EQUILÁTERO.\")\n",
    "  elif vertex_one == vertex_two or vertex_two == vertex_three or vertex_one == vertex_three:\n",
    "    print(\"Essas retas irão formar um triângulo ISÓCELES\")\n",
    "  elif vertex_one != vertex_two and vertex_two != vertex_three and vertex_three != vertex_one:\n",
    "    print(\"Essas retas irão formar um triângulo ESCALENO\")\n",
    "else:\n",
    "  print(\"Essas retas não podem formar um triângulo\")"
   ],
   "metadata": {
    "collapsed": false,
    "pycharm": {
     "name": "#%%\n"
    }
   }
  }
 ],
 "metadata": {
  "kernelspec": {
   "name": "pycharm-2cc50196",
   "language": "python",
   "display_name": "PyCharm (curso_em_video)"
  },
  "language_info": {
   "codemirror_mode": {
    "name": "ipython",
    "version": 2
   },
   "file_extension": ".py",
   "mimetype": "text/x-python",
   "name": "python",
   "nbconvert_exporter": "python",
   "pygments_lexer": "ipython2",
   "version": "2.7.6"
  }
 },
 "nbformat": 4,
 "nbformat_minor": 0
}