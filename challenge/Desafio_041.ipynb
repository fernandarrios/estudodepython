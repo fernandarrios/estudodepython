{
 "cells": [
  {
   "cell_type": "markdown",
   "metadata": {
    "collapsed": true,
    "pycharm": {
     "name": "#%% md\n"
    }
   },
   "source": [
    "Refaça o desafio 035 dos triângulos, acrescentando o recurso de mostrar que tipo d triângulo será formado:\n",
    "- Equilátero: todos os lados iguais;\n",
    "- Isósceles: dois lados iguais;\n",
    "- Escaleno = todos os lados diferentes\n",
    "\n",
    "*Certo*"
   ]
  },
  {
   "cell_type": "code",
   "execution_count": 7,
   "outputs": [
    {
     "name": "stdout",
     "output_type": "stream",
     "text": [
      "Essas retas podem forma um triângulo, pois o comprimento de cada lado é menor que a soma dos outros dois lados.\n",
      "Essas retas irão formar um triângulo ISÓCELES\n"
     ]
    }
   ],
   "source": [
    "vertex_one = float(input(\"Digite a primeira reta: \"))\n",
    "vertex_two = float(input(\"Digite a segunda reta: \"))\n",
    "vertex_three = float(input(\"Digite a terceita reta: \"))\n",
    "\n",
    "if  (vertex_one < vertex_two + vertex_three) and (vertex_two < vertex_one + vertex_three) and (vertex_three < vertex_one + vertex_two):\n",
    "  print(\"Essas retas podem forma um triângulo, pois o comprimento de cada lado é menor que a soma dos outros dois lados.\")\n",
    "  if vertex_one == vertex_two == vertex_three:\n",
    "    print(\"Essas retas irão formar um triângulo EQUILÁTERO.\")\n",
    "  elif vertex_one != vertex_two != vertex_three != vertex_one :\n",
    "    print(\"Essas retas irão formar um triângulo ESCALENO\")\n",
    "  else:\n",
    "    print(\"Essas retas irão formar um triângulo ISÓCELES\")\n",
    "else:\n",
    "  print(\"Essas retas não podem formar um triângulo\")"
   ],
   "metadata": {
    "collapsed": false,
    "pycharm": {
     "name": "#%%\n"
    }
   }
  }
 ],
 "metadata": {
  "kernelspec": {
   "name": "pycharm-2cc50196",
   "language": "python",
   "display_name": "PyCharm (curso_em_video)"
  },
  "language_info": {
   "codemirror_mode": {
    "name": "ipython",
    "version": 2
   },
   "file_extension": ".py",
   "mimetype": "text/x-python",
   "name": "python",
   "nbconvert_exporter": "python",
   "pygments_lexer": "ipython2",
   "version": "2.7.6"
  }
 },
 "nbformat": 4,
 "nbformat_minor": 0
}