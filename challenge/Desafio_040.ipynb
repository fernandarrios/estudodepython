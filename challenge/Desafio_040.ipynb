{
 "cells": [
  {
   "cell_type": "markdown",
   "metadata": {
    "collapsed": true,
    "pycharm": {
     "name": "#%% md\n"
    }
   },
   "source": [
    "A Confederação Nacional de Natação precisa de um programa que leia o ano de nascimento de um atlea e mostre\n",
    "sua categoria de acordo com a idade:\n",
    "- Até 9 anos: Mirim\n",
    "- Até 14 anos: Infantil\n",
    "- Até 19 anos: Júnior\n",
    "- Até 25 anos: Sênior\n",
    "- Acima: Master\n",
    "\n",
    "*Certo*"
   ]
  },
  {
   "cell_type": "code",
   "execution_count": 11,
   "outputs": [
    {
     "name": "stdout",
     "output_type": "stream",
     "text": [
      "Júnior\n"
     ]
    }
   ],
   "source": [
    "from datetime import date\n",
    "\n",
    "\n",
    "athlete_age = int(input(\"Digite o seu ano de nascimento: \"))\n",
    "category = date.today().year\n",
    "determine_category = category - athlete_age\n",
    "if determine_category <= 9:\n",
    "    print(\"Mirim\")\n",
    "elif determine_category <= 14:\n",
    "    print(\"Infantil\")\n",
    "elif determine_category <=19:\n",
    "    print(\"Júnior\")\n",
    "elif determine_category <= 25:\n",
    "    print(\"Sênior\")\n",
    "else:\n",
    "    print(\"Master\")"
   ],
   "metadata": {
    "collapsed": false,
    "pycharm": {
     "name": "#%%\n"
    }
   }
  }
 ],
 "metadata": {
  "kernelspec": {
   "name": "pycharm-2cc50196",
   "language": "python",
   "display_name": "PyCharm (curso_em_video)"
  },
  "language_info": {
   "codemirror_mode": {
    "name": "ipython",
    "version": 2
   },
   "file_extension": ".py",
   "mimetype": "text/x-python",
   "name": "python",
   "nbconvert_exporter": "python",
   "pygments_lexer": "ipython2",
   "version": "2.7.6"
  }
 },
 "nbformat": 4,
 "nbformat_minor": 0
}