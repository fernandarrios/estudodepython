{
  "nbformat": 4,
  "nbformat_minor": 0,
  "metadata": {
    "colab": {
      "name": "Desafio 029",
      "provenance": []
    },
    "kernelspec": {
      "name": "python3",
      "display_name": "Python 3"
    },
    "language_info": {
      "name": "python"
    }
  },
  "cells": [
    {
      "cell_type": "markdown",
      "metadata": {
        "id": "9Kl6K5MY3iOV"
      },
      "source": [
        "**Desafio 029:**\n",
        "\n",
        "Crie um programa que leia um número inteiro e mostre na tela se ele é par ou ímpar.\n",
        "\n",
        "*Certo*"
      ]
    },
    {
      "cell_type": "code",
      "metadata": {
        "colab": {
          "base_uri": "https://localhost:8080/"
        },
        "id": "F5pYK5ZJUDGW",
        "outputId": "ec9794d7-81b2-4175-b237-585a3c585d6b"
      },
      "source": [
        "number_to_be_analysed = float(input(\"Digite um número: \"))\n",
        "if number_to_be_analysed % 2 == 0:\n",
        "  print(f\"O número {number_to_be_analysed} é par.\")\n",
        "else:\n",
        "  print(f\"O número {number_to_be_analysed} é ímpar.\")"
      ],
      "execution_count": 13,
      "outputs": [
        {
          "output_type": "stream",
          "text": [
            "Digite um número: 6\n",
            "O número 6.0 é par.\n"
          ],
          "name": "stdout"
        }
      ]
    }
  ]
}