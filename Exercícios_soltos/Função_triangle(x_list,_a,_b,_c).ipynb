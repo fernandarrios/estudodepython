{
  "nbformat": 4,
  "nbformat_minor": 0,
  "metadata": {
    "colab": {
      "name": "Função triangle(x_list, a, b, c)",
      "provenance": []
    },
    "kernelspec": {
      "name": "python3",
      "display_name": "Python 3"
    },
    "language_info": {
      "name": "python"
    }
  },
  "cells": [
    {
      "cell_type": "code",
      "metadata": {
        "id": "ZNcKO3LoLSRL"
      },
      "source": [
        "import numpy as np\n",
        "import matplotlib.pyplot as plt"
      ],
      "execution_count": 1,
      "outputs": []
    },
    {
      "cell_type": "code",
      "metadata": {
        "id": "plAFc_o_KOTH"
      },
      "source": [
        "def triangle(x_list, a, b, c):\n",
        "    \"\"\"\n",
        "    Recebe parâmetros e retorna os valores do triângulo em X\n",
        "    :param x_list: Lista de valores X\n",
        "    :param a: parametro A\n",
        "    :param b: parametro B\n",
        "    :param c: parametro C\n",
        "    :return: lista de valores Y\n",
        "    \"\"\"\n",
        "    y_list = []\n",
        "    for x in x_list:\n",
        "        if a < x <= b:\n",
        "          y_list.append((x-a)/(b-a))\n",
        "        elif b < x <= c:\n",
        "          y_list.append((c-x)/(c-b))\n",
        "        else:\n",
        "          y_list.append(0)\n",
        "    return y_list"
      ],
      "execution_count": 2,
      "outputs": []
    },
    {
      "cell_type": "code",
      "metadata": {
        "id": "_pEVlYVULjKU",
        "outputId": "fa673940-a2e9-4633-b5a3-afd79a8b41cf",
        "colab": {
          "base_uri": "https://localhost:8080/",
          "height": 265
        }
      },
      "source": [
        "x_arange = np.arange(0, 10, 0.05)\n",
        "y = triangle(x_arange, 3, 4, 8)\n",
        "plt.plot(x_arange,y)\n",
        "plt.show()"
      ],
      "execution_count": 3,
      "outputs": [
        {
          "output_type": "display_data",
          "data": {
            "image/png": "[encoded data removed]",
            "text/plain": [
              "<Figure size 432x288 with 1 Axes>"
            ]
          },
          "metadata": {
            "tags": [],
            "needs_background": "light"
          }
        }
      ]
    }
  ]
}