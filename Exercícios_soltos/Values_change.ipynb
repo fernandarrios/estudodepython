{
  "nbformat": 4,
  "nbformat_minor": 0,
  "metadata": {
    "colab": {
      "name": "Troca_de_valores",
      "provenance": []
    },
    "kernelspec": {
      "name": "python3",
      "display_name": "Python 3"
    },
    "language_info": {
      "name": "python"
    }
  },
  "cells": [
    {
      "cell_type": "markdown",
      "metadata": {
        "id": "IddM0M9QV6Tr"
      },
      "source": [
        "####Troca de variáveis\n",
        "**Primeira forma** \n",
        "\n",
        "Usando uma variável temporária. Sempre que for usar, definir a variável como 'temp' ou 'tmp'"
      ]
    },
    {
      "cell_type": "code",
      "metadata": {
        "colab": {
          "base_uri": "https://localhost:8080/"
        },
        "id": "F_7bK3TtVdCI",
        "outputId": "bcb354a2-1123-4fa1-fae1-591b48e866df"
      },
      "source": [
        "y = 2\n",
        "x = 8\n",
        "\n",
        "temp = x \n",
        "x = y\n",
        "y = temp\n",
        "print(x,y)"
      ],
      "execution_count": 1,
      "outputs": [
        {
          "output_type": "stream",
          "text": [
            "2 8\n"
          ],
          "name": "stdout"
        }
      ]
    },
    {
      "cell_type": "markdown",
      "metadata": {
        "id": "xLVpK3kpWLF-"
      },
      "source": [
        "**Segunda forma**\n",
        "\n",
        "Só funciona no python"
      ]
    },
    {
      "cell_type": "code",
      "metadata": {
        "colab": {
          "base_uri": "https://localhost:8080/"
        },
        "id": "8n44-MuWWKj6",
        "outputId": "54337822-04f1-4550-8580-9ef73bf8b654"
      },
      "source": [
        "x, y = y, x\n",
        "print(x,y)"
      ],
      "execution_count": 2,
      "outputs": [
        {
          "output_type": "stream",
          "text": [
            "8 2\n"
          ],
          "name": "stdout"
        }
      ]
    },
    {
      "cell_type": "markdown",
      "metadata": {
        "id": "5yPeFXKvfoTa"
      },
      "source": [
        "**Revertendo listas**\n",
        "\n",
        "```.reverse()```  \n",
        "\n",
        "Essa função reverte a lista, no entanto ela altera a lista original e não retorna nenhum valor."
      ]
    },
    {
      "cell_type": "code",
      "metadata": {
        "id": "w3oplsb0fqwi"
      },
      "source": [
        "list_to_be_reversed = [1, 2, 3, 4, 5]"
      ],
      "execution_count": 8,
      "outputs": []
    },
    {
      "cell_type": "code",
      "metadata": {
        "colab": {
          "base_uri": "https://localhost:8080/"
        },
        "id": "tcersfsbfz1N",
        "outputId": "58c23c8c-ca52-45e8-c1a2-8bb17c826e4e"
      },
      "source": [
        "reversed_list = list_to_be_reversed.reverse()\n",
        "print(reversed_list)"
      ],
      "execution_count": 12,
      "outputs": [
        {
          "output_type": "stream",
          "text": [
            "None\n"
          ],
          "name": "stdout"
        }
      ]
    },
    {
      "cell_type": "code",
      "metadata": {
        "colab": {
          "base_uri": "https://localhost:8080/"
        },
        "id": "dqblPtDpgBhK",
        "outputId": "683fba2f-5605-4019-9f21-e5499a701eb9"
      },
      "source": [
        "print(list_to_be_reversed)"
      ],
      "execution_count": 10,
      "outputs": [
        {
          "output_type": "stream",
          "text": [
            "[5, 4, 3, 2, 1]\n"
          ],
          "name": "stdout"
        }
      ]
    },
    {
      "cell_type": "markdown",
      "metadata": {
        "id": "yODqhlKqg7oC"
      },
      "source": [
        "Para reverter a lista mantendo a original devemos fazer da seguinte maneira"
      ]
    },
    {
      "cell_type": "code",
      "metadata": {
        "colab": {
          "base_uri": "https://localhost:8080/"
        },
        "id": "1sa8guzphJoF",
        "outputId": "fd701f2a-b13d-4a04-eef0-5d021ece94dc"
      },
      "source": [
        "list_reversed = []\n",
        "for i in range(len(list_to_be_reversed)-1, -1, -1):\n",
        "  list_reversed.append(list_to_be_reversed[i])\n",
        "\n",
        "print(list_reversed)"
      ],
      "execution_count": 13,
      "outputs": [
        {
          "output_type": "stream",
          "text": [
            "[5, 4, 3, 2, 1]\n"
          ],
          "name": "stdout"
        }
      ]
    },
    {
      "cell_type": "markdown",
      "metadata": {
        "id": "mHh-OIEGnkWw"
      },
      "source": [
        "Outra maneira de fazer"
      ]
    },
    {
      "cell_type": "code",
      "metadata": {
        "colab": {
          "base_uri": "https://localhost:8080/"
        },
        "id": "yLOp3FfCnmgF",
        "outputId": "1ddffe34-2bf9-4b83-a7bd-5fd6257a439b"
      },
      "source": [
        "for i in range(len(list_to_be_reversed)//2):\n",
        "  list_to_be_reversed[i], list_to_be_reversed[-(i)+1] = list_to_be_reversed[-(i+1)], list_to_be_reversed[i]\n",
        "\n",
        "print(list_to_be_reversed)"
      ],
      "execution_count": 7,
      "outputs": [
        {
          "output_type": "stream",
          "text": [
            "[5, 2, 3, 2, 1]\n"
          ],
          "name": "stdout"
        }
      ]
    }
  ]
}
