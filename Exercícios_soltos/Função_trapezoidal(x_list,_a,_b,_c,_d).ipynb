{
  "nbformat": 4,
  "nbformat_minor": 0,
  "metadata": {
    "colab": {
      "name": "Função trapezoidal(x_list, a, b, c, d)",
      "provenance": []
    },
    "kernelspec": {
      "name": "python3",
      "display_name": "Python 3"
    },
    "language_info": {
      "name": "python"
    }
  },
  "cells": [
    {
      "cell_type": "code",
      "metadata": {
        "id": "F_7bK3TtVdCI"
      },
      "source": [
        "import numpy as np\n",
        "import matplotlib.pyplot as plt"
      ],
      "execution_count": 1,
      "outputs": []
    },
    {
      "cell_type": "code",
      "metadata": {
        "id": "e07vyAALVVfL"
      },
      "source": [
        "def trapezoidal(x_list, a, b, c, d):\n",
        "  y_list = []\n",
        "  for x in x_list:\n",
        "    if a < x <= b:\n",
        "      y_list.append((x-a)/(b-a))\n",
        "    elif b < x <= c:\n",
        "      y_list.append(1) \n",
        "    elif c < x <= d:\n",
        "      y_list.append((d-x)/(d-c))\n",
        "    else:\n",
        "      y_list.append(0)\n",
        "  return y_list"
      ],
      "execution_count": 3,
      "outputs": []
    },
    {
      "cell_type": "code",
      "metadata": {
        "colab": {
          "base_uri": "https://localhost:8080/",
          "height": 265
        },
        "id": "AALJWuAfVh8D",
        "outputId": "012937eb-841e-43a7-ef9c-fe83b32a48d3"
      },
      "source": [
        "x_arange = np.arange(0, 10, 0.05)\n",
        "y1 = trapezoidal(x_arange, 3, 4, 8, 9)\n",
        "plt.plot(x_arange, y1)\n",
        "plt.show()"
      ],
      "execution_count": 5,
      "outputs": [
        {
          "output_type": "display_data",
          "data": {
            "image/png": "[encoded data removed]",
            "text/plain": [
              "<Figure size 432x288 with 1 Axes>"
            ]
          },
          "metadata": {
            "tags": [],
            "needs_background": "light"
          }
        }
      ]
    }
  ]
}