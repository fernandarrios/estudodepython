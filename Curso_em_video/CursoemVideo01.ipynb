{
  "nbformat": 4,
  "nbformat_minor": 0,
  "metadata": {
    "colab": {
      "name": "CursoemVideo01",
      "provenance": []
    },
    "kernelspec": {
      "display_name": "Python 3",
      "name": "python3"
    },
    "language_info": {
      "name": "python"
    }
  },
  "cells": [
    {
      "cell_type": "markdown",
      "metadata": {
        "id": "1fpdoLuwytag"
      },
      "source": [
        "#Python Básico\n",
        "\n",
        "Estudo de Python realizado no site do [Curso em Vídeo](https://www.cursoemvideo.com/course/python-3-mundo-1/). \n",
        "\n",
        "Ministrado pelo Gustavo Guanabara."
      ]
    },
    {
      "cell_type": "markdown",
      "metadata": {
        "id": "aeKgQR-zwi85"
      },
      "source": [
        "###**IMPORTANTE**\n",
        "\n",
        "O Python não dar erro não significa que o código está certo, apenas que não houve um erro de sintaxe."
      ]
    },
    {
      "cell_type": "markdown",
      "metadata": {
        "id": "BeCyS_TMyREC"
      },
      "source": [
        "###Listas"
      ]
    },
    {
      "cell_type": "markdown",
      "metadata": {
        "id": "_WBLXt6Bz2aK"
      },
      "source": [
        "**Lista de sinalizações utilizadas no Python e suas respectivas funções**\n",
        "\n",
        "\n",
        " Sinalização |    Função  \n",
        "----------------- | -----------------\n",
        " \" \"  ou  ' '  | Definir caractere\n",
        " (   )         | Definir a função\n",
        "=              | Atribui um valor para a variável\n",
        ",              | Separação de variáveis\n",
        "+              | Adição\n",
        "-              | Subtração\n",
        "*              | Multiplicação\n",
        "/              | Divisão\n",
        "**             | Potência\n",
        "//             | Divisão Inteira\n",
        "%              | Resto da divisão\n",
        "==             | Igual\n",
        "**(1/2)        | Raiz quadrada\n",
        ":>*20*         | Alinhamento para a direita\n",
        ":<*20*         | Alinhamento para a esquerda  \n",
        ":^*20*         | Alinhamento centralizado\n"
      ]
    },
    {
      "cell_type": "markdown",
      "metadata": {
        "id": "RH-N-4latYAy"
      },
      "source": [
        "**Ordem de precedência no Python**\n",
        "\n",
        "\n",
        " Ordem |    Operação    |  Símbolo \n",
        "-------|----------------|----------------------\n",
        "1      | Parênteses     |  ( )\n",
        "2      | Potenciação    |  **\n",
        "3      | Multiplicação  | *\n",
        "3      | Divisão        | /\n",
        "3      | Divisão inteira | //\n",
        "3      | Resto da divisão | %\n",
        "4      | Soma             | +\n",
        "4      | Subtração        | -\n",
        "\n",
        "\n",
        "\n",
        "  "
      ]
    },
    {
      "cell_type": "markdown",
      "metadata": {
        "id": "emoTMVPm1K37"
      },
      "source": [
        "**Lista de comandos utilizados no Python e suas respectivas funções**\n",
        "\n",
        "Comando | Função do comando\n",
        "------- | -----------------\n",
        "``` print```| Mostrar na tela\n",
        "``` input ``` | Função que faz com que outra pessoas atribua os valores \n",
        "``` int ```   | Valores inteiros\n",
        "``` float ``` | Números Reais (Números de ponto flutuante\n",
        "``` bool ```  | Valores lógicos\n",
        "``` str ```   |  Valores caracteres ou string\n",
        "```type() ``` | Mostra o tipo da variável\n",
        "``` .is- ``` | Método de teste de type\n",
        "``` end=''``` | Adiciona um espaço ao invés de uma nova linha entre dois+ ```print()```\n",
        "```\\n ```   | Nova linha \n",
        "``` import...from``` | Importa bibliotecas, módulos e funcionalidade (Imorta a biblioteca inteira\n",
        "```from...import```| Importa apenas aquele item específico da biblioteca\n",
        "```len() ```         | Comprimento\n",
        "```.count('o')``` | Quantas vezes aparece o 'o' minúsculo na frase\n",
        "```.find('deo')```| Índice do qual começa o 'deo'\n",
        "```.replace(antigo valor, novo valor)```| Substituição \n",
        "```.upper()``` | RETORNA A CÓPIA DA STRING CONVERTIDA EM MAIÚSCULO \n",
        "```.lower()```| retorna a cópia da string convertida em minúscula\n",
        "```.capitalze()```| Faz o primeiro caractere maiúsculo e o resto minúsculo \n",
        "```.title()```| Palavras Começam Maiúsculas E O Resto Permanece Minúsculo\n",
        "```.strip()```| Remove os espaços em branco no começo e no final da string\n",
        "```.rstrip()```| Remove os espaços do lado direito da string\n",
        "```.lstrip()```| Remove os espaços da esquerda da string\n",
        "```.split()``` | Divisão da string considerando os espaços\n",
        "```.join()```| Junta os componentes em uma string\n",
        "```if ... : ``` | Condicional - É executado quando for True\n",
        "``` else ... : ``` | COndicional - Se a condicional do IF for False, o ELSE será executado\n",
        "```elif...: ```| Condicional - IF + NOT, usa-se na na segunda condicional até a penúltima.\n"
      ]
    },
    {
      "cell_type": "markdown",
      "metadata": {
        "id": "C_dSGuIsvsWH"
      },
      "source": [
        "###Documentações:\n",
        "\n",
        "- [Math](https://docs.python.org/pt-br/3/library/math.html)\n",
        "\n",
        "- [Random](https://docs.python.org/3/library/random.html)\n",
        "\n",
        "- [Emoji](https://pypi.org/project/emoji/)\n",
        "\n",
        "- [Pygame](https://www.pygame.org/news)\n",
        "\n",
        "- [IPython](https://ipython.org/)\n",
        "\n",
        "- [Librosa](https://librosa.org/doc/latest/index.html)\n",
        "\n",
        "- [Time](https://docs.python.org/3/library/time.html)"
      ]
    },
    {
      "cell_type": "markdown",
      "metadata": {
        "id": "OzdOa8WDUWmV"
      },
      "source": [
        "### Testes e repetições de exemplos"
      ]
    },
    {
      "cell_type": "code",
      "metadata": {
        "colab": {
          "base_uri": "https://localhost:8080/"
        },
        "id": "bG3BC1Vcykw8",
        "outputId": "8583d5d0-054a-4550-9826-4fe5dc032f8e"
      },
      "source": [
        "print('7 + 4') #Mostra os caracteres na tela\n",
        "print(7 + 4) #Realiza a função de soma"
      ],
      "execution_count": null,
      "outputs": [
        {
          "output_type": "stream",
          "text": [
            "7 + 4\n",
            "11\n"
          ],
          "name": "stdout"
        }
      ]
    },
    {
      "cell_type": "code",
      "metadata": {
        "colab": {
          "base_uri": "https://localhost:8080/"
        },
        "id": "923JlnEi1240",
        "outputId": "a696cab9-009f-4826-ea35-112fb93def17"
      },
      "source": [
        "print('7' + '4') #soma das strings 7 e 4 resultando no 74"
      ],
      "execution_count": null,
      "outputs": [
        {
          "output_type": "stream",
          "text": [
            "74\n"
          ],
          "name": "stdout"
        }
      ]
    },
    {
      "cell_type": "code",
      "metadata": {
        "colab": {
          "base_uri": "https://localhost:8080/"
        },
        "id": "8Bq1A9wc3rfg",
        "outputId": "c2399cc9-bd58-4106-8cbe-e55c2bfc1161"
      },
      "source": [
        "nome = 'Fernanda'\n",
        "idade = 23\n",
        "peso = 68.8\n",
        "print(nome, idade, peso)"
      ],
      "execution_count": null,
      "outputs": [
        {
          "output_type": "stream",
          "text": [
            "Fernanda 23 68.8\n"
          ],
          "name": "stdout"
        }
      ]
    },
    {
      "cell_type": "code",
      "metadata": {
        "colab": {
          "base_uri": "https://localhost:8080/"
        },
        "id": "IxHSzLQk5I99",
        "outputId": "23ddca25-c5f3-4765-c71c-c4d261a9b861"
      },
      "source": [
        "#Interatividade com o usuário\n",
        "nome = input('Qual é o seu nome? ')\n",
        "idade = input('Quantos anos você tem? ')\n",
        "peso = input('Quanto você pesa? ')\n",
        "print(nome, idade, peso)"
      ],
      "execution_count": null,
      "outputs": [
        {
          "output_type": "stream",
          "text": [
            "Qual é o seu nome? Maria\n",
            "Quantos anos você tem? 30\n",
            "Quanto você pesa? 70\n",
            "Maria 30 70\n"
          ],
          "name": "stdout"
        }
      ]
    },
    {
      "cell_type": "code",
      "metadata": {
        "colab": {
          "base_uri": "https://localhost:8080/"
        },
        "id": "Cw8gZ6ugQyGc",
        "outputId": "98de9bb2-03ff-41d9-8113-012e204e675d"
      },
      "source": [
        "f = input('Digite algo: ')\n",
        "print(f.isnumeric())"
      ],
      "execution_count": null,
      "outputs": [
        {
          "output_type": "stream",
          "text": [
            "Digite algo: f\n",
            "False\n"
          ],
          "name": "stdout"
        }
      ]
    },
    {
      "cell_type": "code",
      "metadata": {
        "colab": {
          "base_uri": "https://localhost:8080/"
        },
        "id": "ZJ50rSG2UbrZ",
        "outputId": "41a0c487-54c3-4063-b259-b0ee15ca0217"
      },
      "source": [
        "alpha = 'x'\n",
        "print(alpha.isalpha())\n",
        "delta = 7\n",
        "print(alpha.isalnum())\n",
        "\n"
      ],
      "execution_count": null,
      "outputs": [
        {
          "output_type": "stream",
          "text": [
            "True\n",
            "True\n"
          ],
          "name": "stdout"
        }
      ]
    },
    {
      "cell_type": "code",
      "metadata": {
        "colab": {
          "base_uri": "https://localhost:8080/"
        },
        "id": "X5i50lF4vsKl",
        "outputId": "1e3dea58-ecd9-4989-96fc-1eec86dc62f0"
      },
      "source": [
        "5+3*2"
      ],
      "execution_count": null,
      "outputs": [
        {
          "output_type": "execute_result",
          "data": {
            "text/plain": [
              "11"
            ]
          },
          "metadata": {
            "tags": []
          },
          "execution_count": 1
        }
      ]
    },
    {
      "cell_type": "code",
      "metadata": {
        "colab": {
          "base_uri": "https://localhost:8080/"
        },
        "id": "83csf6J-vxBr",
        "outputId": "0ada531b-6552-42e9-fc46-f914448ddf1a"
      },
      "source": [
        "(5+3)*2"
      ],
      "execution_count": null,
      "outputs": [
        {
          "output_type": "execute_result",
          "data": {
            "text/plain": [
              "16"
            ]
          },
          "metadata": {
            "tags": []
          },
          "execution_count": 2
        }
      ]
    },
    {
      "cell_type": "code",
      "metadata": {
        "colab": {
          "base_uri": "https://localhost:8080/"
        },
        "id": "Q1tufhqvv3Sn",
        "outputId": "95fb0cb0-5033-46cb-c21b-69924f64eee1"
      },
      "source": [
        "3*5+4**2"
      ],
      "execution_count": null,
      "outputs": [
        {
          "output_type": "execute_result",
          "data": {
            "text/plain": [
              "31"
            ]
          },
          "metadata": {
            "tags": []
          },
          "execution_count": 3
        }
      ]
    },
    {
      "cell_type": "code",
      "metadata": {
        "colab": {
          "base_uri": "https://localhost:8080/"
        },
        "id": "B5TsxMy0v5cl",
        "outputId": "c95ea85f-d28f-494f-ff90-07d001bd6399"
      },
      "source": [
        "(3*5)+4**2"
      ],
      "execution_count": null,
      "outputs": [
        {
          "output_type": "execute_result",
          "data": {
            "text/plain": [
              "31"
            ]
          },
          "metadata": {
            "tags": []
          },
          "execution_count": 4
        }
      ]
    },
    {
      "cell_type": "code",
      "metadata": {
        "colab": {
          "base_uri": "https://localhost:8080/"
        },
        "id": "q_BlPJAvv9Zc",
        "outputId": "6fe8605c-29f7-4335-99bc-91a48f6626a7"
      },
      "source": [
        "3*(5+4)**2"
      ],
      "execution_count": null,
      "outputs": [
        {
          "output_type": "execute_result",
          "data": {
            "text/plain": [
              "243"
            ]
          },
          "metadata": {
            "tags": []
          },
          "execution_count": 5
        }
      ]
    },
    {
      "cell_type": "code",
      "metadata": {
        "colab": {
          "base_uri": "https://localhost:8080/"
        },
        "id": "yVkMd3A7wBhR",
        "outputId": "cbfeacaa-fbd8-49de-d721-62ccf4b91443"
      },
      "source": [
        "3*5+(4**2)"
      ],
      "execution_count": null,
      "outputs": [
        {
          "output_type": "execute_result",
          "data": {
            "text/plain": [
              "31"
            ]
          },
          "metadata": {
            "tags": []
          },
          "execution_count": 6
        }
      ]
    },
    {
      "cell_type": "code",
      "metadata": {
        "colab": {
          "base_uri": "https://localhost:8080/"
        },
        "id": "IMGOXyPby56q",
        "outputId": "26e3b053-1f25-4dff-9241-67f531937062"
      },
      "source": [
        "#alinhamento\n",
        "#normal\n",
        "nome = input('Qual é o seu nome?')\n",
        "#print(f'Prazer te conhecer {nome}!')\n",
        "\n",
        "#20 espaços depois do nome\n",
        "#print(f'Prazer te conhecer {nome:20}!')\n",
        "\n",
        "#20 espaços à direita do nome\n",
        "#print(f'Prazer te conhecer {nome:>20}!')\n",
        "\n",
        "#20 espaços à esquerda do nome\n",
        "#print(f'Prazer te conhecer {nome:<20}!')\n",
        "\n",
        "#Centralizado\n",
        "#print(f'Prazer te conhecer {nome:^20}!')\n",
        "\n",
        "#Centralizado e estilizado\n",
        "print(f'Prazer te conhecer {nome:*^20}')"
      ],
      "execution_count": null,
      "outputs": [
        {
          "output_type": "stream",
          "text": [
            "Qual é o seu nome?ana\n",
            "Prazer te conhecer ********ana*********\n"
          ],
          "name": "stdout"
        }
      ]
    },
    {
      "cell_type": "code",
      "metadata": {
        "colab": {
          "base_uri": "https://localhost:8080/"
        },
        "id": "NtYyfuEi1tKu",
        "outputId": "f24b7751-003d-45d6-f4e8-ca15fecb36eb"
      },
      "source": [
        "n1 = int(input('Digite um valor: '))\n",
        "n2 = int(input('Digite outro valor: '))\n",
        "s = n1 + n2\n",
        "m = n1 * n2\n",
        "d = n1 / n2\n",
        "di = n1 // n2\n",
        "e = n1 ** n2\n",
        "print(f'A soma é {s} e a divisão é {d:.3}', end='')\n",
        "print(f'A divisão inteira é {di} \\n potencia é {e}')"
      ],
      "execution_count": null,
      "outputs": [
        {
          "output_type": "stream",
          "text": [
            "Digite um valor: 8\n",
            "Digite outro valor: 9\n",
            "A soma é 17 e a divisão é 0.889A divisão inteira é 0 \n",
            " potencia é 134217728\n"
          ],
          "name": "stdout"
        }
      ]
    },
    {
      "cell_type": "code",
      "metadata": {
        "colab": {
          "base_uri": "https://localhost:8080/"
        },
        "id": "tdGLVmEwzSLR",
        "outputId": "4fb7666b-e78a-497c-c4d1-e527713a1d2a"
      },
      "source": [
        "import math\n",
        "num = int(input('Digite um número: '))\n",
        "raiz = math.sqrt(num)\n",
        "print(f'A raiz quadrada de {num} é igual a {math.ceil(raiz)} ')"
      ],
      "execution_count": null,
      "outputs": [
        {
          "output_type": "stream",
          "text": [
            "Digite um número: 29\n",
            "A raiz quadrada de 29 é igual a 6 \n"
          ],
          "name": "stdout"
        }
      ]
    },
    {
      "cell_type": "code",
      "metadata": {
        "colab": {
          "base_uri": "https://localhost:8080/"
        },
        "id": "mgjzjxZU2SMt",
        "outputId": "3d5554ca-8374-4728-ad37-771c14f2691c"
      },
      "source": [
        "from math import sqrt\n",
        "num1 = int(input('Digite um número: '))\n",
        "raizq = sqrt(num1)\n",
        "print(f'A raiz quadrada de {num1} é {math.floor(raizq)}.')\n"
      ],
      "execution_count": null,
      "outputs": [
        {
          "output_type": "stream",
          "text": [
            "Digite um número: 29\n",
            "A raiz quadrada de 29 é 5.\n"
          ],
          "name": "stdout"
        }
      ]
    },
    {
      "cell_type": "code",
      "metadata": {
        "colab": {
          "base_uri": "https://localhost:8080/"
        },
        "id": "9DcM37eB5QNl",
        "outputId": "cb4138dd-6e5b-4f2a-ce66-86806770578e"
      },
      "source": [
        "import random\n",
        "num2 = random.random()\n",
        "print(num2)"
      ],
      "execution_count": null,
      "outputs": [
        {
          "output_type": "stream",
          "text": [
            "0.3020692563092442\n"
          ],
          "name": "stdout"
        }
      ]
    },
    {
      "cell_type": "code",
      "metadata": {
        "colab": {
          "base_uri": "https://localhost:8080/"
        },
        "id": "uSTUE6sc7zJo",
        "outputId": "dcde6565-09cb-46ff-c6bf-8e27fae11eec"
      },
      "source": [
        "!pip install emoji\n",
        "import emoji"
      ],
      "execution_count": null,
      "outputs": [
        {
          "output_type": "stream",
          "text": [
            "Collecting emoji\n",
            "\u001b[?25l  Downloading https://files.pythonhosted.org/packages/24/fa/b3368f41b95a286f8d300e323449ab4e86b85334c2e0b477e94422b8ed0f/emoji-1.2.0-py3-none-any.whl (131kB)\n",
            "\u001b[K     |████████████████████████████████| 133kB 5.1MB/s \n",
            "\u001b[?25hInstalling collected packages: emoji\n",
            "Successfully installed emoji-1.2.0\n"
          ],
          "name": "stdout"
        }
      ]
    },
    {
      "cell_type": "code",
      "metadata": {
        "colab": {
          "base_uri": "https://localhost:8080/"
        },
        "id": "nckOQrPF8sfM",
        "outputId": "417176a2-8e3e-4bd3-cee2-a0015fc375ca"
      },
      "source": [
        "import emoji\n",
        "print(emoji.emojize('Python é muito útil  :snake:', use_aliases=True))"
      ],
      "execution_count": null,
      "outputs": [
        {
          "output_type": "stream",
          "text": [
            "Python é muito útil  🐍\n"
          ],
          "name": "stdout"
        }
      ]
    },
    {
      "cell_type": "code",
      "metadata": {
        "colab": {
          "base_uri": "https://localhost:8080/"
        },
        "id": "S73HI-IJLsS8",
        "outputId": "be8a44e4-5cdb-4236-d5dc-34ff17378bd0"
      },
      "source": [
        "#Fatiamento de string\n",
        "frase = 'Curso em Vídeo Python'\n",
        "print(frase)\n",
        "print(frase[9]) #fatiamento de string, o 9 é o número do índice da string\n",
        "print(frase[9:13]) #índice nove até o 12, pois o último não é incluído\n",
        "print(frase[9:14])\n",
        "print(frase[9:21])\n",
        "print(frase[9:21:2]) #começar no índice 9, parar no 21, de dois em dois caracteres\n",
        "print(frase[:5]) #até o índice 5-1, mesma coisa que [0:5]\n",
        "print(frase[15:]) #de índice 15 até o final\n",
        "print(frase[9::3]) #vai começar no índice 9, vai até o final, de três em três caracteres"
      ],
      "execution_count": null,
      "outputs": [
        {
          "output_type": "stream",
          "text": [
            "Curso em Vídeo Python\n",
            "V\n",
            "Víde\n",
            "Vídeo\n",
            "Vídeo Python\n",
            "VdoPto\n",
            "Curso\n",
            "Python\n",
            "VePh\n"
          ],
          "name": "stdout"
        }
      ]
    },
    {
      "cell_type": "code",
      "metadata": {
        "colab": {
          "base_uri": "https://localhost:8080/"
        },
        "id": "80-jzPCuOBy6",
        "outputId": "8ef6c5fb-8c68-432c-da0e-506d56989321"
      },
      "source": [
        "#Análise de string\n",
        "len(frase)\n",
        "frase.count('o') #quantas vezes aparece o 'o' minúsculo na frase\n",
        "frase.count('o',0,13) #contagem com fatiamento. Quantos 'o' tem entre o índice 0 até 12\n",
        "frase.find('deo') #índice do qual começa o 'deo'\n",
        "frase.find('Android') #o valor negativo retornado significa que não existe a string que você está procurando.\n",
        "'Curso'in frase #existe a palavra 'Curso' na frase? Retorna True ou False\n"
      ],
      "execution_count": null,
      "outputs": [
        {
          "output_type": "execute_result",
          "data": {
            "text/plain": [
              "True"
            ]
          },
          "metadata": {
            "tags": []
          },
          "execution_count": 29
        }
      ]
    },
    {
      "cell_type": "code",
      "metadata": {
        "colab": {
          "base_uri": "https://localhost:8080/",
          "height": 36
        },
        "id": "8--5VKkSQOpj",
        "outputId": "16d8e311-3108-4587-87ea-d96bbd4ec02f"
      },
      "source": [
        "#Transformação de string\n",
        "frase.replace('Python', 'Android')\n",
        "frase.upper()\n",
        "frase.lower()\n",
        "frase.capitalize()\n",
        "frase.title()"
      ],
      "execution_count": null,
      "outputs": [
        {
          "output_type": "execute_result",
          "data": {
            "application/vnd.google.colaboratory.intrinsic+json": {
              "type": "string"
            },
            "text/plain": [
              "'Curso Em Vídeo Python'"
            ]
          },
          "metadata": {
            "tags": []
          },
          "execution_count": 38
        }
      ]
    },
    {
      "cell_type": "code",
      "metadata": {
        "colab": {
          "base_uri": "https://localhost:8080/",
          "height": 36
        },
        "id": "zWzWOgxgTNzI",
        "outputId": "5b4783a1-550d-4d34-8b8d-4a9c910477d3"
      },
      "source": [
        "frase_um = '   Aprenda Python  '\n",
        "frase_um.strip()\n",
        "frase_um.rstrip()\n",
        "frase_um.lstrip()"
      ],
      "execution_count": null,
      "outputs": [
        {
          "output_type": "execute_result",
          "data": {
            "application/vnd.google.colaboratory.intrinsic+json": {
              "type": "string"
            },
            "text/plain": [
              "'Aprenda Python  '"
            ]
          },
          "metadata": {
            "tags": []
          },
          "execution_count": 41
        }
      ]
    },
    {
      "cell_type": "code",
      "metadata": {
        "colab": {
          "base_uri": "https://localhost:8080/",
          "height": 36
        },
        "id": "j6msuf7nT_wv",
        "outputId": "a48e759f-1a8b-4a26-d252-b994e471d763"
      },
      "source": [
        "#Divisão da string\n",
        "frase = frase.split() #gerou uma lista de 3 índices\n",
        "'-'.join(frase)"
      ],
      "execution_count": null,
      "outputs": [
        {
          "output_type": "execute_result",
          "data": {
            "application/vnd.google.colaboratory.intrinsic+json": {
              "type": "string"
            },
            "text/plain": [
              "'Curso-em-Vídeo-Python'"
            ]
          },
          "metadata": {
            "tags": []
          },
          "execution_count": 48
        }
      ]
    },
    {
      "cell_type": "markdown",
      "metadata": {
        "id": "np743hBQ4nc2"
      },
      "source": [
        "###Condicionais:"
      ]
    },
    {
      "cell_type": "markdown",
      "metadata": {
        "id": "Hk5_K19_9hPJ"
      },
      "source": [
        "teste e repetições de exemplos\n",
        "\n",
        "``` \n",
        "if  :\n",
        "\n",
        "elif: \n",
        "\n",
        "else:\n",
        "\n",
        "```"
      ]
    },
    {
      "cell_type": "code",
      "metadata": {
        "colab": {
          "base_uri": "https://localhost:8080/"
        },
        "id": "I4ZGQfNo4wtI",
        "outputId": "b669843e-a150-4139-b639-3bddd0456145"
      },
      "source": [
        "tempo = int(input(\"Quantos anos tem seu carro?\"))\n",
        "if tempo <= 3:\n",
        "  print(\"Carro novo\")\n",
        "else:\n",
        "  print(\"Carro velho\")\n",
        "print(\"--Fim--\")"
      ],
      "execution_count": null,
      "outputs": [
        {
          "output_type": "stream",
          "text": [
            "Quantos anos tem seu carro?2\n",
            "Carro novo\n",
            "--Fim--\n"
          ],
          "name": "stdout"
        }
      ]
    },
    {
      "cell_type": "code",
      "metadata": {
        "colab": {
          "base_uri": "https://localhost:8080/"
        },
        "id": "iJngrbzz_jQb",
        "outputId": "087f90f0-d2ae-4b87-bb1b-5eebf4c7662e"
      },
      "source": [
        "time = int(input(\"Quantos anos seu carro tem?\"))\n",
        "print(\"carro novo\" if time <=3 else \"carro velho\")\n",
        "print(\"--Fim--\")"
      ],
      "execution_count": null,
      "outputs": [
        {
          "output_type": "stream",
          "text": [
            "Quantos anos seu carro tem?2\n",
            "carro novo\n",
            "--Fim--\n"
          ],
          "name": "stdout"
        }
      ]
    },
    {
      "cell_type": "code",
      "metadata": {
        "colab": {
          "base_uri": "https://localhost:8080/"
        },
        "id": "PQmfG2HEAn2O",
        "outputId": "0799e978-da1a-4458-da3f-5a21012e54c2"
      },
      "source": [
        "name = input(\"Qual é o seu nome? \")\n",
        "if name == \"Fernanda\":\n",
        "  print(f\"Que nome lindo você tem!\")\n",
        "else:\n",
        "  print(\"Seu nome é tão normal\")\n",
        "print(f\"Bem-vindo(a) {name}\")"
      ],
      "execution_count": null,
      "outputs": [
        {
          "output_type": "stream",
          "text": [
            "Qual é o seu nome? Fernanda\n",
            "Que nome lindo você tem!\n",
            "Bem-vindo(a) Fernanda\n"
          ],
          "name": "stdout"
        }
      ]
    },
    {
      "cell_type": "code",
      "metadata": {
        "colab": {
          "base_uri": "https://localhost:8080/"
        },
        "id": "Nxl7T9LJBp7q",
        "outputId": "da2b8d4f-a523-4036-8547-200fe7391ce9"
      },
      "source": [
        "nota1 = float(input(\"Digite a primeira nota: \"))\n",
        "nota2 = float(input(\"Digite a segunda nota: \")) \n",
        "media = (nota1 + nota2)/2\n",
        "print(f\"Sua média foi {media:.1f}.\")\n",
        "if media >= 6.0:\n",
        "  print(\"Sua média foi boa. Parabéns!\")\n",
        "else: \n",
        "  print(\"Sua média foi ruim. Estude mais.\")"
      ],
      "execution_count": null,
      "outputs": [
        {
          "output_type": "stream",
          "text": [
            "Digite a primeira nota: 1.0\n",
            "Digite a segunda nota: 2.5\n",
            "Sua média foi 1.8.\n",
            "Sua média foi ruim. Estude mais.\n"
          ],
          "name": "stdout"
        }
      ]
    },
    {
      "cell_type": "code",
      "metadata": {
        "colab": {
          "base_uri": "https://localhost:8080/"
        },
        "id": "M5k4_PGiC5QR",
        "outputId": "5ec14411-58f3-4f22-8cbe-de0cb9d04840"
      },
      "source": [
        "nota3 = float(input(\"Digite a primeira nota: \"))\n",
        "nota4 = float(input(\"Digite a segunda nota: \"))\n",
        "media2 = (nota3 + nota4)/2\n",
        "print(\"Parabéns\" if media2 >=6 else \"Estude mais\")"
      ],
      "execution_count": null,
      "outputs": [
        {
          "output_type": "stream",
          "text": [
            "Digite a primeira nota: 2.2\n",
            "Digite a segunda nota: 2.2\n",
            "Estude mais\n"
          ],
          "name": "stdout"
        }
      ]
    },
    {
      "cell_type": "markdown",
      "metadata": {
        "id": "nbPkUoaNBD6o"
      },
      "source": [
        "###Desafios:"
      ]
    },
    {
      "cell_type": "markdown",
      "metadata": {
        "id": "FvZswiMvYHpS"
      },
      "source": [
        "**Desafio 004:**\n",
        "\n",
        "Faça um programa que leia algo pelo teclado e mostre na tela seu tipo primitivo e todas as informações possíveis sobre ele.\n",
        "\n",
        "\n",
        "*Certo*"
      ]
    },
    {
      "cell_type": "code",
      "metadata": {
        "colab": {
          "base_uri": "https://localhost:8080/"
        },
        "id": "qaaEuCFSYglW",
        "outputId": "dac728fc-ebcc-456d-e293-73f086516e44"
      },
      "source": [
        "algo = 'a'\n",
        "type(algo)"
      ],
      "execution_count": null,
      "outputs": [
        {
          "output_type": "execute_result",
          "data": {
            "text/plain": [
              "str"
            ]
          },
          "metadata": {
            "tags": []
          },
          "execution_count": 21
        }
      ]
    },
    {
      "cell_type": "code",
      "metadata": {
        "colab": {
          "base_uri": "https://localhost:8080/"
        },
        "id": "RByv4c_qYnEG",
        "outputId": "b024441d-2c13-4c91-ef14-df37f4d424d3"
      },
      "source": [
        "print(algo.isalnum())"
      ],
      "execution_count": null,
      "outputs": [
        {
          "output_type": "stream",
          "text": [
            "True\n"
          ],
          "name": "stdout"
        }
      ]
    },
    {
      "cell_type": "code",
      "metadata": {
        "colab": {
          "base_uri": "https://localhost:8080/"
        },
        "id": "GbzoBW3XYth8",
        "outputId": "9ee13ee6-49e7-4a02-85b4-527949f60cb6"
      },
      "source": [
        "print(algo.isalpha())"
      ],
      "execution_count": null,
      "outputs": [
        {
          "output_type": "stream",
          "text": [
            "True\n"
          ],
          "name": "stdout"
        }
      ]
    },
    {
      "cell_type": "code",
      "metadata": {
        "colab": {
          "base_uri": "https://localhost:8080/"
        },
        "id": "vce5N-sKYwcn",
        "outputId": "7f4854e6-2870-4622-e8c3-aa0231fa3f91"
      },
      "source": [
        "print(algo.isascii())"
      ],
      "execution_count": null,
      "outputs": [
        {
          "output_type": "stream",
          "text": [
            "True\n"
          ],
          "name": "stdout"
        }
      ]
    },
    {
      "cell_type": "code",
      "metadata": {
        "colab": {
          "base_uri": "https://localhost:8080/"
        },
        "id": "CdRsh6-BY0TA",
        "outputId": "b3d53717-8363-4ccd-8931-9ffbd4c96d78"
      },
      "source": [
        "print(algo.isdecimal())"
      ],
      "execution_count": null,
      "outputs": [
        {
          "output_type": "stream",
          "text": [
            "False\n"
          ],
          "name": "stdout"
        }
      ]
    },
    {
      "cell_type": "code",
      "metadata": {
        "colab": {
          "base_uri": "https://localhost:8080/"
        },
        "id": "uKaL1Ii5Y3cy",
        "outputId": "92d358de-8d54-4732-f762-199922ef2825"
      },
      "source": [
        "print(algo.isdigit())"
      ],
      "execution_count": null,
      "outputs": [
        {
          "output_type": "stream",
          "text": [
            "False\n"
          ],
          "name": "stdout"
        }
      ]
    },
    {
      "cell_type": "code",
      "metadata": {
        "colab": {
          "base_uri": "https://localhost:8080/"
        },
        "id": "lq5jLtpFZEut",
        "outputId": "43b01625-0b93-49f5-ebc2-d76c91a692c7"
      },
      "source": [
        "print(algo.isidentifier())"
      ],
      "execution_count": null,
      "outputs": [
        {
          "output_type": "stream",
          "text": [
            "True\n"
          ],
          "name": "stdout"
        }
      ]
    },
    {
      "cell_type": "code",
      "metadata": {
        "colab": {
          "base_uri": "https://localhost:8080/"
        },
        "id": "y92ICEK-ZHo_",
        "outputId": "c7e4c60d-67fb-4a77-a222-59563d32f3a1"
      },
      "source": [
        "print(algo.islower())"
      ],
      "execution_count": null,
      "outputs": [
        {
          "output_type": "stream",
          "text": [
            "True\n"
          ],
          "name": "stdout"
        }
      ]
    },
    {
      "cell_type": "code",
      "metadata": {
        "colab": {
          "base_uri": "https://localhost:8080/"
        },
        "id": "l2rVcNgPZOJy",
        "outputId": "52706166-ecb5-469d-e0fb-63b05b800f7b"
      },
      "source": [
        "print(algo.isnumeric())"
      ],
      "execution_count": null,
      "outputs": [
        {
          "output_type": "stream",
          "text": [
            "False\n"
          ],
          "name": "stdout"
        }
      ]
    },
    {
      "cell_type": "code",
      "metadata": {
        "colab": {
          "base_uri": "https://localhost:8080/"
        },
        "id": "PObsdP9iZRiB",
        "outputId": "f0774d0f-d77a-40db-a916-146c9d8c3a52"
      },
      "source": [
        "print(algo.isprintable())"
      ],
      "execution_count": null,
      "outputs": [
        {
          "output_type": "stream",
          "text": [
            "True\n"
          ],
          "name": "stdout"
        }
      ]
    },
    {
      "cell_type": "code",
      "metadata": {
        "colab": {
          "base_uri": "https://localhost:8080/"
        },
        "id": "KCMKpLfFZUkG",
        "outputId": "7371cee9-ace2-45a7-e941-be92078fa605"
      },
      "source": [
        "print(algo.isspace())"
      ],
      "execution_count": null,
      "outputs": [
        {
          "output_type": "stream",
          "text": [
            "False\n"
          ],
          "name": "stdout"
        }
      ]
    },
    {
      "cell_type": "code",
      "metadata": {
        "colab": {
          "base_uri": "https://localhost:8080/"
        },
        "id": "5jE6ielnZZ8j",
        "outputId": "cba26173-7a27-48fd-a486-718debb1f566"
      },
      "source": [
        "print(algo.istitle())"
      ],
      "execution_count": null,
      "outputs": [
        {
          "output_type": "stream",
          "text": [
            "False\n"
          ],
          "name": "stdout"
        }
      ]
    },
    {
      "cell_type": "code",
      "metadata": {
        "colab": {
          "base_uri": "https://localhost:8080/"
        },
        "id": "4ezIT9IiZdDH",
        "outputId": "c8699663-9bb9-4a50-cf01-29dc250c177f"
      },
      "source": [
        "print(algo.isupper())"
      ],
      "execution_count": null,
      "outputs": [
        {
          "output_type": "stream",
          "text": [
            "False\n"
          ],
          "name": "stdout"
        }
      ]
    },
    {
      "cell_type": "markdown",
      "metadata": {
        "id": "NFhsgJO0AN3K"
      },
      "source": [
        "**Desafio 005:**\n",
        "\n",
        "Faça um programa que leia um número inteiro e mostre na tela o seu sucessor e seu antecessor.\n",
        "\n",
        "*Certo*"
      ]
    },
    {
      "cell_type": "code",
      "metadata": {
        "colab": {
          "base_uri": "https://localhost:8080/"
        },
        "id": "cIH5QKAOAcLQ",
        "outputId": "1c6947cc-efce-4c74-88f3-26a5bd66f520"
      },
      "source": [
        "n1 = int(input('Digite um número: '))\n",
        "\n",
        "print(f'O sucessor de {n1} é {n1+1} e o antecessor de {n1} é {n1-1}')"
      ],
      "execution_count": null,
      "outputs": [
        {
          "output_type": "stream",
          "text": [
            "Digite um nímero: 8\n",
            "O sucessor de 8 é 9 e o antecessor de 8 é 7\n"
          ],
          "name": "stdout"
        }
      ]
    },
    {
      "cell_type": "markdown",
      "metadata": {
        "id": "egkqPX4wA13I"
      },
      "source": [
        "**Desafio 006:**\n",
        "\n",
        "Crie um algoritmo que leia um número e mostre o seu dobro, tripo e raiz quadrada.\n",
        "\n",
        "*Certo*"
      ]
    },
    {
      "cell_type": "code",
      "metadata": {
        "colab": {
          "base_uri": "https://localhost:8080/"
        },
        "id": "vZ61r9GTBfgJ",
        "outputId": "ce545ed2-6206-4e86-fa44-a699a3e7fe3f"
      },
      "source": [
        "n1 = float(input('Digite um número: '))\n",
        "\n",
        "print(f'O dobro do número {n1} é {n1*2}. \\nO triplo do número {n1} é {n1*3} ',end=' ')\n",
        "print(f'A raiz quadrada do número {n1} é {n1**(1/2):.2f}.')  #dois números flutuantes depois da vírgula. ``` :.2f ``` "
      ],
      "execution_count": null,
      "outputs": [
        {
          "output_type": "stream",
          "text": [
            "Digite um número: 81\n",
            "O dobro do número 81.0 é 162.0. \n",
            "O triplo do número 81.0 é 243.0  A raiz quadrada do número 81.0 é 9.00.\n"
          ],
          "name": "stdout"
        }
      ]
    },
    {
      "cell_type": "markdown",
      "metadata": {
        "id": "DvvWET4VA35r"
      },
      "source": [
        "**Desafio 007:**\n",
        "\n",
        "Desenvolva um programa que leia as duas notas de um aluno. Calcule e mostre sua média.\n",
        "\n",
        "*Certo*"
      ]
    },
    {
      "cell_type": "code",
      "metadata": {
        "colab": {
          "base_uri": "https://localhost:8080/"
        },
        "id": "MTdFRzABCnAv",
        "outputId": "24eb8cf1-5dd1-4dab-c88d-a8c383733bbc"
      },
      "source": [
        "aluno = input('Digite o nome do aluno: ')\n",
        "nota1 = float(input(f'Digite a primeira nota do(a) aluno(a) {aluno}: '))\n",
        "nota2 = float(input(f'Digite a segunda nota do(a) aluno(a) {aluno}: '))\n",
        "print(f'Bem-Vindo ao sistema da ESCOLA EDUCAR \\nO aluno(a) {aluno} tirou na primeira prova a nota {nota1:.1f} e na segunda prova a nota {nota2:.1f}.',end=' ')  #um número flutuante depois da vírgula. ``` :.1f ```\n",
        "print(f'A média entre as duas provas foi: {(nota1+nota2)/2:.2f}')  #dois números flutuantes depois da vírgula. ``` :.2f ```"
      ],
      "execution_count": null,
      "outputs": [
        {
          "output_type": "stream",
          "text": [
            "Digite o nome do aluno: joana\n",
            "Digite a primeira nota do(a) aluno(a) joana: 5.5\n",
            "Digite a segunda nota do(a) aluno(a) joana: 2\n",
            "Bem-Vindo ao sistema da ESCOLA EDUCAR \n",
            "O aluno(a) joana tirou na primeira prova a nota 5.5 e na segunda prova a nota 2.0. A média entre as duas provas foi: 3.75\n"
          ],
          "name": "stdout"
        }
      ]
    },
    {
      "cell_type": "markdown",
      "metadata": {
        "id": "FOCiBQMy_6lJ"
      },
      "source": [
        "**Desafio 008:**\n",
        "\n",
        "Escreva um programa que leia um valor em metros e o exiba convertido em centímetros e milimetros.\n",
        "\n",
        "*Certo*"
      ]
    },
    {
      "cell_type": "code",
      "metadata": {
        "colab": {
          "base_uri": "https://localhost:8080/"
        },
        "id": "YTmcWsNJAJcV",
        "outputId": "f59a3eaf-10b8-49f9-cfd5-f60c3d497174"
      },
      "source": [
        "comprimento = float(input('Digite um valor em metros: '))\n",
        "print(f'O valor {comprimento} metros equivale: \\nDecímetro: {comprimento*10} \\nCintímetro: {comprimento*100} \\nMilímetro: {comprimento*1000} \\nDecâmetro: {comprimento/10} \\nHectômetro: {comprimento/100} \\nKilômetro: {comprimento/1000}')"
      ],
      "execution_count": null,
      "outputs": [
        {
          "output_type": "stream",
          "text": [
            "Digite um valor em metros: 40\n",
            "O valor 40.0 metros equivale: \n",
            "Decímetro: 400.0 \n",
            "Cintímetro: 4000.0 \n",
            "Milímetro: 40000.0 \n",
            "Decâmtro: 4.0 \n",
            "Hectômetro: 0.4 \n",
            "Kilômetro: 0.04\n"
          ],
          "name": "stdout"
        }
      ]
    },
    {
      "cell_type": "markdown",
      "metadata": {
        "id": "1n24Evm5fA8D"
      },
      "source": [
        "**Desafio 009:**\n",
        "\n",
        "Faça um programa que leia um número inteiro qualquer e mostre na tela sua tabuada.\n",
        "\n",
        "*Corrigido*"
      ]
    },
    {
      "cell_type": "code",
      "metadata": {
        "colab": {
          "base_uri": "https://localhost:8080/"
        },
        "id": "09IPxpTe_Htz",
        "outputId": "0d3779c6-6579-4a4e-f73d-6f78d5b5d78d"
      },
      "source": [
        "#código elaborado junto com o professor\n",
        "num = int(input('Digite um número para ver sua tabuada: '))\n",
        "print('-'*12)\n",
        "print(f'{num} x {1:2} = {num*1}')\n",
        "print(f'{num} x {2:2} = {num*2}')\n",
        "print(f'{num} x {3:2} = {num*3}')\n",
        "print(f'{num} x {4:2} = {num*4}')\n",
        "print(f'{num} x {5:2} = {num*5}')\n",
        "print(f'{num} x {6:2} = {num*6}')\n",
        "print(f'{num} x {7:2} = {num*7}')\n",
        "print(f'{num} x {8:2} = {num*8}')\n",
        "print(f'{num} x {9:2} = {num*9}')\n",
        "print(f'{num} x {10:2} = {num*10}')\n",
        "print('-'*12)"
      ],
      "execution_count": null,
      "outputs": [
        {
          "output_type": "stream",
          "text": [
            "Digite um número para ver sua tabuada: 9\n",
            "------------\n",
            "9 x  1 = 9\n",
            "9 x  2 = 18\n",
            "9 x  3 = 27\n",
            "9 x  4 = 36\n",
            "9 x  5 = 45\n",
            "9 x  6 = 54\n",
            "9 x  7 = 63\n",
            "9 x  8 = 72\n",
            "9 x  9 = 81\n",
            "9 x 10 = 90\n",
            "------------\n"
          ],
          "name": "stdout"
        }
      ]
    },
    {
      "cell_type": "markdown",
      "metadata": {
        "id": "pce4eIKufBTc"
      },
      "source": [
        "**Desafio 010:**\n",
        "\n",
        "Crie um programa que leia quanto dinheiro uma pessoa tem na carteira e mostre quantos dólares ela pode comprar.\n",
        "\n",
        "Considero a cotação do dia 24/05/2021: R$1 = US 0.18\n",
        "\n",
        "\n",
        "*Certo*"
      ]
    },
    {
      "cell_type": "code",
      "metadata": {
        "id": "P2V85uhHLf78"
      },
      "source": [
        "dolar = real / 5.24"
      ],
      "execution_count": null,
      "outputs": []
    },
    {
      "cell_type": "code",
      "metadata": {
        "colab": {
          "base_uri": "https://localhost:8080/"
        },
        "id": "Rn2AB7zjhRhI",
        "outputId": "3cb8885a-bd94-4d89-c24d-4e18bc8481fb"
      },
      "source": [
        "real = float(input('Insira a quantidade de R$ que deseja converter: '))\n",
        "\n",
        "print(f'O valor de R${real} equivale à US${0.18*real:.2f}')"
      ],
      "execution_count": null,
      "outputs": [
        {
          "output_type": "stream",
          "text": [
            "Insira a quantidade de R$ que deseja converter: 125.32\n",
            "O valor de R$125.32 equivale à US$22.56\n"
          ],
          "name": "stdout"
        }
      ]
    },
    {
      "cell_type": "code",
      "metadata": {
        "colab": {
          "base_uri": "https://localhost:8080/"
        },
        "id": "1xJ5bRA4jaQ1",
        "outputId": "34c83e0c-e6d4-48d4-ef51-bdae33707d54"
      },
      "source": [
        "dolar = float(input('Insira a quantidade de US$ que deseja converter: '))\n",
        "\n",
        "print(f'O valor de US${dolar} equivale à R${dolar*5.32:.2f}')"
      ],
      "execution_count": null,
      "outputs": [
        {
          "output_type": "stream",
          "text": [
            "Insira a quantidade de US$ que deseja converter: 125.32\n",
            "O valor de US$125.32 equivale à R$666.70\n"
          ],
          "name": "stdout"
        }
      ]
    },
    {
      "cell_type": "markdown",
      "metadata": {
        "id": "V8UhSVnRfBdR"
      },
      "source": [
        "**Desafio 011:**\n",
        "\n",
        "Faça um programa que leia a largura e a altura de uma parede em metros. Calcule a sua área e a quantidade de tinta necessária para pintá-la, sabendo que cada litro de tinta pinta um área de 2m².\n",
        "\n",
        "*Certo*"
      ]
    },
    {
      "cell_type": "code",
      "metadata": {
        "colab": {
          "base_uri": "https://localhost:8080/"
        },
        "id": "xVydF0qmlIzz",
        "outputId": "f1c0df2b-1376-4c72-bd65-604d18a49ffd"
      },
      "source": [
        "altura = float(input('Digite a altura da parede em metros: '))\n",
        "largura = float(input('Digite a largura da parede em metros: '))\n",
        "\n",
        "print(f'A área será de {altura*largura}m² e a quantidade de tinta necessária para pintá-la será de {(altura*largura)/2:.2f}L.')"
      ],
      "execution_count": null,
      "outputs": [
        {
          "output_type": "stream",
          "text": [
            "Digite a altura da parede em metros: 1.25\n",
            "Digite a largura da parede em metros: 2\n",
            "A área será de 2.5m² e a quantidade de tinta necessária para pintá-la será de 1.25L.\n"
          ],
          "name": "stdout"
        }
      ]
    },
    {
      "cell_type": "markdown",
      "metadata": {
        "id": "bKLQAzjnfBk3"
      },
      "source": [
        "**Desafio 012:**\n",
        "\n",
        "Faça um algoritmo que leia o preço de um produto e mostre seu novo preço, com 5% de desconto.\n",
        "\n",
        "*Certo*"
      ]
    },
    {
      "cell_type": "code",
      "metadata": {
        "colab": {
          "base_uri": "https://localhost:8080/"
        },
        "id": "mJA7TXMynlyZ",
        "outputId": "af57c892-f92e-47a3-874e-224cbe6b7256"
      },
      "source": [
        "produto = float(input('Digite o preço do produto: R$'))\n",
        "desc = produto - (produto * 0.05)\n",
        "print(f'PARABÉNS! Você ganhou 5% de desconto!\\nO preço total da compra é {desc:.2f}.')"
      ],
      "execution_count": null,
      "outputs": [
        {
          "output_type": "stream",
          "text": [
            "Digite o preço do produto: R$88.99\n",
            "PARABÉNS! Você ganhou 5% de desconto!\n",
            "O preço total da compra é 84.54.\n"
          ],
          "name": "stdout"
        }
      ]
    },
    {
      "cell_type": "markdown",
      "metadata": {
        "id": "s2__lxOwg4lu"
      },
      "source": [
        "**Desafio 013:**\n",
        "\n",
        "Faça um algoritmo que leia o salário de um funcionário e mostre seu novo salário, com 15% de aumento.\n",
        "\n",
        "*Certo*"
      ]
    },
    {
      "cell_type": "code",
      "metadata": {
        "colab": {
          "base_uri": "https://localhost:8080/"
        },
        "id": "1yquPvsNrJlp",
        "outputId": "4c38e7d3-9fb0-4b28-916e-59ceec36d249"
      },
      "source": [
        "salario = float(input('PARABÉNS! VOCE GANHOU 15% DE AUMENTO.\\nDigite a seguir o valor do seu salário para realizarmos o reajuste: '))\n",
        "atual = salario + (salario * 0.15)\n",
        "print(f'Com o reajuste de 15%, você passou a ganhar R${atual:.2f}.')"
      ],
      "execution_count": null,
      "outputs": [
        {
          "output_type": "stream",
          "text": [
            "PARABÉNS! VOCE GANHOU 15% DE AUMENTO.\n",
            "Digite a seguir o valor do seu salário para realizarmos o reajuste: 3500.23\n",
            "Com o reajuste de 15%, você passou a ganhar R$4025.26.\n"
          ],
          "name": "stdout"
        }
      ]
    },
    {
      "cell_type": "markdown",
      "metadata": {
        "id": "o60KpMHNR2I9"
      },
      "source": [
        "**Desafio 014:**\n",
        "\n",
        "Escreva um programa que converta uma temperatura digitando em graus Celsius e converta para graus Fahrenheit.\n",
        "\n",
        "*Certo*"
      ]
    },
    {
      "cell_type": "code",
      "metadata": {
        "colab": {
          "base_uri": "https://localhost:8080/"
        },
        "id": "ARqAG2guR_r6",
        "outputId": "74da7805-f1d6-4bd0-c23d-a0906a355fdb"
      },
      "source": [
        "celsiu = float(input('Digite a temperatura em graus Celsius: '))\n",
        "print(f'{celsiu:.2f}ºC equivale à {(celsiu*1.8)+32:.2f}ºF')"
      ],
      "execution_count": null,
      "outputs": [
        {
          "output_type": "stream",
          "text": [
            "Digite a temperatura em graus Celsius: 40\n",
            "40.00ºC equivale à 104.00ºF\n"
          ],
          "name": "stdout"
        }
      ]
    },
    {
      "cell_type": "code",
      "metadata": {
        "colab": {
          "base_uri": "https://localhost:8080/"
        },
        "id": "_zCA880KTDsq",
        "outputId": "df71a209-ffe5-4a33-fa36-209a1712f138"
      },
      "source": [
        "fahre = float(input('Digite a temperatura em graus Fahrenheit: '))\n",
        "print(f'{fahre:.2f}ºF equivale à {(fahre-32)/1.8:.2f}ºC')"
      ],
      "execution_count": null,
      "outputs": [
        {
          "output_type": "stream",
          "text": [
            "Digite a temperatura em graus Fahrenheit: 451\n",
            "451.00ºF equivale à 232.78ºC\n"
          ],
          "name": "stdout"
        }
      ]
    },
    {
      "cell_type": "markdown",
      "metadata": {
        "id": "WEq5iKg4XA5r"
      },
      "source": [
        "**Desafio 015:**\n",
        "\n",
        "Escreva um programa que pergunte a quantidade de Km percorridos por um carro alugado e a quantidade de dias pelos quais ele foi alugado. Calcule o preço a pagar, sabendo que o carro custa 60 reais por dia e R$0,15 por Km rodado.\n",
        "\n",
        "*Certo*"
      ]
    },
    {
      "cell_type": "code",
      "metadata": {
        "colab": {
          "base_uri": "https://localhost:8080/"
        },
        "id": "Tl6oEwfmXEzA",
        "outputId": "47664c51-c0f7-44bc-d731-95ca249c1314"
      },
      "source": [
        "km = float(input('Digite a quantidade de Km pecorridos: '))\n",
        "dia = int(input('Digite a quantidade de dias alugados: '))\n",
        "total = (dia * 60) + (km * 0.15)\n",
        "print(f'O total à pagar por {dia} dia(s) alugado(s) e {km:.2f}km pecorridos foi de R${total:.2f}')"
      ],
      "execution_count": null,
      "outputs": [
        {
          "output_type": "stream",
          "text": [
            "Digite a quantidade de Km pecorridos: 1\n",
            "Digite a quantidade de dias alugados: 1\n",
            "O total à pagar por 1 dia(s) alugado(s) e 1.00km pecorridos foi de R$60.15\n"
          ],
          "name": "stdout"
        }
      ]
    },
    {
      "cell_type": "markdown",
      "metadata": {
        "id": "gnEPjBkQ9rwW"
      },
      "source": [
        "**Desafio 016:**\n",
        "\n",
        "Crie um programa que leia um número real qualquer pelo teclado e mostre na tela sua porção inteira.\n",
        "\n",
        "Exemplo: Digite um número: 6.127\n",
        "\n",
        "O número 6.127 tem a parte inteira 6.\n",
        "\n",
        "*Certo*"
      ]
    },
    {
      "cell_type": "code",
      "metadata": {
        "colab": {
          "base_uri": "https://localhost:8080/"
        },
        "id": "yPR03reqQLMx",
        "outputId": "4cc683f9-0e13-4bd5-f770-217826eaf3dd"
      },
      "source": [
        "num3 = float(input('Digite um número qualquer: '))\n",
        "print(f'A parte inteira do número {num3} é {int(num3)}')"
      ],
      "execution_count": null,
      "outputs": [
        {
          "output_type": "stream",
          "text": [
            "Digite um número qualquer: 8.5554\n",
            "A parte inteira do número 8.5554 é 8\n"
          ],
          "name": "stdout"
        }
      ]
    },
    {
      "cell_type": "code",
      "metadata": {
        "id": "k5pJoLBXSZ3O"
      },
      "source": [
        "#para esse exercício, o mais correto seria usar o trunc.  O novo código ficaria"
      ],
      "execution_count": null,
      "outputs": []
    },
    {
      "cell_type": "code",
      "metadata": {
        "colab": {
          "base_uri": "https://localhost:8080/"
        },
        "id": "kpXnViviShr6",
        "outputId": "4a3e75f4-1bdc-427b-b927-e00d03a6fe57"
      },
      "source": [
        "from math import trunc\n",
        "num = float(input('Digite um valor: '))\n",
        "print(f'O valor digitado foi {num} e sua porçao inteira é {trunc(num)}.')"
      ],
      "execution_count": null,
      "outputs": [
        {
          "output_type": "stream",
          "text": [
            "Digite um valor: 5.44444\n",
            "O valor digitado foi 5.44444 e sua porçao inteira é 5.\n"
          ],
          "name": "stdout"
        }
      ]
    },
    {
      "cell_type": "markdown",
      "metadata": {
        "id": "QnyKb9ws9r4_"
      },
      "source": [
        "**Desafio 017:**\n",
        "\n",
        "Faça um programa que leia o cateto oposto e o cateto adjacente de um triângulo retângulo, calcule e mostre o cumprimento da hipotenusa.\n",
        "\n",
        "*Certo*"
      ]
    },
    {
      "cell_type": "code",
      "metadata": {
        "colab": {
          "base_uri": "https://localhost:8080/"
        },
        "id": "-MZwnuaWxw0D",
        "outputId": "fc125bd4-116a-4eb0-f8e0-df4e4adcb414"
      },
      "source": [
        "import math\n",
        "cateto1 = float(input('Insira o cateto oposto do triângulo: '))\n",
        "cateto2 = float(input('Insira o cateto adjacente do triângulo: '))\n",
        "hipo = math.hypot(cateto1,cateto2)\n",
        "print(f'Medidas do triângulo.\\nCateto oposto: {cateto1}.\\nCateto adjacente: {cateto2}.\\nHipotenusa: {hipo:.3f}')"
      ],
      "execution_count": null,
      "outputs": [
        {
          "output_type": "stream",
          "text": [
            "Insira o cateto oposto do triângulo: 9\n",
            "Insira o cateto adjacente do triângulo: 4\n",
            "Medidas do triângulo.\n",
            "Cateto oposto: 9.0.\n",
            "Cateto adjacente: 4.0.\n",
            "Hipotenusa: 9.849\n"
          ],
          "name": "stdout"
        }
      ]
    },
    {
      "cell_type": "markdown",
      "metadata": {
        "id": "UWlKJR-e9r8U"
      },
      "source": [
        "**Desafio 018:**\n",
        "\n",
        "Faça um programa que leia um ângulo qualquer e mostre na tela o valor do seno, cosseno e tangente desse ângulo.\n",
        "\n",
        "*Corrigido*"
      ]
    },
    {
      "cell_type": "code",
      "metadata": {
        "colab": {
          "base_uri": "https://localhost:8080/"
        },
        "id": "HIsyOd8F13p5",
        "outputId": "e21c4c8e-c99f-42e2-b88d-92249f0b7004"
      },
      "source": [
        "angle = float(input('Digite um ângulo: ')) \n",
        "'''\n",
        "Nesse input, o valor inserido está em graus, e para o cálculo matemático o valor tem que ser convertido para graus radianos.\n",
        "'''\n",
        "from math import sin, tan, cos\n",
        "sen = sin(angle)\n",
        "tang = tan(angle)\n",
        "cose = cos(angle)\n",
        "print(f'O seno desse ângulo é {sen:.3f}.\\nA tangente desse ângulo é {tang:.3f}.\\nO cosseno desse ângulo é {cose:.3f}')"
      ],
      "execution_count": null,
      "outputs": [
        {
          "output_type": "stream",
          "text": [
            "Digite um ângulo: 40\n",
            "O seno desse ângulo é 0.745.\n",
            "A tangente desse ângulo é -1.117.\n",
            "O cosseno desse ângulo é -0.667\n"
          ],
          "name": "stdout"
        }
      ]
    },
    {
      "cell_type": "code",
      "metadata": {
        "colab": {
          "base_uri": "https://localhost:8080/"
        },
        "id": "D9xR_Tp4Ws2J",
        "outputId": "cb7f2f83-0a1c-42af-e66b-64c226295bc9"
      },
      "source": [
        "#código corrigido\n",
        "import math\n",
        "an = float(input('Digite o ângulo que você deseja: '))\n",
        "seno = math.sin(math.radians(an))\n",
        "cose = math.cos(math.radians(an))\n",
        "tang = math.tan(math.radians(an))\n",
        "print(f'O seno desse ângulo é {seno:.2f}.\\nO cosseno desse ângulo é {cose:.2f}.\\nA tangente desse ângulo é {tang:.2f} ')"
      ],
      "execution_count": null,
      "outputs": [
        {
          "output_type": "stream",
          "text": [
            "Digite o ângulo que você deseja: 30\n",
            "O seno desse ângulo é 0.50.\n",
            "O cosseno desse ângulo é 0.87.\n",
            "A tangente desse ângulo é 0.58 \n"
          ],
          "name": "stdout"
        }
      ]
    },
    {
      "cell_type": "markdown",
      "metadata": {
        "id": "YIfEQvXy9r_t"
      },
      "source": [
        "**Desafio 019:**\n",
        "\n",
        "Um professor quer sortear um dos seus quatro alunos para apagar o quadro. Faça um programa que ajude ele, lendo o nome deles e escrevendo o nome do escolhido.\n",
        "\n",
        "*Certo*"
      ]
    },
    {
      "cell_type": "code",
      "metadata": {
        "colab": {
          "base_uri": "https://localhost:8080/"
        },
        "id": "to5iiUCo4nAl",
        "outputId": "1efe8d4c-d380-41ef-c1fd-ec8efe7f18eb"
      },
      "source": [
        "from random import choice\n",
        "aluna = choice(['Rita','Joana','Fernanda','Josefina'])\n",
        "print(f'A aluna escolhida para apagar o quadro foi {aluna}.')"
      ],
      "execution_count": null,
      "outputs": [
        {
          "output_type": "stream",
          "text": [
            "A aluna escolhida para apagar o quadro foi Joana.\n"
          ],
          "name": "stdout"
        }
      ]
    },
    {
      "cell_type": "markdown",
      "metadata": {
        "id": "BW5_AKbA9sCm"
      },
      "source": [
        "**Desafio 020:**\n",
        "\n",
        "O mesmo professor do desafio anterior quer sortear a ordem de apresentação de trabalhos dos alunos. Faça um programa que leia o nome dos quatro alunos e mostre a ordem sorteada.\n",
        "\n",
        "*Corrigido*"
      ]
    },
    {
      "cell_type": "code",
      "metadata": {
        "id": "UPXyMcT49WsK"
      },
      "source": [
        "import random\n",
        "#o erro foi que eu tentei criar uma variável para o modo shuffle.\n",
        "#apres = random.shuffle(aluna, random=None)"
      ],
      "execution_count": null,
      "outputs": []
    },
    {
      "cell_type": "code",
      "metadata": {
        "colab": {
          "base_uri": "https://localhost:8080/"
        },
        "id": "DEUx9DzYh_Lz",
        "outputId": "a5d0f5a9-a8ec-40aa-c8b1-986a345a43e1"
      },
      "source": [
        "# código corrigido\n",
        "from random import shuffle\n",
        "aluna = ['Rita','Joana','Fernanda','Josefina']\n",
        "shuffle(aluna)\n",
        "print(f'A ordem de apresentação será: {aluna} ')"
      ],
      "execution_count": null,
      "outputs": [
        {
          "output_type": "stream",
          "text": [
            "A ordem de apresentação será: ['Josefina', 'Joana', 'Fernanda', 'Rita'] \n"
          ],
          "name": "stdout"
        }
      ]
    },
    {
      "cell_type": "markdown",
      "metadata": {
        "id": "hzHga8LtmTyR"
      },
      "source": [
        "**Desafio 021:**\n",
        "\n",
        "Crie um programa que leia o nome completo de uma pessoa e mostre: \n",
        "\n",
        "- O nome com todas as letras maiúsculas;\n",
        "\n",
        "- O nome com todas minúsculas;\n",
        "\n",
        "- Quantas letras ao todo (sem considerar espaços);\n",
        "\n",
        "- Quantas letras tem o primeiro nome;\n",
        "\n",
        "*Certo*"
      ]
    },
    {
      "cell_type": "code",
      "metadata": {
        "colab": {
          "base_uri": "https://localhost:8080/"
        },
        "id": "QUZt7kOtqfst",
        "outputId": "93416911-f413-4704-df4f-2b58962fb34b"
      },
      "source": [
        "name = str(input('Digite seu nome completo: ')).strip()\n",
        "print(f'Seu nome em maiúscula: {name.upper()}.\\nEm minúscula: {name.lower()}.\\nSeu nome tem {len(name)- name.count(\" \")} letras.\\nSeu primeiro nome tem {name.find(\" \")} letras.')"
      ],
      "execution_count": null,
      "outputs": [
        {
          "output_type": "stream",
          "text": [
            "Digite seu nome completo: fernanda rios\n",
            "Seu nome em maiúscula: FERNANDA RIOS.\n",
            "Em minúscula: fernanda rios.\n",
            "Seu nome tem 12 letras.\n",
            "Seu primeiro nome tem 8\n"
          ],
          "name": "stdout"
        }
      ]
    },
    {
      "cell_type": "markdown",
      "metadata": {
        "id": "53tdT71bmvvz"
      },
      "source": [
        "**Desafio 022:**\n",
        "\n",
        "Faça um programa que leia um número de 0 a 9999 e mostre na tela cada um dos dígitos separados. \n",
        "\n",
        "Ex: Digite um número: 1834\n",
        "\n",
        "Unidade: 4 \n",
        "\n",
        "Dezena: 3\n",
        "\n",
        "Centena: 8 \n",
        "\n",
        "Milhar: 1 \n",
        "\n",
        "*Corrigido*"
      ]
    },
    {
      "cell_type": "code",
      "metadata": {
        "colab": {
          "base_uri": "https://localhost:8080/"
        },
        "id": "AHoTwzdJ3vHe",
        "outputId": "3d868e15-efd2-4a2d-f983-c18062422bea"
      },
      "source": [
        "number_to_be_read = int(input('Digite um número de 0 a 9999: '))\n",
        "print(f'O número digitado {number_to_be_read} tem:\\nUnidade: {number_to_be_read//1%10}. \\nDezena: {number_to_be_read//10%10}.\\nCentena: {number_to_be_read//100%10}.\\nMilhar: {number_to_be_read//1000%10}')"
      ],
      "execution_count": null,
      "outputs": [
        {
          "output_type": "stream",
          "text": [
            "Digite um número de 0 a 9999: 9999\n",
            "O número digitado 9999 tem:\n",
            "Unidade: 9. \n",
            "Dezena: 9.\n",
            "Centena: 9.\n",
            "Milhar: 9\n"
          ],
          "name": "stdout"
        }
      ]
    },
    {
      "cell_type": "markdown",
      "metadata": {
        "id": "MU5J_-fxmyIH"
      },
      "source": [
        "**Desafio 023:**\n",
        "\n",
        "Crie um programa que leia o nome de uma cidade e difa se ela começa ou não com o nome \"Santo\". \n",
        "\n",
        "*Corrigido*"
      ]
    },
    {
      "cell_type": "code",
      "metadata": {
        "colab": {
          "base_uri": "https://localhost:8080/"
        },
        "id": "JPNQDCthI6MP",
        "outputId": "7c98f096-6c80-4db9-9c6c-04545c75a6f0"
      },
      "source": [
        "city = str(input('Digite o nome da cidade que você mora: ')).strip()\n",
        "print('A cidade que vocÊ mora começa com Santo?\\nAnalisando...\\n')\n",
        "print(city[:5].upper() == 'SANTO')"
      ],
      "execution_count": null,
      "outputs": [
        {
          "output_type": "stream",
          "text": [
            "Digite o nome da cidade que você mora: Belo Horizonte\n",
            "False\n"
          ],
          "name": "stdout"
        }
      ]
    },
    {
      "cell_type": "markdown",
      "metadata": {
        "id": "FENt0Drlmz5Q"
      },
      "source": [
        "**Desafio 024:**\n",
        "\n",
        "Crie um programa que leia o nome de uma pessoa e diga se ela tem \"Silva\" no nome.\n",
        "\n",
        "*Certo*"
      ]
    },
    {
      "cell_type": "code",
      "metadata": {
        "colab": {
          "base_uri": "https://localhost:8080/"
        },
        "id": "CXks9q5BMc7v",
        "outputId": "16bd670f-a544-472c-831f-cbd3a34bbe55"
      },
      "source": [
        "name_to_be_analysed = str(input('Digite seu nome completo: ')).strip()\n",
        "print(f'Analisando se seu nome tem Silva.\\n...\\n{ \"SILVA\" in name_to_be_analysed.upper()}.')"
      ],
      "execution_count": null,
      "outputs": [
        {
          "output_type": "stream",
          "text": [
            "Digite seu nome completo: Fernanda Rios\n",
            "Analisando se seu nome tem Silva.\n",
            "...\n",
            "False.\n"
          ],
          "name": "stdout"
        }
      ]
    },
    {
      "cell_type": "markdown",
      "metadata": {
        "id": "631fNUxsoOAG"
      },
      "source": [
        "**Desafio 025:**\n",
        "\n",
        "Faça um programa que leia uma frase pelo teclado e mostre:\n",
        "\n",
        "- Quantas vezes aparece a letra \"A\".\n",
        "\n",
        "- Em que posição ela aparece a primeira vez.\n",
        "\n",
        "- Em que posição ela aparece a úlltima vez.\n",
        "\n",
        "*Certo*"
      ]
    },
    {
      "cell_type": "code",
      "metadata": {
        "colab": {
          "base_uri": "https://localhost:8080/"
        },
        "id": "XYshSGoLO36v",
        "outputId": "e8c9f099-5f47-4705-d44d-4349eb3fd3a9"
      },
      "source": [
        "frase = str(input(\"Digite uma frase: \")).upper().strip()\n",
        "print(f\"Analisando a frase\\n...\\nQuantidade de 'A': {frase.count('A')}.\\nA primeira letra A apareceu na posição: {frase.find('A') + 1}.\\nA última letra A apareceu na posição {frase.rfind('A') + 1}\")"
      ],
      "execution_count": null,
      "outputs": [
        {
          "output_type": "stream",
          "text": [
            "Digite uma frase:       arara azul\n",
            "Analisando a frase\n",
            "...\n",
            "Quantidade de 'A': 4.\n",
            "A primeira letra A apareceu na posição: 1.\n",
            "A última letra A apareceu na posição 7\n"
          ],
          "name": "stdout"
        }
      ]
    },
    {
      "cell_type": "markdown",
      "metadata": {
        "id": "glH-vxj2oTCJ"
      },
      "source": [
        "**Desafio 026:**\n",
        "\n",
        "Faça um programa que leia o nome completo de uma pessoa, mostrando em seguida o primeiro e o último nome separadamente.\n",
        "\n",
        "Ex: Ana Maria de Souza\n",
        "\n",
        "Primeiro: Ana\n",
        "\n",
        "Último: Souza\n",
        "\n",
        "*Certo*"
      ]
    },
    {
      "cell_type": "code",
      "metadata": {
        "colab": {
          "base_uri": "https://localhost:8080/"
        },
        "id": "HtrtsLGCqfI3",
        "outputId": "97ca3faa-147f-4b80-d270-7bcae480fcbd"
      },
      "source": [
        "name = str(input('Digite seu nome completo: ')).strip()\n",
        "name_separated = name.split() \n",
        "print(f'Seu nome: {name}.\\nPrimeiro: {name_separated[0]}.\\nÚltimo: {name_separated[len(name_separated)-1]} ')"
      ],
      "execution_count": null,
      "outputs": [
        {
          "output_type": "stream",
          "text": [
            "Digite seu nome completo: fernanda reginaldo rios\n",
            "Seu nome: fernanda reginaldo rios.\n",
            "Primeiro: fernanda.\n",
            "Último: rios \n"
          ],
          "name": "stdout"
        }
      ]
    },
    {
      "cell_type": "markdown",
      "metadata": {
        "id": "rODWHTy7AOd3"
      },
      "source": [
        "**Desafio 027:**\n",
        "\n",
        "Escreva um programa que faça o computador \"pensar\" em um número inteiro entre 0 e 5 e peça para o usuário tentar descobrir qual foi o número escolhido pelo computador.\n",
        "\n",
        "O programa deverá escrevar na tela se o usuário venceu ou perdeu.\n",
        "\n",
        "*Certo*"
      ]
    },
    {
      "cell_type": "code",
      "metadata": {
        "colab": {
          "base_uri": "https://localhost:8080/"
        },
        "id": "YabEYMSRIC_d",
        "outputId": "481425e3-6d51-4788-9ff6-45c87a235492"
      },
      "source": [
        "from random import  randrange\n",
        "\n",
        "computer_choice = randrange(0, 5, 1)\n",
        "\n",
        "user_choice = int(input(\"Escolha um número de 0 a 5: \"))\n",
        "if user_choice == computer_choice:\n",
        "  print(\"Você venceu!!\")\n",
        "else:\n",
        "  print(f\"O computador escolheu {computer_choice}. Você perdeu!\")"
      ],
      "execution_count": 22,
      "outputs": [
        {
          "output_type": "stream",
          "text": [
            "Escolha um número de 0 a 5: 4\n",
            "Você venceu!!\n"
          ],
          "name": "stdout"
        }
      ]
    },
    {
      "cell_type": "markdown",
      "metadata": {
        "id": "NkW-v1_3AS_4"
      },
      "source": [
        "**Desafio 028:**\n",
        "\n",
        "Escreva um programa que leia a velocidade de um carro. \n",
        "\n",
        "Se ele ultrapassar 80km/h mostre uma mensagem dizendo que ele foi multado.\n",
        "\n",
        "A multa vai custar R$7,00 por cada km acima do limite."
      ]
    },
    {
      "cell_type": "code",
      "metadata": {
        "colab": {
          "base_uri": "https://localhost:8080/"
        },
        "id": "pXUKbXfAOF2w",
        "outputId": "00d943b1-5a76-4407-b547-8448b778b588"
      },
      "source": [
        "car_speed = float(input(\"Digite sua velocidade: \"))\n",
        "\n",
        "if car_speed <= 80:\n",
        "  print(\"Tudo certo. Pode prosseguir.\")\n",
        "else:\n",
        "  ticket = (car_speed - 80) * 7\n",
        "  print(f\"Você foi multado. Deverá pagar R${ticket:.2f}\")"
      ],
      "execution_count": 61,
      "outputs": [
        {
          "output_type": "stream",
          "text": [
            "Digite sua velocidade: 100\n",
            "Você foi multado. Deverá pagar R$140.00\n"
          ],
          "name": "stdout"
        }
      ]
    },
    {
      "cell_type": "markdown",
      "metadata": {
        "id": "P7G1dDnzAUdo"
      },
      "source": [
        "**Desafio 029:**\n",
        "\n",
        "Crie um programa que leia um número inteiro e mostre na tela se ele é par ou ímpar.\n",
        "\n",
        "*Certo*"
      ]
    },
    {
      "cell_type": "code",
      "metadata": {
        "colab": {
          "base_uri": "https://localhost:8080/"
        },
        "id": "pRBmbFCnQP0T",
        "outputId": "64c48cba-1503-47e2-91f7-027b31b41782"
      },
      "source": [
        "number_to_be_analysed = float(input(\"Digite um número: \"))\n",
        "if number_to_be_analysed % 2 == 0:\n",
        "  print(f\"O número {number_to_be_analysed} é par.\")\n",
        "else:\n",
        "  print(f\"O número {number_to_be_analysed} é ímpar.\")"
      ],
      "execution_count": 32,
      "outputs": [
        {
          "output_type": "stream",
          "text": [
            "Digite um número: 18\n",
            "O número 18.0 é par.\n"
          ],
          "name": "stdout"
        }
      ]
    },
    {
      "cell_type": "markdown",
      "metadata": {
        "id": "waOT7daRAV3l"
      },
      "source": [
        "**Desafio 030:**\n",
        "\n",
        "Desenvolva um programa que pergunte a distância de uma viagem em Km. Calcule o preço da passagem, cobrando R$0,50 por Km para viagens de até 200Km e 0,45 centavos para viagens mais longas.\n",
        "\n",
        "*Certo*"
      ]
    },
    {
      "cell_type": "code",
      "metadata": {
        "colab": {
          "base_uri": "https://localhost:8080/"
        },
        "id": "npXzDx0zoLzV",
        "outputId": "4215111a-4808-41e7-c041-0cbdf05d253f"
      },
      "source": [
        "trip_distance = float(input(\"Para calcular o preço da passagem, digite a distância em km: \"))\n",
        "\n",
        "if trip_distance <= 200:\n",
        "  ticket_to_be_charged = trip_distance * 0.50\n",
        "else:\n",
        "  ticket_to_be_charged = trip_distance * 0.45\n",
        "print(f\"A passagem será de R${ticket_to_be_charged:.2f} para uma viagem de {trip_distance}Km.\")"
      ],
      "execution_count": 66,
      "outputs": [
        {
          "output_type": "stream",
          "text": [
            "Para calcular o preço da passagem, digite a distância em km: 500\n",
            "A passagem será de R$225.00 para uma viagem de 500.0Km.\n"
          ],
          "name": "stdout"
        }
      ]
    },
    {
      "cell_type": "markdown",
      "metadata": {
        "id": "qK-xXKRyAeeY"
      },
      "source": [
        "**Desafio 031:**\n",
        "\n",
        "Faça um programa que leia um ano qualquer e mostre se ele é bissexto.\n",
        "\n",
        "*Certo*"
      ]
    },
    {
      "cell_type": "code",
      "metadata": {
        "colab": {
          "base_uri": "https://localhost:8080/"
        },
        "id": "Mz1v3jIpSPzC",
        "outputId": "f7926fa5-6c66-4d9c-8057-b64282368981"
      },
      "source": [
        "from datetime import date\n",
        "year_to_be_analysed = int(input(\"Digite um ano e descubra se ele é bissexto. Para o ano atual digite 0: \"))\n",
        "\n",
        "if year_to_be_analysed == 0:\n",
        "  year_to_be_analysed = date.today().year\n",
        "if year_to_be_analysed % 4 == 0 and year_to_be_analysed % 100 != 0 or year_to_be_analysed % 400 == 0:\n",
        "  print(f\"O ano {year_to_be_analysed} é bissexto!\")\n",
        "else:\n",
        "  print(f\"O ano {year_to_be_analysed} não é bissexto.\")"
      ],
      "execution_count": 67,
      "outputs": [
        {
          "output_type": "stream",
          "text": [
            "Digite um ano e descubra se ele é bissexto. Para o ano atual digite 0: 0\n",
            "O ano 2021 não é bissexto.\n"
          ],
          "name": "stdout"
        }
      ]
    },
    {
      "cell_type": "markdown",
      "metadata": {
        "id": "kqFYDnY0AfzP"
      },
      "source": [
        "**Desafio 032:**\n",
        "\n",
        "Faça um programa que leia três números e mostre qual é o maior e qual é o menor.\n",
        "\n",
        "*Corrigido*"
      ]
    },
    {
      "cell_type": "code",
      "metadata": {
        "colab": {
          "base_uri": "https://localhost:8080/"
        },
        "id": "Dj3HhBYKTziI",
        "outputId": "bb3b121b-ee65-4caf-bc29-32550eb7af09"
      },
      "source": [
        "number_one = int(input(\"Digite o primeiro número: \"))\n",
        "number_two = int(input(\"Digite o segundo número: \"))\n",
        "number_three = int(input(\"Digite o terceito número: \"))\n",
        "\n",
        "minor = number_one\n",
        "if number_two < number_one and number_two < number_three:\n",
        "  minor = number_two\n",
        "if number_three < number_one and number_three < number_two:\n",
        "  minor = number_three\n",
        "print(f\"O menor número digitado foi {minor}\")"
      ],
      "execution_count": 69,
      "outputs": [
        {
          "output_type": "stream",
          "text": [
            "Digite o primeiro número: 90\n",
            "Digite o segundo número: 5555\n",
            "Digite o terceito número: 1\n",
            "O menor número digitado foi 1\n"
          ],
          "name": "stdout"
        }
      ]
    },
    {
      "cell_type": "markdown",
      "metadata": {
        "id": "KO21fh72AhEF"
      },
      "source": [
        "**Desafio 033:**\n",
        "\n",
        "Escreva um programa que pergunte o salário de um funcionário e calcule o valor do seu aumento.\n",
        "\n",
        "Para salários superiores a R$1.250,00, calcule um aumento de 10%.\n",
        "\n",
        "Para os inferiores ou iguais, o aumento é de 15%."
      ]
    },
    {
      "cell_type": "code",
      "metadata": {
        "colab": {
          "base_uri": "https://localhost:8080/"
        },
        "id": "Ck6aiAxkXj5c",
        "outputId": "23f67725-67a7-4ecd-dbe7-10a29840df57"
      },
      "source": [
        "salary = float(input(\"Digite seu salário: \"))\n",
        "\n",
        "if salary <= 1250:\n",
        "  pay_rise = (salary * 0.15) + salary\n",
        "  print(f\"Parabéns! Seu aumento salarial foi de 15%. Você passará a ganhar R${pay_rise:.2f}\")\n",
        "else: \n",
        "  pay_rise = (salary * 0.10) + salary\n",
        "  print(f\"Parabéns! Seu aumento salarial foi de 10%. Você passará a ganhar R${pay_rise:.2f}\")"
      ],
      "execution_count": 70,
      "outputs": [
        {
          "output_type": "stream",
          "text": [
            "Digite seu salário: 3000\n",
            "Parabéns! Seu aumento salarial foi de 10%. Você passará a ganhar R$3300.00\n"
          ],
          "name": "stdout"
        }
      ]
    },
    {
      "cell_type": "markdown",
      "metadata": {
        "id": "reY8S7f2Ai7Q"
      },
      "source": [
        "**Desafio 034:**\n",
        "\n",
        "Desenvolva um programa que leia o comprimento de três retas e diga ao usuário se elas podem ou não formar um triângulo."
      ]
    },
    {
      "cell_type": "code",
      "metadata": {
        "colab": {
          "base_uri": "https://localhost:8080/"
        },
        "id": "a5K6wDh8akJW",
        "outputId": "94ac8c52-695c-40b0-ef22-f045806b5a0e"
      },
      "source": [
        "vertex_one = float(input(\"Digite a primeira reta: \"))\n",
        "vertex_two = float(input(\"Digite a segunda reta: \"))\n",
        "vertex_three = float(input(\"Digite a terceita reta: \"))\n",
        "\n",
        "if  (vertex_one < vertex_two + vertex_three) and (vertex_two < vertex_one + vertex_three) and (vertex_three < vertex_one + vertex_two):\n",
        "  print(\"Essas retas podem forma um triângulo, pois o comprimento de cada lado é menor que a soma dos outros dois lados.\")\n",
        "  if vertex_one == vertex_two and vertex_three == vertex_two:\n",
        "    print(\"Essas retas irão formar um triângulo EQUILÁTERO.\")\n",
        "  elif vertex_one == vertex_two or vertex_two == vertex_three or vertex_one == vertex_three:\n",
        "    print(\"Essas retas irão formar um triângulo ISÓCELES\")\n",
        "  elif vertex_one != vertex_two and vertex_two != vertex_three and vertex_three != vertex_one:\n",
        "    print(\"Essas retas irão formar um triângulo ESCALENO\")\n",
        "else:\n",
        "  print(\"Essas retas não podem formar um triângulo\")"
      ],
      "execution_count": 72,
      "outputs": [
        {
          "output_type": "stream",
          "text": [
            "Digite a primeira reta: 3.5\n",
            "Digite a segunda reta: 2.5\n",
            "Digite a terceita reta: 4\n",
            "Essas retas podem forma um triângulo, pois o comprimento de cada lado é menor que a soma dos outros dois lados.\n",
            "Essas retas irão formar um triângulo ESCALENO\n"
          ],
          "name": "stdout"
        }
      ]
    }
  ]
}