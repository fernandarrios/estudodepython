{
  "nbformat": 4,
  "nbformat_minor": 0,
  "metadata": {
    "colab": {
      "name": "Desafio 012",
      "provenance": []
    },
    "kernelspec": {
      "name": "python3",
      "display_name": "Python 3"
    },
    "language_info": {
      "name": "python"
    }
  },
  "cells": [
    {
      "cell_type": "markdown",
      "metadata": {
        "id": "9Kl6K5MY3iOV"
      },
      "source": [
        "**Desafio 012:**\n",
        "\n",
        "Faça um algoritmo que leia o preço de um produto e mostre seu novo preço, com 5% de desconto.\n",
        "\n",
        "*Certo*"
      ]
    },
    {
      "cell_type": "code",
      "metadata": {
        "colab": {
          "base_uri": "https://localhost:8080/"
        },
        "id": "tUOm-7U33ibN",
        "outputId": "9b7e6de4-eaa8-46a6-e713-8874ca2f6029"
      },
      "source": [
        "produto = float(input('Digite o preço do produto: R$'))\n",
        "desc = produto - (produto * 0.05)\n",
        "print(f'PARABÉNS! Você ganhou 5% de desconto!\\nO preço total da compra é {desc:.2f}.')"
      ],
      "execution_count": 30,
      "outputs": [
        {
          "output_type": "stream",
          "text": [
            "Digite o preço do produto: R$50\n",
            "PARABÉNS! Você ganhou 5% de desconto!\n",
            "O preço total da compra é 47.50.\n"
          ],
          "name": "stdout"
        }
      ]
    }
  ]
}