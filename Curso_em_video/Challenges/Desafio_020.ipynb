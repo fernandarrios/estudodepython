{
  "nbformat": 4,
  "nbformat_minor": 0,
  "metadata": {
    "colab": {
      "name": "Desafio 020",
      "provenance": []
    },
    "kernelspec": {
      "name": "python3",
      "display_name": "Python 3"
    },
    "language_info": {
      "name": "python"
    }
  },
  "cells": [
    {
      "cell_type": "markdown",
      "metadata": {
        "id": "9Kl6K5MY3iOV"
      },
      "source": [
        "**Desafio 020:**\n",
        "\n",
        "O mesmo professor do desafio anterior quer sortear a ordem de apresentação de trabalhos dos alunos. Faça um programa que leia o nome dos quatro alunos e mostre a ordem sorteada.\n",
        "\n",
        "*Corrigido*"
      ]
    },
    {
      "cell_type": "code",
      "metadata": {
        "id": "tUOm-7U33ibN"
      },
      "source": [
        "import random\n",
        "#o erro foi que eu tentei criar uma variável para o modo shuffle.\n",
        "#apres = random.shuffle(aluna, random=None)"
      ],
      "execution_count": 2,
      "outputs": []
    },
    {
      "cell_type": "code",
      "metadata": {
        "id": "IzEXct1-RpsP",
        "outputId": "ce81c310-0170-4053-8aaa-bbd80781f3db",
        "colab": {
          "base_uri": "https://localhost:8080/"
        }
      },
      "source": [
        "# código corrigido\n",
        "from random import shuffle\n",
        "aluna = ['Rita','Joana','Fernanda','Josefina']\n",
        "shuffle(aluna)\n",
        "print(f'A ordem de apresentação será: {aluna} ')"
      ],
      "execution_count": 3,
      "outputs": [
        {
          "output_type": "stream",
          "text": [
            "A ordem de apresentação será: ['Joana', 'Josefina', 'Rita', 'Fernanda'] \n"
          ],
          "name": "stdout"
        }
      ]
    }
  ]
}