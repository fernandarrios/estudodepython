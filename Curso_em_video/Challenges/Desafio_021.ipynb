{
  "nbformat": 4,
  "nbformat_minor": 0,
  "metadata": {
    "colab": {
      "name": "Desafio 021",
      "provenance": []
    },
    "kernelspec": {
      "name": "python3",
      "display_name": "Python 3"
    },
    "language_info": {
      "name": "python"
    }
  },
  "cells": [
    {
      "cell_type": "markdown",
      "metadata": {
        "id": "9Kl6K5MY3iOV"
      },
      "source": [
        "**Desafio 021:**\n",
        "\n",
        "Crie um programa que leia o nome completo de uma pessoa e mostre: \n",
        "\n",
        "- O nome com todas as letras maiúsculas;\n",
        "\n",
        "- O nome com todas minúsculas;\n",
        "\n",
        "- Quantas letras ao todo (sem considerar espaços);\n",
        "\n",
        "- Quantas letras tem o primeiro nome;\n",
        "\n",
        "*Certo*"
      ]
    },
    {
      "cell_type": "code",
      "metadata": {
        "colab": {
          "base_uri": "https://localhost:8080/"
        },
        "id": "tUOm-7U33ibN",
        "outputId": "ae1f2139-3468-46ef-aef7-9ca80a0b4ec4"
      },
      "source": [
        "name = str(input('Digite seu nome completo: ')).strip()\n",
        "print(f'Seu nome em maiúscula: {name.upper()}.\\nEm minúscula: {name.lower()}.\\nSeu nome tem {len(name)- name.count(\" \")} letras.\\nSeu primeiro nome tem {name.find(\" \")} letras.')"
      ],
      "execution_count": 5,
      "outputs": [
        {
          "output_type": "stream",
          "text": [
            "Digite seu nome completo: Fernanda Reginaldo Rios\n",
            "Seu nome em maiúscula: FERNANDA REGINALDO RIOS.\n",
            "Em minúscula: fernanda reginaldo rios.\n",
            "Seu nome tem 21 letras.\n",
            "Seu primeiro nome tem 8 letras.\n"
          ],
          "name": "stdout"
        }
      ]
    }
  ]
}