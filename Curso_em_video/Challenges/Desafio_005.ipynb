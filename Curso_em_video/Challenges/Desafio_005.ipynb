{
  "nbformat": 4,
  "nbformat_minor": 0,
  "metadata": {
    "colab": {
      "name": "Desafio 005",
      "provenance": []
    },
    "kernelspec": {
      "name": "python3",
      "display_name": "Python 3"
    },
    "language_info": {
      "name": "python"
    }
  },
  "cells": [
    {
      "cell_type": "markdown",
      "metadata": {
        "id": "9Kl6K5MY3iOV"
      },
      "source": [
        "**Desafio 005:**\n",
        "\n",
        "Faça um programa que leia um número inteiro e mostre na tela o seu sucessor e seu antecessor.\n",
        "\n",
        "*Certo*"
      ]
    },
    {
      "cell_type": "code",
      "metadata": {
        "colab": {
          "base_uri": "https://localhost:8080/"
        },
        "id": "tUOm-7U33ibN",
        "outputId": "33aff8a6-5828-4a99-a951-933697901a38"
      },
      "source": [
        "n1 = int(input('Digite um número: '))\n",
        "\n",
        "print(f'O sucessor de {n1} é {n1+1} e o antecessor de {n1} é {n1-1}')"
      ],
      "execution_count": 21,
      "outputs": [
        {
          "output_type": "stream",
          "text": [
            "Digite um número: 8\n",
            "O sucessor de 8 é 9 e o antecessor de 8 é 7\n"
          ],
          "name": "stdout"
        }
      ]
    }
  ]
}