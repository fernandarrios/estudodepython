{
  "nbformat": 4,
  "nbformat_minor": 0,
  "metadata": {
    "colab": {
      "name": "Desafio 023",
      "provenance": []
    },
    "kernelspec": {
      "name": "python3",
      "display_name": "Python 3"
    },
    "language_info": {
      "name": "python"
    }
  },
  "cells": [
    {
      "cell_type": "markdown",
      "metadata": {
        "id": "9Kl6K5MY3iOV"
      },
      "source": [
        "**Desafio 023:**\n",
        "\n",
        "Crie um programa que leia o nome de uma cidade e difa se ela começa ou não com o nome \"Santo\". \n",
        "\n",
        "*Corrigido*"
      ]
    },
    {
      "cell_type": "code",
      "metadata": {
        "colab": {
          "base_uri": "https://localhost:8080/"
        },
        "id": "tUOm-7U33ibN",
        "outputId": "69a7a32a-753e-4576-af80-c7e362589f6f"
      },
      "source": [
        "city = str(input('Digite o nome da cidade que você mora: ')).strip()\n",
        "print('A cidade que vocÊ mora começa com Santo?\\nAnalisando...\\n')\n",
        "print(city[:5].upper() == 'SANTO')"
      ],
      "execution_count": 7,
      "outputs": [
        {
          "output_type": "stream",
          "text": [
            "Digite o nome da cidade que você mora: Belo Horizonte\n",
            "A cidade que vocÊ mora começa com Santo?\n",
            "Analisando...\n",
            "\n",
            "False\n"
          ],
          "name": "stdout"
        }
      ]
    }
  ]
}