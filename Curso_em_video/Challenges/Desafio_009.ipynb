{
  "nbformat": 4,
  "nbformat_minor": 0,
  "metadata": {
    "colab": {
      "name": "Desafio 009",
      "provenance": []
    },
    "kernelspec": {
      "name": "python3",
      "display_name": "Python 3"
    },
    "language_info": {
      "name": "python"
    }
  },
  "cells": [
    {
      "cell_type": "markdown",
      "metadata": {
        "id": "9Kl6K5MY3iOV"
      },
      "source": [
        "**Desafio 009:**\n",
        "\n",
        "Faça um programa que leia um número inteiro qualquer e mostre na tela sua tabuada.\n",
        "\n",
        "*Corrigido*"
      ]
    },
    {
      "cell_type": "code",
      "metadata": {
        "colab": {
          "base_uri": "https://localhost:8080/"
        },
        "id": "tUOm-7U33ibN",
        "outputId": "43a4ce9d-e0cf-4178-8c82-aeda0e71ff71"
      },
      "source": [
        "#código elaborado junto com o professor\n",
        "num = int(input('Digite um número para ver sua tabuada: '))\n",
        "print('-'*12)\n",
        "print(f'{num} x {1:2} = {num*1}')\n",
        "print(f'{num} x {2:2} = {num*2}')\n",
        "print(f'{num} x {3:2} = {num*3}')\n",
        "print(f'{num} x {4:2} = {num*4}')\n",
        "print(f'{num} x {5:2} = {num*5}')\n",
        "print(f'{num} x {6:2} = {num*6}')\n",
        "print(f'{num} x {7:2} = {num*7}')\n",
        "print(f'{num} x {8:2} = {num*8}')\n",
        "print(f'{num} x {9:2} = {num*9}')\n",
        "print(f'{num} x {10:2} = {num*10}')\n",
        "print('-'*12)"
      ],
      "execution_count": 26,
      "outputs": [
        {
          "output_type": "stream",
          "text": [
            "Digite um número para ver sua tabuada: 9\n",
            "------------\n",
            "9 x  1 = 9\n",
            "9 x  2 = 18\n",
            "9 x  3 = 27\n",
            "9 x  4 = 36\n",
            "9 x  5 = 45\n",
            "9 x  6 = 54\n",
            "9 x  7 = 63\n",
            "9 x  8 = 72\n",
            "9 x  9 = 81\n",
            "9 x 10 = 90\n",
            "------------\n"
          ],
          "name": "stdout"
        }
      ]
    }
  ]
}