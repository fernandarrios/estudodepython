{
  "nbformat": 4,
  "nbformat_minor": 0,
  "metadata": {
    "colab": {
      "name": "Desafio 017",
      "provenance": []
    },
    "kernelspec": {
      "name": "python3",
      "display_name": "Python 3"
    },
    "language_info": {
      "name": "python"
    }
  },
  "cells": [
    {
      "cell_type": "markdown",
      "metadata": {
        "id": "9Kl6K5MY3iOV"
      },
      "source": [
        "**Desafio 017:**\n",
        "\n",
        "Faça um programa que leia o cateto oposto e o cateto adjacente de um triângulo retângulo, calcule e mostre o cumprimento da hipotenusa.\n",
        "\n",
        "*Certo*"
      ]
    },
    {
      "cell_type": "code",
      "metadata": {
        "colab": {
          "base_uri": "https://localhost:8080/"
        },
        "id": "tUOm-7U33ibN",
        "outputId": "0fd703a3-627e-411e-cd9a-e97ec4b49453"
      },
      "source": [
        "import math\n",
        "cateto1 = float(input('Insira o cateto oposto do triângulo: '))\n",
        "cateto2 = float(input('Insira o cateto adjacente do triângulo: '))\n",
        "hipo = math.hypot(cateto1,cateto2)\n",
        "print(f'Medidas do triângulo.\\nCateto oposto: {cateto1}.\\nCateto adjacente: {cateto2}.\\nHipotenusa: {hipo:.3f}')"
      ],
      "execution_count": 8,
      "outputs": [
        {
          "output_type": "stream",
          "text": [
            "Digite um número qualquer: 4.50\n",
            "A parte inteira do número 4.5 é 4\n"
          ],
          "name": "stdout"
        }
      ]
    }
  ]
}