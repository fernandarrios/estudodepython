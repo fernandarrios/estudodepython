{
  "nbformat": 4,
  "nbformat_minor": 0,
  "metadata": {
    "colab": {
      "name": "Desafio 033",
      "provenance": []
    },
    "kernelspec": {
      "name": "python3",
      "display_name": "Python 3"
    },
    "language_info": {
      "name": "python"
    }
  },
  "cells": [
    {
      "cell_type": "markdown",
      "metadata": {
        "id": "9Kl6K5MY3iOV"
      },
      "source": [
        "**Desafio 033:**\n",
        "\n",
        "Escreva um programa que pergunte o salário de um funcionário e calcule o valor do seu aumento.\n",
        "\n",
        "Para salários superiores a R$1.250,00, calcule um aumento de 10%.\n",
        "\n",
        "Para os inferiores ou iguais, o aumento é de 15%.\n",
        "\n",
        "*Certo*"
      ]
    },
    {
      "cell_type": "code",
      "metadata": {
        "colab": {
          "base_uri": "https://localhost:8080/"
        },
        "id": "F5pYK5ZJUDGW",
        "outputId": "1dc8e970-9ef1-4cfe-fe0d-34a264347a06"
      },
      "source": [
        "salary = float(input(\"Digite seu salário: \"))\n",
        "\n",
        "if salary <= 1250:\n",
        "  pay_rise = (salary * 0.15) + salary\n",
        "  print(f\"Parabéns! Seu aumento salarial foi de 15%. Você passará a ganhar R${pay_rise:.2f}\")\n",
        "else: \n",
        "  pay_rise = (salary * 0.10) + salary\n",
        "  print(f\"Parabéns! Seu aumento salarial foi de 10%. Você passará a ganhar R${pay_rise:.2f}\")"
      ],
      "execution_count": 19,
      "outputs": [
        {
          "output_type": "stream",
          "text": [
            "Digite seu salário: 1500\n",
            "Parabéns! Seu aumento salarial foi de 10%. Você passará a ganhar R$1650.00\n"
          ],
          "name": "stdout"
        }
      ]
    }
  ]
}