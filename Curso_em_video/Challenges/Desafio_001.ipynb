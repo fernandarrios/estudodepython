{
  "nbformat": 4,
  "nbformat_minor": 0,
  "metadata": {
    "colab": {
      "name": "Desafio 001",
      "provenance": []
    },
    "kernelspec": {
      "name": "python3",
      "display_name": "Python 3"
    },
    "language_info": {
      "name": "python"
    }
  },
  "cells": [
    {
      "cell_type": "markdown",
      "metadata": {
        "id": "9Kl6K5MY3iOV"
      },
      "source": [
        "**Desafio 001:**\n",
        "\n",
        "Crie um script de python que leia o nome de uma pessoa e mostre uma mensagem de boas-vindas de acordo com o valor digitado. \n",
        "\n",
        "*Certo*\n"
      ]
    },
    {
      "cell_type": "code",
      "metadata": {
        "colab": {
          "base_uri": "https://localhost:8080/"
        },
        "id": "tUOm-7U33ibN",
        "outputId": "f7618731-59ce-452c-8a25-23b3b2c45eb9"
      },
      "source": [
        "nome = input('Notamos que é o seu primeiro acesso aqui. Qual o seu nome? ')\n",
        "print(nome,', seja muito bem-vindo(a)!')"
      ],
      "execution_count": 1,
      "outputs": [
        {
          "output_type": "stream",
          "text": [
            "Notamos que é o seu primeiro acesso aqui. Qual o seu nome? Fernanda Rios\n",
            "Fernanda Rios , seja muito bem-vindo(a)!\n"
          ],
          "name": "stdout"
        }
      ]
    }
  ]
}