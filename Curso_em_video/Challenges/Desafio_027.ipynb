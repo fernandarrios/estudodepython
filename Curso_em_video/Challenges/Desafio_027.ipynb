{
  "nbformat": 4,
  "nbformat_minor": 0,
  "metadata": {
    "colab": {
      "name": "Desafio 027",
      "provenance": []
    },
    "kernelspec": {
      "name": "python3",
      "display_name": "Python 3"
    },
    "language_info": {
      "name": "python"
    }
  },
  "cells": [
    {
      "cell_type": "markdown",
      "metadata": {
        "id": "9Kl6K5MY3iOV"
      },
      "source": [
        "**Desafio 027:**\n",
        "\n",
        "Escreva um programa que faça o computador \"pensar\" em um número inteiro entre 0 e 5 e peça para o usuário tentar descobrir qual foi o número escolhido pelo computador.\n",
        "\n",
        "O programa deverá escrevar na tela se o usuário venceu ou perdeu.\n",
        "\n",
        "*Certo*"
      ]
    },
    {
      "cell_type": "code",
      "metadata": {
        "colab": {
          "base_uri": "https://localhost:8080/"
        },
        "id": "tUOm-7U33ibN",
        "outputId": "c2abea65-2d3f-4cd9-f279-795accdaa721"
      },
      "source": [
        "from random import  randrange\n",
        "\n",
        "computer_choice = randrange(0, 5, 1)\n",
        "\n",
        "user_choice = int(input(\"Escolha um número de 0 a 5: \"))\n",
        "if user_choice == computer_choice:\n",
        "  print(\"Você venceu!!\")\n",
        "else:\n",
        "  print(f\"O computador escolheu {computer_choice}. Você perdeu!\")"
      ],
      "execution_count": 11,
      "outputs": [
        {
          "output_type": "stream",
          "text": [
            "Escolha um número de 0 a 5: 5\n",
            "O computador escolheu 0. Você perdeu!\n"
          ],
          "name": "stdout"
        }
      ]
    }
  ]
}