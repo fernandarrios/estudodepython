{
  "nbformat": 4,
  "nbformat_minor": 0,
  "metadata": {
    "colab": {
      "name": "Desafio 030",
      "provenance": []
    },
    "kernelspec": {
      "name": "python3",
      "display_name": "Python 3"
    },
    "language_info": {
      "name": "python"
    }
  },
  "cells": [
    {
      "cell_type": "markdown",
      "metadata": {
        "id": "9Kl6K5MY3iOV"
      },
      "source": [
        "**Desafio 030:**\n",
        "\n",
        "Desenvolva um programa que pergunte a distância de uma viagem em Km. Calcule o preço da passagem, cobrando R$0,50 por Km para viagens de até 200Km e 0,45 centavos para viagens mais longas.\n",
        "\n",
        "*Certo*"
      ]
    },
    {
      "cell_type": "code",
      "metadata": {
        "colab": {
          "base_uri": "https://localhost:8080/"
        },
        "id": "F5pYK5ZJUDGW",
        "outputId": "f28c00ba-59da-4d6c-a48f-fc73e35ed6bd"
      },
      "source": [
        "trip_distance = float(input(\"Para calcular o preço da passagem, digite a distância em km: \"))\n",
        "\n",
        "if trip_distance <= 200:\n",
        "  ticket_to_be_charged = trip_distance * 0.50\n",
        "else:\n",
        "  ticket_to_be_charged = trip_distance * 0.45\n",
        "print(f\"A passagem será de R${ticket_to_be_charged:.2f} para uma viagem de {trip_distance}Km.\")"
      ],
      "execution_count": 14,
      "outputs": [
        {
          "output_type": "stream",
          "text": [
            "Para calcular o preço da passagem, digite a distância em km: 500\n",
            "A passagem será de R$225.00 para uma viagem de 500.0Km.\n"
          ],
          "name": "stdout"
        }
      ]
    }
  ]
}