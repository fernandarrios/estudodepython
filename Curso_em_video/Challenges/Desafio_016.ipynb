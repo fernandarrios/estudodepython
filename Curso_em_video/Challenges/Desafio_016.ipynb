{
  "nbformat": 4,
  "nbformat_minor": 0,
  "metadata": {
    "colab": {
      "name": "Desafio 016",
      "provenance": []
    },
    "kernelspec": {
      "name": "python3",
      "display_name": "Python 3"
    },
    "language_info": {
      "name": "python"
    }
  },
  "cells": [
    {
      "cell_type": "markdown",
      "metadata": {
        "id": "9Kl6K5MY3iOV"
      },
      "source": [
        "**Desafio 016:**\n",
        "\n",
        "Crie um programa que leia um número real qualquer pelo teclado e mostre na tela sua porção inteira.\n",
        "\n",
        "Exemplo: Digite um número: 6.127\n",
        "\n",
        "O número 6.127 tem a parte inteira 6.\n",
        "\n",
        "*Certo*"
      ]
    },
    {
      "cell_type": "code",
      "metadata": {
        "colab": {
          "base_uri": "https://localhost:8080/"
        },
        "id": "tUOm-7U33ibN",
        "outputId": "0fd703a3-627e-411e-cd9a-e97ec4b49453"
      },
      "source": [
        "num3 = float(input('Digite um número qualquer: '))\n",
        "print(f'A parte inteira do número {num3} é {int(num3)}')"
      ],
      "execution_count": 8,
      "outputs": [
        {
          "output_type": "stream",
          "text": [
            "Digite um número qualquer: 4.50\n",
            "A parte inteira do número 4.5 é 4\n"
          ],
          "name": "stdout"
        }
      ]
    },
    {
      "cell_type": "code",
      "metadata": {
        "colab": {
          "base_uri": "https://localhost:8080/"
        },
        "id": "ZMTmYC8YPb_N",
        "outputId": "e0856dcd-d6ab-4892-e1b8-03c4681c87c9"
      },
      "source": [
        "#para esse exercício, o mais correto seria usar o trunc.  O novo código ficaria\n",
        "from math import trunc\n",
        "num = float(input('Digite um valor: '))\n",
        "print(f'O valor digitado foi {num} e sua porçao inteira é {trunc(num)}.')"
      ],
      "execution_count": 9,
      "outputs": [
        {
          "output_type": "stream",
          "text": [
            "Digite um valor: 5.555\n",
            "O valor digitado foi 5.555 e sua porçao inteira é 5.\n"
          ],
          "name": "stdout"
        }
      ]
    }
  ]
}