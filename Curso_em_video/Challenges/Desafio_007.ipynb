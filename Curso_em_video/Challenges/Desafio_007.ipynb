{
  "nbformat": 4,
  "nbformat_minor": 0,
  "metadata": {
    "colab": {
      "name": "Desafio 007",
      "provenance": []
    },
    "kernelspec": {
      "name": "python3",
      "display_name": "Python 3"
    },
    "language_info": {
      "name": "python"
    }
  },
  "cells": [
    {
      "cell_type": "markdown",
      "metadata": {
        "id": "9Kl6K5MY3iOV"
      },
      "source": [
        "**Desafio 007:**\n",
        "\n",
        "Desenvolva um programa que leia as duas notas de um aluno. Calcule e mostre sua média.\n",
        "\n",
        "*Certo*"
      ]
    },
    {
      "cell_type": "code",
      "metadata": {
        "colab": {
          "base_uri": "https://localhost:8080/"
        },
        "id": "tUOm-7U33ibN",
        "outputId": "425245f0-6d71-426a-9ddf-3928457b92d1"
      },
      "source": [
        "aluno = input('Digite o nome do aluno: ')\n",
        "nota1 = float(input(f'Digite a primeira nota do(a) aluno(a) {aluno}: '))\n",
        "nota2 = float(input(f'Digite a segunda nota do(a) aluno(a) {aluno}: '))\n",
        "print(f'Bem-Vindo ao sistema da ESCOLA EDUCAR \\nO aluno(a) {aluno} tirou na primeira prova a nota {nota1:.1f} e na segunda prova a nota {nota2:.1f}.',end=' ')  #um número flutuante depois da vírgula. ``` :.1f ```\n",
        "print(f'A média entre as duas provas foi: {(nota1+nota2)/2:.2f}')  #dois números flutuantes depois da vírgula. ``` :.2f ```"
      ],
      "execution_count": 24,
      "outputs": [
        {
          "output_type": "stream",
          "text": [
            "Digite o nome do aluno: Fernanda\n",
            "Digite a primeira nota do(a) aluno(a) Fernanda: 5\n",
            "Digite a segunda nota do(a) aluno(a) Fernanda: 10\n",
            "Bem-Vindo ao sistema da ESCOLA EDUCAR \n",
            "O aluno(a) Fernanda tirou na primeira prova a nota 5.0 e na segunda prova a nota 10.0. A média entre as duas provas foi: 7.50\n"
          ],
          "name": "stdout"
        }
      ]
    }
  ]
}