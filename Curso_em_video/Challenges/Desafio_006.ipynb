{
  "nbformat": 4,
  "nbformat_minor": 0,
  "metadata": {
    "colab": {
      "name": "Desafio 006",
      "provenance": []
    },
    "kernelspec": {
      "name": "python3",
      "display_name": "Python 3"
    },
    "language_info": {
      "name": "python"
    }
  },
  "cells": [
    {
      "cell_type": "markdown",
      "metadata": {
        "id": "9Kl6K5MY3iOV"
      },
      "source": [
        "**Desafio 006:**\n",
        "\n",
        "Crie um algoritmo que leia um número e mostre o seu dobro, tripo e raiz quadrada.\n",
        "\n",
        "*Certo*"
      ]
    },
    {
      "cell_type": "code",
      "metadata": {
        "colab": {
          "base_uri": "https://localhost:8080/"
        },
        "id": "tUOm-7U33ibN",
        "outputId": "892fff90-5d46-4d25-fd56-40a621c35f31"
      },
      "source": [
        "n1 = float(input('Digite um número: '))\n",
        "\n",
        "print(f'O dobro do número {n1} é {n1*2}. \\nO triplo do número {n1} é {n1*3} ',end=' ')\n",
        "print(f'A raiz quadrada do número {n1} é {n1**(1/2):.2f}.')  #dois números flutuantes depois da vírgula. ``` :.2f ``` "
      ],
      "execution_count": 22,
      "outputs": [
        {
          "output_type": "stream",
          "text": [
            "Digite um número: 54\n",
            "O dobro do número 54.0 é 108.0. \n",
            "O triplo do número 54.0 é 162.0  A raiz quadrada do número 54.0 é 7.35.\n"
          ],
          "name": "stdout"
        }
      ]
    }
  ]
}