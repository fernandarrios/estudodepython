{
  "nbformat": 4,
  "nbformat_minor": 0,
  "metadata": {
    "colab": {
      "name": "Desafio 011",
      "provenance": []
    },
    "kernelspec": {
      "name": "python3",
      "display_name": "Python 3"
    },
    "language_info": {
      "name": "python"
    }
  },
  "cells": [
    {
      "cell_type": "markdown",
      "metadata": {
        "id": "9Kl6K5MY3iOV"
      },
      "source": [
        "**Desafio 011:**\n",
        "\n",
        "Faça um programa que leia a largura e a altura de uma parede em metros. Calcule a sua área e a quantidade de tinta necessária para pintá-la, sabendo que cada litro de tinta pinta um área de 2m².\n",
        "\n",
        "*Certo*"
      ]
    },
    {
      "cell_type": "code",
      "metadata": {
        "colab": {
          "base_uri": "https://localhost:8080/"
        },
        "id": "tUOm-7U33ibN",
        "outputId": "886ed267-88a1-4a3a-b6e4-663df429a458"
      },
      "source": [
        "altura = float(input('Digite a altura da parede em metros: '))\n",
        "largura = float(input('Digite a largura da parede em metros: '))\n",
        "\n",
        "print(f'A área será de {altura*largura}m² e a quantidade de tinta necessária para pintá-la será de {(altura*largura)/2:.2f}L.')"
      ],
      "execution_count": 29,
      "outputs": [
        {
          "output_type": "stream",
          "text": [
            "Digite a altura da parede em metros: 1.25\n",
            "Digite a largura da parede em metros: 2\n",
            "A área será de 2.5m² e a quantidade de tinta necessária para pintá-la será de 1.25L.\n"
          ],
          "name": "stdout"
        }
      ]
    }
  ]
}