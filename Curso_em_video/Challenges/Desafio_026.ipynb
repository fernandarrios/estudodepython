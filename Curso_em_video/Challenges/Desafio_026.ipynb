{
  "nbformat": 4,
  "nbformat_minor": 0,
  "metadata": {
    "colab": {
      "name": "Desafio 026",
      "provenance": []
    },
    "kernelspec": {
      "name": "python3",
      "display_name": "Python 3"
    },
    "language_info": {
      "name": "python"
    }
  },
  "cells": [
    {
      "cell_type": "markdown",
      "metadata": {
        "id": "9Kl6K5MY3iOV"
      },
      "source": [
        "**Desafio 026:**\n",
        "\n",
        "Faça um programa que leia o nome completo de uma pessoa, mostrando em seguida o primeiro e o último nome separadamente.\n",
        "\n",
        "Ex: Ana Maria de Souza\n",
        "\n",
        "Primeiro: Ana\n",
        "\n",
        "Último: Souza\n",
        "\n",
        "*Certo*"
      ]
    },
    {
      "cell_type": "code",
      "metadata": {
        "colab": {
          "base_uri": "https://localhost:8080/"
        },
        "id": "tUOm-7U33ibN",
        "outputId": "3f9c03af-dbd0-4b5e-928f-1e6794d64f3b"
      },
      "source": [
        "name = str(input('Digite seu nome completo: ')).strip()\n",
        "name_separated = name.split() \n",
        "print(f'Seu nome: {name}.\\nPrimeiro: {name_separated[0]}.\\nÚltimo: {name_separated[len(name_separated)-1]} ')"
      ],
      "execution_count": 10,
      "outputs": [
        {
          "output_type": "stream",
          "text": [
            "Digite seu nome completo: Pedro Silva dos Santos\n",
            "Seu nome: Pedro Silva dos Santos.\n",
            "Primeiro: Pedro.\n",
            "Último: Santos \n"
          ],
          "name": "stdout"
        }
      ]
    }
  ]
}