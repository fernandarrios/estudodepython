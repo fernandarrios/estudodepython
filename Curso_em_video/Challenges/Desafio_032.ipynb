{
  "nbformat": 4,
  "nbformat_minor": 0,
  "metadata": {
    "colab": {
      "name": "Desafio 032",
      "provenance": []
    },
    "kernelspec": {
      "name": "python3",
      "display_name": "Python 3"
    },
    "language_info": {
      "name": "python"
    }
  },
  "cells": [
    {
      "cell_type": "markdown",
      "metadata": {
        "id": "9Kl6K5MY3iOV"
      },
      "source": [
        "**Desafio 032:**\n",
        "\n",
        "Faça um programa que leia três números e mostre qual é o maior e qual é o menor.\n",
        "\n",
        "*Corrigido*"
      ]
    },
    {
      "cell_type": "code",
      "metadata": {
        "colab": {
          "base_uri": "https://localhost:8080/"
        },
        "id": "F5pYK5ZJUDGW",
        "outputId": "463b6fb2-8fc0-4dae-eee1-eaa58d35be5d"
      },
      "source": [
        "number_one = int(input(\"Digite o primeiro número: \"))\n",
        "number_two = int(input(\"Digite o segundo número: \"))\n",
        "number_three = int(input(\"Digite o terceito número: \"))\n",
        "\n",
        "minor = number_one\n",
        "if number_two < number_one and number_two < number_three:\n",
        "  minor = number_two\n",
        "if number_three < number_one and number_three < number_two:\n",
        "  minor = number_three\n",
        "print(f\"O menor número digitado foi {minor}\")"
      ],
      "execution_count": 18,
      "outputs": [
        {
          "output_type": "stream",
          "text": [
            "Digite o primeiro número: 8\n",
            "Digite o segundo número: 5\n",
            "Digite o terceito número: 1\n",
            "O menor número digitado foi 1\n"
          ],
          "name": "stdout"
        }
      ]
    }
  ]
}