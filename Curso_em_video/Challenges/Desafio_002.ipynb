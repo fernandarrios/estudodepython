{
  "nbformat": 4,
  "nbformat_minor": 0,
  "metadata": {
    "colab": {
      "name": "Desafio 002",
      "provenance": []
    },
    "kernelspec": {
      "name": "python3",
      "display_name": "Python 3"
    },
    "language_info": {
      "name": "python"
    }
  },
  "cells": [
    {
      "cell_type": "markdown",
      "metadata": {
        "id": "9Kl6K5MY3iOV"
      },
      "source": [
        "**Desafio 002:**\n",
        "\n",
        "Crie um script python que leia o dia, o mês e o ano de nascimento de uma pessoa e mostre com a data formatada.\n",
        "\n",
        "*Certo*\n"
      ]
    },
    {
      "cell_type": "code",
      "metadata": {
        "colab": {
          "base_uri": "https://localhost:8080/"
        },
        "id": "tUOm-7U33ibN",
        "outputId": "af435c61-2ac8-41f7-a6ba-bab906e3079e"
      },
      "source": [
        "nome = (input('Qual o seu nome? '))\n",
        "dia =  int(input('Qual o dia do seu nascimento? '))\n",
        "mes = int(input('Qual o mês do seu nascimento? '))\n",
        "ano= int(input('Qual o ano do seu nascimento? '))\n",
        "print(nome,' sua data de nascimento é: ',dia,'/',mes,'/',ano)"
      ],
      "execution_count": 2,
      "outputs": [
        {
          "output_type": "stream",
          "text": [
            "Qual o seu nome? Regina\n",
            "Qual o dia do seu nascimento? 27\n",
            "Qual o mês do seu nascimento? 07\n",
            "Qual o ano do seu nascimento? 1997\n",
            "Regina  sua data de nascimento é:  27 / 7 / 1997\n"
          ],
          "name": "stdout"
        }
      ]
    }
  ]
}