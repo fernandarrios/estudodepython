{
  "nbformat": 4,
  "nbformat_minor": 0,
  "metadata": {
    "colab": {
      "name": "Desafio 024",
      "provenance": []
    },
    "kernelspec": {
      "name": "python3",
      "display_name": "Python 3"
    },
    "language_info": {
      "name": "python"
    }
  },
  "cells": [
    {
      "cell_type": "markdown",
      "metadata": {
        "id": "9Kl6K5MY3iOV"
      },
      "source": [
        "**Desafio 024:**\n",
        "\n",
        "Crie um programa que leia o nome de uma pessoa e diga se ela tem \"Silva\" no nome.\n",
        "\n",
        "*Certo*"
      ]
    },
    {
      "cell_type": "code",
      "metadata": {
        "colab": {
          "base_uri": "https://localhost:8080/"
        },
        "id": "tUOm-7U33ibN",
        "outputId": "e4dad80f-b515-45f0-d8dd-bd756a52a8d8"
      },
      "source": [
        "name_to_be_analysed = str(input('Digite seu nome completo: ')).strip()\n",
        "print(f'Analisando se seu nome tem Silva.\\n...\\n{ \"SILVA\" in name_to_be_analysed.upper()}.')"
      ],
      "execution_count": 8,
      "outputs": [
        {
          "output_type": "stream",
          "text": [
            "Digite seu nome completo: Jurema dos Santos\n",
            "Analisando se seu nome tem Silva.\n",
            "...\n",
            "False.\n"
          ],
          "name": "stdout"
        }
      ]
    }
  ]
}