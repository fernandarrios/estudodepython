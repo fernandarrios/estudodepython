{
  "nbformat": 4,
  "nbformat_minor": 0,
  "metadata": {
    "colab": {
      "name": "Desafio 014",
      "provenance": []
    },
    "kernelspec": {
      "name": "python3",
      "display_name": "Python 3"
    },
    "language_info": {
      "name": "python"
    }
  },
  "cells": [
    {
      "cell_type": "markdown",
      "metadata": {
        "id": "9Kl6K5MY3iOV"
      },
      "source": [
        "**Desafio 014:**\n",
        "\n",
        "Escreva um programa que converta uma temperatura digitando em graus Celsius e converta para graus Fahrenheit.\n",
        "\n",
        "*Certo*"
      ]
    },
    {
      "cell_type": "code",
      "metadata": {
        "colab": {
          "base_uri": "https://localhost:8080/"
        },
        "id": "tUOm-7U33ibN",
        "outputId": "03145a03-39d5-4b52-b49c-14c497d87453"
      },
      "source": [
        "celsiu = float(input('Digite a temperatura em graus Celsius: '))\n",
        "print(f'{celsiu:.2f}ºC equivale à {(celsiu*1.8)+32:.2f}ºF')"
      ],
      "execution_count": 3,
      "outputs": [
        {
          "output_type": "stream",
          "text": [
            "Digite a temperatura em graus Celsius: 24\n",
            "24.00ºC equivale à 75.20ºF\n"
          ],
          "name": "stdout"
        }
      ]
    },
    {
      "cell_type": "code",
      "metadata": {
        "colab": {
          "base_uri": "https://localhost:8080/"
        },
        "id": "zblXqCevO95N",
        "outputId": "eacadbad-340b-4815-8d23-9934d902f2e1"
      },
      "source": [
        "fahre = float(input('Digite a temperatura em graus Fahrenheit: '))\n",
        "print(f'{fahre:.2f}ºF equivale à {(fahre-32)/1.8:.2f}ºC')"
      ],
      "execution_count": 4,
      "outputs": [
        {
          "output_type": "stream",
          "text": [
            "Digite a temperatura em graus Fahrenheit: 150\n",
            "150.00ºF equivale à 65.56ºC\n"
          ],
          "name": "stdout"
        }
      ]
    }
  ]
}