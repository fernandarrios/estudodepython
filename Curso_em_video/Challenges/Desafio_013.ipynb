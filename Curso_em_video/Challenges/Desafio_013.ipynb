{
  "nbformat": 4,
  "nbformat_minor": 0,
  "metadata": {
    "colab": {
      "name": "Desafio 013",
      "provenance": []
    },
    "kernelspec": {
      "name": "python3",
      "display_name": "Python 3"
    },
    "language_info": {
      "name": "python"
    }
  },
  "cells": [
    {
      "cell_type": "markdown",
      "metadata": {
        "id": "9Kl6K5MY3iOV"
      },
      "source": [
        "**Desafio 013:**\n",
        "\n",
        "Faça um algoritmo que leia o salário de um funcionário e mostre seu novo salário, com 15% de aumento.\n",
        "\n",
        "*Certo*"
      ]
    },
    {
      "cell_type": "code",
      "metadata": {
        "colab": {
          "base_uri": "https://localhost:8080/"
        },
        "id": "tUOm-7U33ibN",
        "outputId": "2783da49-10b1-4631-efe3-305e15ec8f96"
      },
      "source": [
        "salario = float(input('PARABÉNS! VOCE GANHOU 15% DE AUMENTO.\\nDigite a seguir o valor do seu salário para realizarmos o reajuste: '))\n",
        "atual = salario + (salario * 0.15)\n",
        "print(f'Com o reajuste de 15%, você passou a ganhar R${atual:.2f}.')"
      ],
      "execution_count": 2,
      "outputs": [
        {
          "output_type": "stream",
          "text": [
            "PARABÉNS! VOCE GANHOU 15% DE AUMENTO.\n",
            "Digite a seguir o valor do seu salário para realizarmos o reajuste: 1550\n",
            "Com o reajuste de 15%, você passou a ganhar R$1782.50.\n"
          ],
          "name": "stdout"
        }
      ]
    }
  ]
}