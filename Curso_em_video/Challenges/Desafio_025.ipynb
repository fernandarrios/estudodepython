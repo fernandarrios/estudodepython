{
  "nbformat": 4,
  "nbformat_minor": 0,
  "metadata": {
    "colab": {
      "name": "Desafio 025",
      "provenance": []
    },
    "kernelspec": {
      "name": "python3",
      "display_name": "Python 3"
    },
    "language_info": {
      "name": "python"
    }
  },
  "cells": [
    {
      "cell_type": "markdown",
      "metadata": {
        "id": "9Kl6K5MY3iOV"
      },
      "source": [
        "**Desafio 025:**\n",
        "\n",
        "Faça um programa que leia uma frase pelo teclado e mostre:\n",
        "\n",
        "- Quantas vezes aparece a letra \"A\".\n",
        "\n",
        "- Em que posição ela aparece a primeira vez.\n",
        "\n",
        "- Em que posição ela aparece a úlltima vez.\n",
        "\n",
        "*Certo*"
      ]
    },
    {
      "cell_type": "code",
      "metadata": {
        "colab": {
          "base_uri": "https://localhost:8080/"
        },
        "id": "tUOm-7U33ibN",
        "outputId": "aa883b06-b685-4cbb-c6d3-b26c0e82ea00"
      },
      "source": [
        "frase = str(input(\"Digite uma frase: \")).upper().strip()\n",
        "print(f\"Analisando a frase\\n...\\nQuantidade de 'A': {frase.count('A')}.\\nA primeira letra A apareceu na posição: {frase.find('A') + 1}.\\nA última letra A apareceu na posição {frase.rfind('A') + 1}\")"
      ],
      "execution_count": 9,
      "outputs": [
        {
          "output_type": "stream",
          "text": [
            "Digite uma frase: A vida é bela\n",
            "Analisando a frase\n",
            "...\n",
            "Quantidade de 'A': 3.\n",
            "A primeira letra A apareceu na posição: 1.\n",
            "A última letra A apareceu na posição 13\n"
          ],
          "name": "stdout"
        }
      ]
    }
  ]
}